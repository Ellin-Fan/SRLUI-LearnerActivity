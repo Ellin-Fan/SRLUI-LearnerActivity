{
 "cells": [
  {
   "cell_type": "markdown",
   "metadata": {},
   "source": [
    "# SRLUI and Study Outcomes"
   ]
  },
  {
   "cell_type": "markdown",
   "metadata": {},
   "source": [
    "## Preparations"
   ]
  },
  {
   "cell_type": "code",
   "execution_count": 515,
   "metadata": {},
   "outputs": [],
   "source": [
    "import pandas as pd\n",
    "import numpy as np\n",
    "\n",
    "import math\n",
    "from scipy.stats import kendalltau\n",
    "from scipy.stats import ttest_ind\n",
    "from sklearn.linear_model import LogisticRegression\n",
    "import statsmodels.api as sm\n",
    "from statsmodels.formula.api import ols\n",
    "from datetime import datetime,timedelta\n",
    "\n",
    "%matplotlib inline\n",
    "import matplotlib\n",
    "import matplotlib.pyplot as plt\n",
    "import seaborn as sb\n",
    "import warnings\n",
    "warnings.filterwarnings('ignore')"
   ]
  },
  {
   "cell_type": "markdown",
   "metadata": {},
   "source": [
    "## 1. Overview of SRLUI Data\n",
    "- Target variables (study outcome(\n",
    "    - Continuous\n",
    "        - `Grade`\n",
    "        - `survival_days`\n",
    "    - Categorical\n",
    "        - binomial: `drop_out`\n",
    "- Independent variables\n",
    "    - Continuous\n",
    "    - Categorical\n",
    "        - binomial: `treatment`, `gender`, `useSRLUI`\n",
    "        - multi-level: `country`\n",
    "    - Ordinal: `age`, `education`, `userType`"
   ]
  },
  {
   "cell_type": "code",
   "execution_count": 516,
   "metadata": {},
   "outputs": [
    {
     "name": "stdout",
     "output_type": "stream",
     "text": [
      "<class 'pandas.core.frame.DataFrame'>\n",
      "Int64Index: 768 entries, 1 to 772\n",
      "Data columns (total 14 columns):\n",
      " #   Column           Non-Null Count  Dtype  \n",
      "---  ------           --------------  -----  \n",
      " 0   userId           768 non-null    int64  \n",
      " 1   courseId         768 non-null    object \n",
      " 2   Grade            768 non-null    int64  \n",
      " 3   leave_week       768 non-null    int64  \n",
      " 4   enrollment_week  768 non-null    int64  \n",
      " 5   survival_days    768 non-null    int64  \n",
      " 6   drop_out         768 non-null    int64  \n",
      " 7   treatment        768 non-null    object \n",
      " 8   gender           464 non-null    object \n",
      " 9   age              497 non-null    float64\n",
      " 10  education        461 non-null    object \n",
      " 11  country          727 non-null    object \n",
      " 12  useSRLUI         768 non-null    int64  \n",
      " 13  userType         312 non-null    object \n",
      "dtypes: float64(1), int64(7), object(6)\n",
      "memory usage: 90.0+ KB\n",
      "None\n"
     ]
    },
    {
     "data": {
      "text/html": [
       "<div>\n",
       "<style scoped>\n",
       "    .dataframe tbody tr th:only-of-type {\n",
       "        vertical-align: middle;\n",
       "    }\n",
       "\n",
       "    .dataframe tbody tr th {\n",
       "        vertical-align: top;\n",
       "    }\n",
       "\n",
       "    .dataframe thead th {\n",
       "        text-align: right;\n",
       "    }\n",
       "</style>\n",
       "<table border=\"1\" class=\"dataframe\">\n",
       "  <thead>\n",
       "    <tr style=\"text-align: right;\">\n",
       "      <th></th>\n",
       "      <th>userId</th>\n",
       "      <th>courseId</th>\n",
       "      <th>Grade</th>\n",
       "      <th>leave_week</th>\n",
       "      <th>enrollment_week</th>\n",
       "      <th>survival_days</th>\n",
       "      <th>drop_out</th>\n",
       "      <th>treatment</th>\n",
       "      <th>gender</th>\n",
       "      <th>age</th>\n",
       "      <th>education</th>\n",
       "      <th>country</th>\n",
       "      <th>useSRLUI</th>\n",
       "      <th>userType</th>\n",
       "    </tr>\n",
       "  </thead>\n",
       "  <tbody>\n",
       "    <tr>\n",
       "      <th>1</th>\n",
       "      <td>53576</td>\n",
       "      <td>BAMM101</td>\n",
       "      <td>75</td>\n",
       "      <td>13</td>\n",
       "      <td>1</td>\n",
       "      <td>90</td>\n",
       "      <td>0</td>\n",
       "      <td>control</td>\n",
       "      <td>m</td>\n",
       "      <td>27.0</td>\n",
       "      <td>undergrad</td>\n",
       "      <td>MX</td>\n",
       "      <td>0</td>\n",
       "      <td>NaN</td>\n",
       "    </tr>\n",
       "    <tr>\n",
       "      <th>2</th>\n",
       "      <td>503793</td>\n",
       "      <td>BAMM101</td>\n",
       "      <td>26</td>\n",
       "      <td>12</td>\n",
       "      <td>1</td>\n",
       "      <td>78</td>\n",
       "      <td>1</td>\n",
       "      <td>experiment</td>\n",
       "      <td>m</td>\n",
       "      <td>36.0</td>\n",
       "      <td>undergrad</td>\n",
       "      <td>MX</td>\n",
       "      <td>1</td>\n",
       "      <td>heavy</td>\n",
       "    </tr>\n",
       "    <tr>\n",
       "      <th>3</th>\n",
       "      <td>1392778</td>\n",
       "      <td>BAMM101</td>\n",
       "      <td>87</td>\n",
       "      <td>13</td>\n",
       "      <td>1</td>\n",
       "      <td>85</td>\n",
       "      <td>0</td>\n",
       "      <td>control</td>\n",
       "      <td>m</td>\n",
       "      <td>26.0</td>\n",
       "      <td>high_sch or under</td>\n",
       "      <td>0</td>\n",
       "      <td>0</td>\n",
       "      <td>NaN</td>\n",
       "    </tr>\n",
       "    <tr>\n",
       "      <th>4</th>\n",
       "      <td>1720976</td>\n",
       "      <td>BAMM101</td>\n",
       "      <td>75</td>\n",
       "      <td>14</td>\n",
       "      <td>1</td>\n",
       "      <td>89</td>\n",
       "      <td>0</td>\n",
       "      <td>control</td>\n",
       "      <td>m</td>\n",
       "      <td>NaN</td>\n",
       "      <td>post_grad</td>\n",
       "      <td>0</td>\n",
       "      <td>0</td>\n",
       "      <td>NaN</td>\n",
       "    </tr>\n",
       "    <tr>\n",
       "      <th>5</th>\n",
       "      <td>1910178</td>\n",
       "      <td>BAMM101</td>\n",
       "      <td>66</td>\n",
       "      <td>14</td>\n",
       "      <td>1</td>\n",
       "      <td>94</td>\n",
       "      <td>0</td>\n",
       "      <td>control</td>\n",
       "      <td>m</td>\n",
       "      <td>41.0</td>\n",
       "      <td>post_grad</td>\n",
       "      <td>NG</td>\n",
       "      <td>0</td>\n",
       "      <td>NaN</td>\n",
       "    </tr>\n",
       "  </tbody>\n",
       "</table>\n",
       "</div>"
      ],
      "text/plain": [
       "    userId courseId  Grade  leave_week  enrollment_week  survival_days  \\\n",
       "1    53576  BAMM101     75          13                1             90   \n",
       "2   503793  BAMM101     26          12                1             78   \n",
       "3  1392778  BAMM101     87          13                1             85   \n",
       "4  1720976  BAMM101     75          14                1             89   \n",
       "5  1910178  BAMM101     66          14                1             94   \n",
       "\n",
       "   drop_out   treatment gender   age          education country  useSRLUI  \\\n",
       "1         0     control      m  27.0          undergrad      MX         0   \n",
       "2         1  experiment      m  36.0          undergrad      MX         1   \n",
       "3         0     control      m  26.0  high_sch or under       0         0   \n",
       "4         0     control      m   NaN          post_grad       0         0   \n",
       "5         0     control      m  41.0          post_grad      NG         0   \n",
       "\n",
       "  userType  \n",
       "1      NaN  \n",
       "2    heavy  \n",
       "3      NaN  \n",
       "4      NaN  \n",
       "5      NaN  "
      ]
     },
     "execution_count": 516,
     "metadata": {},
     "output_type": "execute_result"
    }
   ],
   "source": [
    "data = pd.read_csv('SRLUImaster_v2.csv',index_col=0)\n",
    "print(data.info())\n",
    "data.head()"
   ]
  },
  {
   "cell_type": "markdown",
   "metadata": {},
   "source": [
    "## 2. Correlation Analysis\n",
    "- 2 steps of correlation analysis\n",
    "    1. Test whether there is significant correlation relationship\n",
    "    2. Quantify correlation\n",
    "\n",
    "\n",
    "#### How to do Correlation analysis of different types of variables\n",
    "- Summary\n",
    "    1. **Test**  <html><a href='https://datascience.stackexchange.com/questions/893/how-to-get-correlation-between-two-categorical-variable-and-a-categorical-variab'>reference</a></html>\n",
    "        - Continuous (Continuous with categorical/ordinal)\n",
    "            - 2 groups: t-test\n",
    "            - More groups: ANOVA\n",
    "        - Categorical - Chi-square with contingency table\n",
    "    2. **Quantify Correlation**\n",
    "        - Medium - a useful <html><a href='https://medium.com/@outside2SDs/an-overview-of-correlation-measures-between-categorical-and-continuous-variables-4c7f85610365'>summary</a></html>\n",
    "            - More methods provided in this article\n",
    "        - Research gate - a <html><a href='https://www.researchgate.net/post/Can_I_use_Pearsons_correlation_coefficient_to_know_the_relation_between_perception_and_gender_age_income'>link</a></html>\n",
    "            - Linear/normal/homoscedasticity - Pearson r\n",
    "            - Not normal - Pearson rho\n",
    "            - Ordinal - Spearman or Kendall rank correlation\n",
    "            - Continuous and categorical - eta-squared, or eta\n",
    "        - Categorical correlation - <html><a href='https://towardsdatascience.com/the-search-for-categorical-correlation-a1cf7f1888c9'>link</a></html>\n",
    "            - Cramer's V - symmetric\n",
    "            - Theil's U - not symmetric\n",
    "\n",
    "\n",
    "### 2.1 Correlation with `Grade`\n",
    "This is correlation analysis of categorical and continuous variables\n",
    "\n",
    "#### (1) Test of correlation\n",
    "\n",
    "<html>\n",
    "    <p>\n",
    "     I use one-way ANOVA <a href='https://www.pythonfordatascience.org/anova-python/'>here</a>.\n",
    "    </p>    \n",
    "</html>\n",
    "\n",
    "- ANOVA is mainly used to determine if data from various groups have a common means or not\n",
    "- Pre-requirement: homogeneity, normality\n"
   ]
  },
  {
   "cell_type": "code",
   "execution_count": 517,
   "metadata": {},
   "outputs": [
    {
     "name": "stdout",
     "output_type": "stream",
     "text": [
      "\n",
      " courseId\n",
      "                    sum_sq     df         F    PR(>F)\n",
      "C(courseId)   46523.688025    7.0  5.161789  0.000009\n",
      "Residual     978564.435673  760.0       NaN       NaN\n",
      "\n",
      " useSRLUI\n",
      "                   sum_sq     df         F    PR(>F)\n",
      "C(useSRLUI)  4.247964e+03    1.0  3.187512  0.074598\n",
      "Residual     1.020840e+06  766.0       NaN       NaN\n",
      "\n",
      " country\n",
      "                   sum_sq     df         F    PR(>F)\n",
      "C(country)  167698.777125   73.0  1.879604  0.000035\n",
      "Residual    798093.541994  653.0       NaN       NaN\n",
      "\n",
      " userType\n",
      "                    sum_sq     df         F    PR(>F)\n",
      "C(userType)   12114.007701    1.0  9.516757  0.002219\n",
      "Residual     394603.171786  310.0       NaN       NaN\n"
     ]
    }
   ],
   "source": [
    "Features = ['courseId','treatment', 'useSRLUI', 'gender', 'country', 'age', 'education', 'userType']\n",
    "\n",
    "def anova_table(aov):\n",
    "    aov['mean_sq'] = aov[:]['sum_sq']/aov[:]['df']\n",
    "    aov['eta_sq'] = aov[:-1]['sum_sq']/sum(aov['sum_sq'])\n",
    "    aov['omega_sq'] = (aov[:-1]['sum_sq']-(aov[:-1]['df']*aov['mean_sq'][-1]))/(sum(aov['sum_sq'])+aov['mean_sq'][-1])\n",
    "    cols = ['sum_sq', 'df', 'mean_sq', 'F', 'PR(>F)', 'eta_sq', 'omega_sq']\n",
    "    aov = aov[cols]\n",
    "    return aov\n",
    "\n",
    "for f in Features:\n",
    "    model = ols(f'Grade ~ C({f})', data, missing='drop').fit()\n",
    "    aov_table = sm.stats.anova_lm(model, typ=2)\n",
    "    if aov_table.iloc[0,-1]<0.1:   # when p-value < 0.1, there exists significant correlation relationship\n",
    "        print('\\n',f)\n",
    "        print(aov_table)"
   ]
  },
  {
   "cell_type": "code",
   "execution_count": 518,
   "metadata": {},
   "outputs": [
    {
     "data": {
      "text/plain": [
       "Ttest_indResult(statistic=-1.7853605019762158, pvalue=0.07459842187535716)"
      ]
     },
     "execution_count": 518,
     "metadata": {},
     "output_type": "execute_result"
    }
   ],
   "source": [
    "x = data[data['useSRLUI']==0]['Grade']\n",
    "y = data[data['useSRLUI']==1]['Grade']\n",
    "ttest_ind(x,y)\n",
    "\n",
    "# useSRLUI is binomial, this is a mean comparison between 2 groups which can be realized by t-test: same result"
   ]
  },
  {
   "cell_type": "raw",
   "metadata": {},
   "source": [
    "model = ols(f'Grade ~ C(treatment)+C(useSRLUI)', data).fit()\n",
    "aov_table = sm.stats.anova_lm(model, typ=2)\n",
    "aov_table\n",
    "# This is a difference between one-way ANOVA, two-way ANOVA"
   ]
  },
  {
   "cell_type": "markdown",
   "metadata": {},
   "source": [
    "#### (2) Quantify correlation\n",
    "\n",
    "- `courseId`, `useSRLUI`, `country`: categorical\n",
    "     - Use eta-squared to compute correlation <html><a href=\"https://www.statisticshowto.com/eta-squared/\">link</a></html>  <html><a href=\"https://www.theanalysisfactor.com/effect-size/\">link</a></html>\n",
    "- `userType`: ordinal\n",
    "    - Use Spearman/Kendall Rank Correlation for `userType` <html><a href=\"https://medium.com/analytics-vidhya/kendall-rank-correlation-python-19524cb0e9a0\">link</a>,</html>  <html><a href=\"https://docs.scipy.org/doc/scipy/reference/generated/scipy.stats.kendalltau.html\">kendalltau</a></html> \n",
    "    - Need to drop NA and convert to numerical ordinal values, like 0,1,2,3,...\n",
    "    \n",
    "Small correlation coefficients don't mean there is not big correlation. (i.e. Pearson Corr meansures linear correlation but there might be more complex correlation relationship.)\n",
    "\n",
    "Sometimes, in practice, the significance (p-value) is more meaningful than the absolute value of correlation coefficient as it might be influenced by the sample size, etc."
   ]
  },
  {
   "cell_type": "code",
   "execution_count": 5,
   "metadata": {
    "scrolled": true
   },
   "outputs": [
    {
     "name": "stdout",
     "output_type": "stream",
     "text": [
      "Kendall Tau\n",
      "KendalltauResult(correlation=0.14866094311488548, pvalue=0.0014938657753926384)\n",
      "\n",
      "Spearman Rank correlation:\n"
     ]
    },
    {
     "data": {
      "text/html": [
       "<div>\n",
       "<style scoped>\n",
       "    .dataframe tbody tr th:only-of-type {\n",
       "        vertical-align: middle;\n",
       "    }\n",
       "\n",
       "    .dataframe tbody tr th {\n",
       "        vertical-align: top;\n",
       "    }\n",
       "\n",
       "    .dataframe thead th {\n",
       "        text-align: right;\n",
       "    }\n",
       "</style>\n",
       "<table border=\"1\" class=\"dataframe\">\n",
       "  <thead>\n",
       "    <tr style=\"text-align: right;\">\n",
       "      <th></th>\n",
       "      <th>Grade</th>\n",
       "      <th>userType</th>\n",
       "    </tr>\n",
       "  </thead>\n",
       "  <tbody>\n",
       "    <tr>\n",
       "      <th>Grade</th>\n",
       "      <td>1.000000</td>\n",
       "      <td>0.180087</td>\n",
       "    </tr>\n",
       "    <tr>\n",
       "      <th>userType</th>\n",
       "      <td>0.180087</td>\n",
       "      <td>1.000000</td>\n",
       "    </tr>\n",
       "  </tbody>\n",
       "</table>\n",
       "</div>"
      ],
      "text/plain": [
       "             Grade  userType\n",
       "Grade     1.000000  0.180087\n",
       "userType  0.180087  1.000000"
      ]
     },
     "execution_count": 5,
     "metadata": {},
     "output_type": "execute_result"
    }
   ],
   "source": [
    "G_userType = data[['Grade','userType']]\n",
    "G_userType = G_userType.dropna()          # drop missing values, if users don't use SRLUI, there is a NA\n",
    "G_userType['userType'] = G_userType['userType'].map({'light': 0, 'heavy': 1})      # convert to numerical values\n",
    "\n",
    "print('Kendall Tau')\n",
    "print(kendalltau(G_userType['userType'],G_userType['Grade']))\n",
    "\n",
    "print('\\nSpearman Rank correlation:')\n",
    "G_userType.corr('spearman')"
   ]
  },
  {
   "cell_type": "code",
   "execution_count": 6,
   "metadata": {},
   "outputs": [
    {
     "data": {
      "text/html": [
       "<div>\n",
       "<style scoped>\n",
       "    .dataframe tbody tr th:only-of-type {\n",
       "        vertical-align: middle;\n",
       "    }\n",
       "\n",
       "    .dataframe tbody tr th {\n",
       "        vertical-align: top;\n",
       "    }\n",
       "\n",
       "    .dataframe thead th {\n",
       "        text-align: right;\n",
       "    }\n",
       "</style>\n",
       "<table border=\"1\" class=\"dataframe\">\n",
       "  <thead>\n",
       "    <tr style=\"text-align: right;\">\n",
       "      <th></th>\n",
       "      <th>sum_sq</th>\n",
       "      <th>df</th>\n",
       "      <th>mean_sq</th>\n",
       "      <th>F</th>\n",
       "      <th>PR(&gt;F)</th>\n",
       "      <th>eta_sq</th>\n",
       "      <th>omega_sq</th>\n",
       "    </tr>\n",
       "  </thead>\n",
       "  <tbody>\n",
       "    <tr>\n",
       "      <th>C(courseId)</th>\n",
       "      <td>46523.688025</td>\n",
       "      <td>7.0</td>\n",
       "      <td>6646.241146</td>\n",
       "      <td>5.161789</td>\n",
       "      <td>0.000009</td>\n",
       "      <td>0.045385</td>\n",
       "      <td>0.036547</td>\n",
       "    </tr>\n",
       "    <tr>\n",
       "      <th>Residual</th>\n",
       "      <td>978564.435673</td>\n",
       "      <td>760.0</td>\n",
       "      <td>1287.584784</td>\n",
       "      <td>NaN</td>\n",
       "      <td>NaN</td>\n",
       "      <td>NaN</td>\n",
       "      <td>NaN</td>\n",
       "    </tr>\n",
       "  </tbody>\n",
       "</table>\n",
       "</div>"
      ],
      "text/plain": [
       "                    sum_sq     df      mean_sq         F    PR(>F)    eta_sq  \\\n",
       "C(courseId)   46523.688025    7.0  6646.241146  5.161789  0.000009  0.045385   \n",
       "Residual     978564.435673  760.0  1287.584784       NaN       NaN       NaN   \n",
       "\n",
       "             omega_sq  \n",
       "C(courseId)  0.036547  \n",
       "Residual          NaN  "
      ]
     },
     "execution_count": 6,
     "metadata": {},
     "output_type": "execute_result"
    }
   ],
   "source": [
    "model = ols(f'Grade ~ C(courseId)', data).fit()\n",
    "anova_table(sm.stats.anova_lm(model, typ=2))"
   ]
  },
  {
   "cell_type": "code",
   "execution_count": 7,
   "metadata": {},
   "outputs": [
    {
     "data": {
      "text/html": [
       "<div>\n",
       "<style scoped>\n",
       "    .dataframe tbody tr th:only-of-type {\n",
       "        vertical-align: middle;\n",
       "    }\n",
       "\n",
       "    .dataframe tbody tr th {\n",
       "        vertical-align: top;\n",
       "    }\n",
       "\n",
       "    .dataframe thead th {\n",
       "        text-align: right;\n",
       "    }\n",
       "</style>\n",
       "<table border=\"1\" class=\"dataframe\">\n",
       "  <thead>\n",
       "    <tr style=\"text-align: right;\">\n",
       "      <th></th>\n",
       "      <th>sum_sq</th>\n",
       "      <th>df</th>\n",
       "      <th>mean_sq</th>\n",
       "      <th>F</th>\n",
       "      <th>PR(&gt;F)</th>\n",
       "      <th>eta_sq</th>\n",
       "      <th>omega_sq</th>\n",
       "    </tr>\n",
       "  </thead>\n",
       "  <tbody>\n",
       "    <tr>\n",
       "      <th>C(useSRLUI)</th>\n",
       "      <td>4.247964e+03</td>\n",
       "      <td>1.0</td>\n",
       "      <td>4247.963948</td>\n",
       "      <td>3.187512</td>\n",
       "      <td>0.074598</td>\n",
       "      <td>0.004144</td>\n",
       "      <td>0.00284</td>\n",
       "    </tr>\n",
       "    <tr>\n",
       "      <th>Residual</th>\n",
       "      <td>1.020840e+06</td>\n",
       "      <td>766.0</td>\n",
       "      <td>1332.689504</td>\n",
       "      <td>NaN</td>\n",
       "      <td>NaN</td>\n",
       "      <td>NaN</td>\n",
       "      <td>NaN</td>\n",
       "    </tr>\n",
       "  </tbody>\n",
       "</table>\n",
       "</div>"
      ],
      "text/plain": [
       "                   sum_sq     df      mean_sq         F    PR(>F)    eta_sq  \\\n",
       "C(useSRLUI)  4.247964e+03    1.0  4247.963948  3.187512  0.074598  0.004144   \n",
       "Residual     1.020840e+06  766.0  1332.689504       NaN       NaN       NaN   \n",
       "\n",
       "             omega_sq  \n",
       "C(useSRLUI)   0.00284  \n",
       "Residual          NaN  "
      ]
     },
     "execution_count": 7,
     "metadata": {},
     "output_type": "execute_result"
    }
   ],
   "source": [
    "model = ols(f'Grade ~ C(useSRLUI)', data).fit()\n",
    "anova_table(sm.stats.anova_lm(model, typ=2))"
   ]
  },
  {
   "cell_type": "code",
   "execution_count": 8,
   "metadata": {},
   "outputs": [
    {
     "data": {
      "text/html": [
       "<div>\n",
       "<style scoped>\n",
       "    .dataframe tbody tr th:only-of-type {\n",
       "        vertical-align: middle;\n",
       "    }\n",
       "\n",
       "    .dataframe tbody tr th {\n",
       "        vertical-align: top;\n",
       "    }\n",
       "\n",
       "    .dataframe thead th {\n",
       "        text-align: right;\n",
       "    }\n",
       "</style>\n",
       "<table border=\"1\" class=\"dataframe\">\n",
       "  <thead>\n",
       "    <tr style=\"text-align: right;\">\n",
       "      <th></th>\n",
       "      <th>sum_sq</th>\n",
       "      <th>df</th>\n",
       "      <th>mean_sq</th>\n",
       "      <th>F</th>\n",
       "      <th>PR(&gt;F)</th>\n",
       "      <th>eta_sq</th>\n",
       "      <th>omega_sq</th>\n",
       "    </tr>\n",
       "  </thead>\n",
       "  <tbody>\n",
       "    <tr>\n",
       "      <th>C(country)</th>\n",
       "      <td>167698.777125</td>\n",
       "      <td>73.0</td>\n",
       "      <td>2297.243522</td>\n",
       "      <td>1.879604</td>\n",
       "      <td>0.000035</td>\n",
       "      <td>0.173639</td>\n",
       "      <td>0.081155</td>\n",
       "    </tr>\n",
       "    <tr>\n",
       "      <th>Residual</th>\n",
       "      <td>798093.541994</td>\n",
       "      <td>653.0</td>\n",
       "      <td>1222.195317</td>\n",
       "      <td>NaN</td>\n",
       "      <td>NaN</td>\n",
       "      <td>NaN</td>\n",
       "      <td>NaN</td>\n",
       "    </tr>\n",
       "  </tbody>\n",
       "</table>\n",
       "</div>"
      ],
      "text/plain": [
       "                   sum_sq     df      mean_sq         F    PR(>F)    eta_sq  \\\n",
       "C(country)  167698.777125   73.0  2297.243522  1.879604  0.000035  0.173639   \n",
       "Residual    798093.541994  653.0  1222.195317       NaN       NaN       NaN   \n",
       "\n",
       "            omega_sq  \n",
       "C(country)  0.081155  \n",
       "Residual         NaN  "
      ]
     },
     "execution_count": 8,
     "metadata": {},
     "output_type": "execute_result"
    }
   ],
   "source": [
    "model = ols(f'Grade ~ C(country)', data).fit()\n",
    "anova_table(sm.stats.anova_lm(model, typ=2))"
   ]
  },
  {
   "cell_type": "markdown",
   "metadata": {},
   "source": [
    "### 2.2 Correlation with `survival_days`\n",
    "This is correlation analysis of categorical and continuous variables\n",
    "\n",
    "#### (1) Test of correlation\n",
    "\n",
    "<html>\n",
    "    <p>\n",
    "     I use one-way ANOVA <a href='https://www.pythonfordatascience.org/anova-python/'>here</a>.\n",
    "    </p>    \n",
    "</html>"
   ]
  },
  {
   "cell_type": "code",
   "execution_count": 9,
   "metadata": {},
   "outputs": [
    {
     "name": "stdout",
     "output_type": "stream",
     "text": [
      "\n",
      " country\n",
      "                   sum_sq     df         F    PR(>F)\n",
      "C(country)   69870.959392   73.0  1.374989  0.025714\n",
      "Residual    454556.484900  653.0       NaN       NaN\n",
      "\n",
      " userType\n",
      "                    sum_sq     df          F        PR(>F)\n",
      "C(userType)   14916.937729    1.0  26.601095  4.469264e-07\n",
      "Residual     173836.857143  310.0        NaN           NaN\n"
     ]
    }
   ],
   "source": [
    "for f in Features:\n",
    "    model = ols(f'survival_days ~ C({f})', data, missing='drop').fit()\n",
    "    aov_table = sm.stats.anova_lm(model, typ=2)\n",
    "    if aov_table.iloc[0,-1]<0.1:   # when p-value < 0.1, there exists significant correlation relationship\n",
    "        print('\\n',f)\n",
    "        print(aov_table)"
   ]
  },
  {
   "cell_type": "markdown",
   "metadata": {},
   "source": [
    "#### (2) Quantify correlation\n",
    "\n",
    "- `country`: categorical\n",
    "     - Use eta-squared to compute correlation <html><a href=\"https://www.statisticshowto.com/eta-squared/\">link</a></html>  <html><a href=\"https://www.theanalysisfactor.com/effect-size/\">link</a></html>\n",
    "- `userType`: ordinal\n",
    "    - Use Spearman/Kendall Rank Correlation for `userType` <html><a href=\"https://medium.com/analytics-vidhya/kendall-rank-correlation-python-19524cb0e9a0\">link</a>,</html>  <html><a href=\"https://docs.scipy.org/doc/scipy/reference/generated/scipy.stats.kendalltau.html\">kendalltau</a></html> \n",
    "    - Need to drop NA and convert to numerical ordinal values, like 0,1,2,3,..."
   ]
  },
  {
   "cell_type": "code",
   "execution_count": 10,
   "metadata": {},
   "outputs": [
    {
     "data": {
      "text/html": [
       "<div>\n",
       "<style scoped>\n",
       "    .dataframe tbody tr th:only-of-type {\n",
       "        vertical-align: middle;\n",
       "    }\n",
       "\n",
       "    .dataframe tbody tr th {\n",
       "        vertical-align: top;\n",
       "    }\n",
       "\n",
       "    .dataframe thead th {\n",
       "        text-align: right;\n",
       "    }\n",
       "</style>\n",
       "<table border=\"1\" class=\"dataframe\">\n",
       "  <thead>\n",
       "    <tr style=\"text-align: right;\">\n",
       "      <th></th>\n",
       "      <th>sum_sq</th>\n",
       "      <th>df</th>\n",
       "      <th>mean_sq</th>\n",
       "      <th>F</th>\n",
       "      <th>PR(&gt;F)</th>\n",
       "      <th>eta_sq</th>\n",
       "      <th>omega_sq</th>\n",
       "    </tr>\n",
       "  </thead>\n",
       "  <tbody>\n",
       "    <tr>\n",
       "      <th>C(useSRLUI)</th>\n",
       "      <td>1862.002551</td>\n",
       "      <td>1.0</td>\n",
       "      <td>1862.002551</td>\n",
       "      <td>2.565128</td>\n",
       "      <td>0.109656</td>\n",
       "      <td>0.003338</td>\n",
       "      <td>0.002034</td>\n",
       "    </tr>\n",
       "    <tr>\n",
       "      <th>Residual</th>\n",
       "      <td>556032.242240</td>\n",
       "      <td>766.0</td>\n",
       "      <td>725.890656</td>\n",
       "      <td>NaN</td>\n",
       "      <td>NaN</td>\n",
       "      <td>NaN</td>\n",
       "      <td>NaN</td>\n",
       "    </tr>\n",
       "  </tbody>\n",
       "</table>\n",
       "</div>"
      ],
      "text/plain": [
       "                    sum_sq     df      mean_sq         F    PR(>F)    eta_sq  \\\n",
       "C(useSRLUI)    1862.002551    1.0  1862.002551  2.565128  0.109656  0.003338   \n",
       "Residual     556032.242240  766.0   725.890656       NaN       NaN       NaN   \n",
       "\n",
       "             omega_sq  \n",
       "C(useSRLUI)  0.002034  \n",
       "Residual          NaN  "
      ]
     },
     "execution_count": 10,
     "metadata": {},
     "output_type": "execute_result"
    }
   ],
   "source": [
    "model = ols(f'survival_days ~ C(useSRLUI)', data).fit()\n",
    "anova_table(sm.stats.anova_lm(model, typ=2))"
   ]
  },
  {
   "cell_type": "code",
   "execution_count": 11,
   "metadata": {},
   "outputs": [
    {
     "data": {
      "text/html": [
       "<div>\n",
       "<style scoped>\n",
       "    .dataframe tbody tr th:only-of-type {\n",
       "        vertical-align: middle;\n",
       "    }\n",
       "\n",
       "    .dataframe tbody tr th {\n",
       "        vertical-align: top;\n",
       "    }\n",
       "\n",
       "    .dataframe thead th {\n",
       "        text-align: right;\n",
       "    }\n",
       "</style>\n",
       "<table border=\"1\" class=\"dataframe\">\n",
       "  <thead>\n",
       "    <tr style=\"text-align: right;\">\n",
       "      <th></th>\n",
       "      <th>sum_sq</th>\n",
       "      <th>df</th>\n",
       "      <th>mean_sq</th>\n",
       "      <th>F</th>\n",
       "      <th>PR(&gt;F)</th>\n",
       "      <th>eta_sq</th>\n",
       "      <th>omega_sq</th>\n",
       "    </tr>\n",
       "  </thead>\n",
       "  <tbody>\n",
       "    <tr>\n",
       "      <th>C(country)</th>\n",
       "      <td>69870.959392</td>\n",
       "      <td>73.0</td>\n",
       "      <td>957.136430</td>\n",
       "      <td>1.374989</td>\n",
       "      <td>0.025714</td>\n",
       "      <td>0.133233</td>\n",
       "      <td>0.036287</td>\n",
       "    </tr>\n",
       "    <tr>\n",
       "      <th>Residual</th>\n",
       "      <td>454556.484900</td>\n",
       "      <td>653.0</td>\n",
       "      <td>696.104877</td>\n",
       "      <td>NaN</td>\n",
       "      <td>NaN</td>\n",
       "      <td>NaN</td>\n",
       "      <td>NaN</td>\n",
       "    </tr>\n",
       "  </tbody>\n",
       "</table>\n",
       "</div>"
      ],
      "text/plain": [
       "                   sum_sq     df     mean_sq         F    PR(>F)    eta_sq  \\\n",
       "C(country)   69870.959392   73.0  957.136430  1.374989  0.025714  0.133233   \n",
       "Residual    454556.484900  653.0  696.104877       NaN       NaN       NaN   \n",
       "\n",
       "            omega_sq  \n",
       "C(country)  0.036287  \n",
       "Residual         NaN  "
      ]
     },
     "execution_count": 11,
     "metadata": {},
     "output_type": "execute_result"
    }
   ],
   "source": [
    "model = ols(f'survival_days ~ C(country)', data).fit()\n",
    "anova_table(sm.stats.anova_lm(model, typ=2))"
   ]
  },
  {
   "cell_type": "markdown",
   "metadata": {},
   "source": [
    "### 2.2 Correlation with `survival_days`\n",
    "This is correlation analysis of categorical and continuous variables\n",
    "\n",
    "#### (1) Test of correlation"
   ]
  },
  {
   "cell_type": "code",
   "execution_count": 12,
   "metadata": {},
   "outputs": [
    {
     "name": "stdout",
     "output_type": "stream",
     "text": [
      "\n",
      " courseId\n",
      "                 sum_sq     df          F        PR(>F)\n",
      "C(courseId)   17.347612    7.0  11.230187  1.401135e-13\n",
      "Residual     167.713586  760.0        NaN           NaN\n",
      "\n",
      " country\n",
      "                sum_sq     df         F    PR(>F)\n",
      "C(country)   23.689689   73.0  1.408728  0.017898\n",
      "Residual    150.425855  653.0       NaN       NaN\n",
      "\n",
      " userType\n",
      "                sum_sq     df          F    PR(>F)\n",
      "C(userType)   2.780229    1.0  11.947259  0.000624\n",
      "Residual     72.139643  310.0        NaN       NaN\n"
     ]
    }
   ],
   "source": [
    "for f in Features:\n",
    "    model = ols(f'drop_out ~ C({f})', data).fit()\n",
    "    aov_table = sm.stats.anova_lm(model, typ=2)\n",
    "    if aov_table.iloc[0,-1]<0.1:   # when p-value < 0.1, there exists significant correlation relationship\n",
    "        print('\\n',f)\n",
    "        print(aov_table)"
   ]
  },
  {
   "cell_type": "code",
   "execution_count": 13,
   "metadata": {},
   "outputs": [
    {
     "data": {
      "text/html": [
       "<div>\n",
       "<style scoped>\n",
       "    .dataframe tbody tr th:only-of-type {\n",
       "        vertical-align: middle;\n",
       "    }\n",
       "\n",
       "    .dataframe tbody tr th {\n",
       "        vertical-align: top;\n",
       "    }\n",
       "\n",
       "    .dataframe thead th {\n",
       "        text-align: right;\n",
       "    }\n",
       "</style>\n",
       "<table border=\"1\" class=\"dataframe\">\n",
       "  <thead>\n",
       "    <tr style=\"text-align: right;\">\n",
       "      <th></th>\n",
       "      <th>Grade</th>\n",
       "      <th>survival_days</th>\n",
       "      <th>drop_out</th>\n",
       "    </tr>\n",
       "    <tr>\n",
       "      <th>treatment</th>\n",
       "      <th></th>\n",
       "      <th></th>\n",
       "      <th></th>\n",
       "    </tr>\n",
       "  </thead>\n",
       "  <tbody>\n",
       "    <tr>\n",
       "      <th>control</th>\n",
       "      <td>48.412256</td>\n",
       "      <td>66.601671</td>\n",
       "      <td>0.378830</td>\n",
       "    </tr>\n",
       "    <tr>\n",
       "      <th>experiment</th>\n",
       "      <td>47.523227</td>\n",
       "      <td>63.863081</td>\n",
       "      <td>0.427873</td>\n",
       "    </tr>\n",
       "  </tbody>\n",
       "</table>\n",
       "</div>"
      ],
      "text/plain": [
       "                Grade  survival_days  drop_out\n",
       "treatment                                     \n",
       "control     48.412256      66.601671  0.378830\n",
       "experiment  47.523227      63.863081  0.427873"
      ]
     },
     "execution_count": 13,
     "metadata": {},
     "output_type": "execute_result"
    }
   ],
   "source": [
    "data.groupby(['treatment']).mean()[['Grade','survival_days','drop_out']]"
   ]
  },
  {
   "cell_type": "code",
   "execution_count": 14,
   "metadata": {},
   "outputs": [
    {
     "data": {
      "text/html": [
       "<div>\n",
       "<style scoped>\n",
       "    .dataframe tbody tr th:only-of-type {\n",
       "        vertical-align: middle;\n",
       "    }\n",
       "\n",
       "    .dataframe tbody tr th {\n",
       "        vertical-align: top;\n",
       "    }\n",
       "\n",
       "    .dataframe thead th {\n",
       "        text-align: right;\n",
       "    }\n",
       "</style>\n",
       "<table border=\"1\" class=\"dataframe\">\n",
       "  <thead>\n",
       "    <tr style=\"text-align: right;\">\n",
       "      <th></th>\n",
       "      <th></th>\n",
       "      <th>Grade</th>\n",
       "      <th>survival_days</th>\n",
       "      <th>drop_out</th>\n",
       "    </tr>\n",
       "    <tr>\n",
       "      <th>treatment</th>\n",
       "      <th>useSRLUI</th>\n",
       "      <th></th>\n",
       "      <th></th>\n",
       "      <th></th>\n",
       "    </tr>\n",
       "  </thead>\n",
       "  <tbody>\n",
       "    <tr>\n",
       "      <th>control</th>\n",
       "      <th>0</th>\n",
       "      <td>63</td>\n",
       "      <td>76</td>\n",
       "      <td>0</td>\n",
       "    </tr>\n",
       "    <tr>\n",
       "      <th rowspan=\"2\" valign=\"top\">experiment</th>\n",
       "      <th>0</th>\n",
       "      <td>19</td>\n",
       "      <td>57</td>\n",
       "      <td>1</td>\n",
       "    </tr>\n",
       "    <tr>\n",
       "      <th>1</th>\n",
       "      <td>66</td>\n",
       "      <td>73</td>\n",
       "      <td>0</td>\n",
       "    </tr>\n",
       "  </tbody>\n",
       "</table>\n",
       "</div>"
      ],
      "text/plain": [
       "                     Grade  survival_days  drop_out\n",
       "treatment  useSRLUI                                \n",
       "control    0            63             76         0\n",
       "experiment 0            19             57         1\n",
       "           1            66             73         0"
      ]
     },
     "execution_count": 14,
     "metadata": {},
     "output_type": "execute_result"
    }
   ],
   "source": [
    "data.groupby(['treatment','useSRLUI']).median()[['Grade','survival_days','drop_out']]"
   ]
  },
  {
   "cell_type": "code",
   "execution_count": 15,
   "metadata": {},
   "outputs": [
    {
     "data": {
      "text/html": [
       "<div>\n",
       "<style scoped>\n",
       "    .dataframe tbody tr th:only-of-type {\n",
       "        vertical-align: middle;\n",
       "    }\n",
       "\n",
       "    .dataframe tbody tr th {\n",
       "        vertical-align: top;\n",
       "    }\n",
       "\n",
       "    .dataframe thead th {\n",
       "        text-align: right;\n",
       "    }\n",
       "</style>\n",
       "<table border=\"1\" class=\"dataframe\">\n",
       "  <thead>\n",
       "    <tr style=\"text-align: right;\">\n",
       "      <th></th>\n",
       "      <th></th>\n",
       "      <th>Grade</th>\n",
       "      <th>survival_days</th>\n",
       "      <th>drop_out</th>\n",
       "    </tr>\n",
       "    <tr>\n",
       "      <th>treatment</th>\n",
       "      <th>useSRLUI</th>\n",
       "      <th></th>\n",
       "      <th></th>\n",
       "      <th></th>\n",
       "    </tr>\n",
       "  </thead>\n",
       "  <tbody>\n",
       "    <tr>\n",
       "      <th>control</th>\n",
       "      <th>0</th>\n",
       "      <td>48.412256</td>\n",
       "      <td>66.601671</td>\n",
       "      <td>0.378830</td>\n",
       "    </tr>\n",
       "    <tr>\n",
       "      <th rowspan=\"2\" valign=\"top\">experiment</th>\n",
       "      <th>0</th>\n",
       "      <td>37.041237</td>\n",
       "      <td>53.690722</td>\n",
       "      <td>0.515464</td>\n",
       "    </tr>\n",
       "    <tr>\n",
       "      <th>1</th>\n",
       "      <td>50.782051</td>\n",
       "      <td>67.025641</td>\n",
       "      <td>0.400641</td>\n",
       "    </tr>\n",
       "  </tbody>\n",
       "</table>\n",
       "</div>"
      ],
      "text/plain": [
       "                         Grade  survival_days  drop_out\n",
       "treatment  useSRLUI                                    \n",
       "control    0         48.412256      66.601671  0.378830\n",
       "experiment 0         37.041237      53.690722  0.515464\n",
       "           1         50.782051      67.025641  0.400641"
      ]
     },
     "execution_count": 15,
     "metadata": {},
     "output_type": "execute_result"
    }
   ],
   "source": [
    "data.groupby(['treatment','useSRLUI']).mean()[['Grade','survival_days','drop_out']]"
   ]
  },
  {
   "cell_type": "code",
   "execution_count": 16,
   "metadata": {},
   "outputs": [
    {
     "data": {
      "text/html": [
       "<div>\n",
       "<style scoped>\n",
       "    .dataframe tbody tr th:only-of-type {\n",
       "        vertical-align: middle;\n",
       "    }\n",
       "\n",
       "    .dataframe tbody tr th {\n",
       "        vertical-align: top;\n",
       "    }\n",
       "\n",
       "    .dataframe thead th {\n",
       "        text-align: right;\n",
       "    }\n",
       "</style>\n",
       "<table border=\"1\" class=\"dataframe\">\n",
       "  <thead>\n",
       "    <tr style=\"text-align: right;\">\n",
       "      <th></th>\n",
       "      <th></th>\n",
       "      <th>Grade</th>\n",
       "      <th>survival_days</th>\n",
       "      <th>drop_out</th>\n",
       "    </tr>\n",
       "    <tr>\n",
       "      <th>useSRLUI</th>\n",
       "      <th>userType</th>\n",
       "      <th></th>\n",
       "      <th></th>\n",
       "      <th></th>\n",
       "    </tr>\n",
       "  </thead>\n",
       "  <tbody>\n",
       "    <tr>\n",
       "      <th rowspan=\"2\" valign=\"top\">1</th>\n",
       "      <th>heavy</th>\n",
       "      <td>55.445000</td>\n",
       "      <td>72.200000</td>\n",
       "      <td>0.330000</td>\n",
       "    </tr>\n",
       "    <tr>\n",
       "      <th>light</th>\n",
       "      <td>42.455357</td>\n",
       "      <td>57.785714</td>\n",
       "      <td>0.526786</td>\n",
       "    </tr>\n",
       "  </tbody>\n",
       "</table>\n",
       "</div>"
      ],
      "text/plain": [
       "                       Grade  survival_days  drop_out\n",
       "useSRLUI userType                                    \n",
       "1        heavy     55.445000      72.200000  0.330000\n",
       "         light     42.455357      57.785714  0.526786"
      ]
     },
     "execution_count": 16,
     "metadata": {},
     "output_type": "execute_result"
    }
   ],
   "source": [
    "data.groupby(['useSRLUI','userType']).mean()[['Grade','survival_days','drop_out']]"
   ]
  },
  {
   "cell_type": "markdown",
   "metadata": {},
   "source": [
    "##### Control group\n",
    "`treatment` = control"
   ]
  },
  {
   "cell_type": "code",
   "execution_count": 17,
   "metadata": {},
   "outputs": [
    {
     "data": {
      "text/plain": [
       "(array([100.,  22.,  17.,  15.,   6.,   9.,  28.,  55.,  58.,  49.]),\n",
       " array([ 0. ,  9.8, 19.6, 29.4, 39.2, 49. , 58.8, 68.6, 78.4, 88.2, 98. ]),\n",
       " <a list of 10 Patch objects>)"
      ]
     },
     "execution_count": 17,
     "metadata": {},
     "output_type": "execute_result"
    },
    {
     "data": {
      "image/png": "[encoded data removed]",
      "text/plain": [
       "<Figure size 432x288 with 1 Axes>"
      ]
     },
     "metadata": {
      "needs_background": "light"
     },
     "output_type": "display_data"
    }
   ],
   "source": [
    "y = data[data['treatment'] == 'control']['Grade'].values\n",
    "plt.hist(y)"
   ]
  },
  {
   "cell_type": "markdown",
   "metadata": {},
   "source": [
    "##### Experiment group\n",
    "##### `useSRLUI` = 0"
   ]
  },
  {
   "cell_type": "code",
   "execution_count": 18,
   "metadata": {},
   "outputs": [
    {
     "data": {
      "text/plain": [
       "(array([46.,  3.,  1.,  2.,  1.,  6.,  7.,  9., 17.,  5.]),\n",
       " array([ 0. ,  9.8, 19.6, 29.4, 39.2, 49. , 58.8, 68.6, 78.4, 88.2, 98. ]),\n",
       " <a list of 10 Patch objects>)"
      ]
     },
     "execution_count": 18,
     "metadata": {},
     "output_type": "execute_result"
    },
    {
     "data": {
      "image/png": "[encoded data removed]",
      "text/plain": [
       "<Figure size 432x288 with 1 Axes>"
      ]
     },
     "metadata": {
      "needs_background": "light"
     },
     "output_type": "display_data"
    }
   ],
   "source": [
    "y = data[data['treatment'] == 'experiment'][data['useSRLUI'] == 0]['Grade'].values\n",
    "plt.hist(y)"
   ]
  },
  {
   "cell_type": "markdown",
   "metadata": {},
   "source": [
    "##### Experiment group\n",
    "##### `useSRLUI` = 1"
   ]
  },
  {
   "cell_type": "code",
   "execution_count": 19,
   "metadata": {},
   "outputs": [
    {
     "data": {
      "text/plain": [
       "(array([76., 24., 24.,  5.,  8.,  7., 23., 39., 64., 42.]),\n",
       " array([ 0. ,  9.9, 19.8, 29.7, 39.6, 49.5, 59.4, 69.3, 79.2, 89.1, 99. ]),\n",
       " <a list of 10 Patch objects>)"
      ]
     },
     "execution_count": 19,
     "metadata": {},
     "output_type": "execute_result"
    },
    {
     "data": {
      "image/png": "[encoded data removed]",
      "text/plain": [
       "<Figure size 432x288 with 1 Axes>"
      ]
     },
     "metadata": {
      "needs_background": "light"
     },
     "output_type": "display_data"
    }
   ],
   "source": [
    "y = data[data['treatment'] == 'experiment'][data['useSRLUI'] == 1]['Grade'].values\n",
    "plt.hist(y)"
   ]
  },
  {
   "cell_type": "markdown",
   "metadata": {},
   "source": [
    "##### Experiment group\n",
    "##### `useSRLUI` = 1 and `userType` = light"
   ]
  },
  {
   "cell_type": "code",
   "execution_count": 20,
   "metadata": {},
   "outputs": [
    {
     "data": {
      "text/plain": [
       "(array([37.,  9., 11.,  1.,  1.,  5.,  6., 13., 19., 10.]),\n",
       " array([ 0. ,  9.9, 19.8, 29.7, 39.6, 49.5, 59.4, 69.3, 79.2, 89.1, 99. ]),\n",
       " <a list of 10 Patch objects>)"
      ]
     },
     "execution_count": 20,
     "metadata": {},
     "output_type": "execute_result"
    },
    {
     "data": {
      "image/png": "[encoded data removed]",
      "text/plain": [
       "<Figure size 432x288 with 1 Axes>"
      ]
     },
     "metadata": {
      "needs_background": "light"
     },
     "output_type": "display_data"
    }
   ],
   "source": [
    "y = data[data['treatment'] == 'experiment'][data['useSRLUI'] == 1][data['userType'] == 'light']['Grade'].values\n",
    "plt.hist(y)"
   ]
  },
  {
   "cell_type": "markdown",
   "metadata": {},
   "source": [
    "##### Experiment group\n",
    "##### `useSRLUI` = 1 and `userType` = heavy"
   ]
  },
  {
   "cell_type": "code",
   "execution_count": 21,
   "metadata": {},
   "outputs": [
    {
     "data": {
      "text/plain": [
       "(array([39., 15., 13.,  4.,  4.,  4., 14., 26., 41., 40.]),\n",
       " array([ 0. ,  9.8, 19.6, 29.4, 39.2, 49. , 58.8, 68.6, 78.4, 88.2, 98. ]),\n",
       " <a list of 10 Patch objects>)"
      ]
     },
     "execution_count": 21,
     "metadata": {},
     "output_type": "execute_result"
    },
    {
     "data": {
      "image/png": "[encoded data removed]",
      "text/plain": [
       "<Figure size 432x288 with 1 Axes>"
      ]
     },
     "metadata": {
      "needs_background": "light"
     },
     "output_type": "display_data"
    }
   ],
   "source": [
    "y = data[data['treatment'] == 'experiment'][data['useSRLUI'] == 1][data['userType'] == 'heavy']['Grade'].values\n",
    "plt.hist(y)"
   ]
  },
  {
   "cell_type": "markdown",
   "metadata": {},
   "source": [
    "## 3. Correlation Matrix\n",
    "\n",
    "In this part, I will create a correlation matrix to show the correlation coefficients between all pairs of variabls including independent an dependent variables. And I will use `Kendall Tau` here as the measurement. <html><a href=\"https://medium.com/analytics-vidhya/kendall-rank-correlation-python-19524cb0e9a0\">link</a>,</html>  <html><a href=\"https://docs.scipy.org/doc/scipy/reference/generated/scipy.stats.kendalltau.html\">kendalltau</a></html> \n",
    "\n",
    "For observations ($x_i$, $y_i$), ($x_j$, $y_j$):\n",
    "- Cordant pairs: if $x_i$ < $x_j$ and $y_i$ < $y_j$, or $x_i$ > $x_j$ and $y_i$ > $y_j$\n",
    "- Discordant pairs: if $x_i$ < $x_j$ and $y_i$ > $y_j$, or $x_i$ > $x_j$ and $y_i$ < $y_j$\n",
    "- Ties: $x_i$ = $x_j$ or $y_i$ = $y_j$\n",
    "- $T$: the number of ties only in $x$ \n",
    "- $U$: the number of ties only in $y$\n",
    "\n",
    "\n",
    "    - Kendall $\\tau_a$\n",
    "$$\\tau_a = \\frac{(number of cordant pairs)-(number of discordant pairs)}{n \\choose 2} = \\frac{n_c - n_d}{n_0}$$\n",
    "    - Kendall $\\tau_b$\n",
    "$$\\tau_b = \\frac{n_c - n_d}{\\sqrt{(n_c + n_d + T) * (n_c + n_d + U)}}$$\n",
    "\n",
    "\n",
    "### 3.1 Convert continuous into categorical\n",
    "I will use `Kendall Tau` here as the measurement. Therefore, I will convert `Grade` and `survival_days` into categorical variablses.\n",
    "\n",
    "1. `Grades`: using 10 points as a unit, total range is 1-100: 1-10,11-20\n",
    "2. `survival_days`: weeks, 70 days means 7 weeks"
   ]
  },
  {
   "cell_type": "code",
   "execution_count": 22,
   "metadata": {},
   "outputs": [
    {
     "data": {
      "text/html": [
       "<div>\n",
       "<style scoped>\n",
       "    .dataframe tbody tr th:only-of-type {\n",
       "        vertical-align: middle;\n",
       "    }\n",
       "\n",
       "    .dataframe tbody tr th {\n",
       "        vertical-align: top;\n",
       "    }\n",
       "\n",
       "    .dataframe thead th {\n",
       "        text-align: right;\n",
       "    }\n",
       "</style>\n",
       "<table border=\"1\" class=\"dataframe\">\n",
       "  <thead>\n",
       "    <tr style=\"text-align: right;\">\n",
       "      <th></th>\n",
       "      <th>userId</th>\n",
       "      <th>courseId</th>\n",
       "      <th>Grade</th>\n",
       "      <th>leave_week</th>\n",
       "      <th>enrollment_week</th>\n",
       "      <th>survival_days</th>\n",
       "      <th>drop_out</th>\n",
       "      <th>treatment</th>\n",
       "      <th>gender</th>\n",
       "      <th>age</th>\n",
       "      <th>education</th>\n",
       "      <th>country</th>\n",
       "      <th>useSRLUI</th>\n",
       "      <th>userType</th>\n",
       "    </tr>\n",
       "  </thead>\n",
       "  <tbody>\n",
       "    <tr>\n",
       "      <th>1</th>\n",
       "      <td>53576</td>\n",
       "      <td>BAMM101</td>\n",
       "      <td>75</td>\n",
       "      <td>13</td>\n",
       "      <td>1</td>\n",
       "      <td>90</td>\n",
       "      <td>0</td>\n",
       "      <td>control</td>\n",
       "      <td>m</td>\n",
       "      <td>27.0</td>\n",
       "      <td>undergrad</td>\n",
       "      <td>MX</td>\n",
       "      <td>0</td>\n",
       "      <td>NaN</td>\n",
       "    </tr>\n",
       "    <tr>\n",
       "      <th>2</th>\n",
       "      <td>503793</td>\n",
       "      <td>BAMM101</td>\n",
       "      <td>26</td>\n",
       "      <td>12</td>\n",
       "      <td>1</td>\n",
       "      <td>78</td>\n",
       "      <td>1</td>\n",
       "      <td>experiment</td>\n",
       "      <td>m</td>\n",
       "      <td>36.0</td>\n",
       "      <td>undergrad</td>\n",
       "      <td>MX</td>\n",
       "      <td>1</td>\n",
       "      <td>heavy</td>\n",
       "    </tr>\n",
       "    <tr>\n",
       "      <th>3</th>\n",
       "      <td>1392778</td>\n",
       "      <td>BAMM101</td>\n",
       "      <td>87</td>\n",
       "      <td>13</td>\n",
       "      <td>1</td>\n",
       "      <td>85</td>\n",
       "      <td>0</td>\n",
       "      <td>control</td>\n",
       "      <td>m</td>\n",
       "      <td>26.0</td>\n",
       "      <td>high_sch or under</td>\n",
       "      <td>0</td>\n",
       "      <td>0</td>\n",
       "      <td>NaN</td>\n",
       "    </tr>\n",
       "    <tr>\n",
       "      <th>4</th>\n",
       "      <td>1720976</td>\n",
       "      <td>BAMM101</td>\n",
       "      <td>75</td>\n",
       "      <td>14</td>\n",
       "      <td>1</td>\n",
       "      <td>89</td>\n",
       "      <td>0</td>\n",
       "      <td>control</td>\n",
       "      <td>m</td>\n",
       "      <td>NaN</td>\n",
       "      <td>post_grad</td>\n",
       "      <td>0</td>\n",
       "      <td>0</td>\n",
       "      <td>NaN</td>\n",
       "    </tr>\n",
       "    <tr>\n",
       "      <th>5</th>\n",
       "      <td>1910178</td>\n",
       "      <td>BAMM101</td>\n",
       "      <td>66</td>\n",
       "      <td>14</td>\n",
       "      <td>1</td>\n",
       "      <td>94</td>\n",
       "      <td>0</td>\n",
       "      <td>control</td>\n",
       "      <td>m</td>\n",
       "      <td>41.0</td>\n",
       "      <td>post_grad</td>\n",
       "      <td>NG</td>\n",
       "      <td>0</td>\n",
       "      <td>NaN</td>\n",
       "    </tr>\n",
       "  </tbody>\n",
       "</table>\n",
       "</div>"
      ],
      "text/plain": [
       "    userId courseId  Grade  leave_week  enrollment_week  survival_days  \\\n",
       "1    53576  BAMM101     75          13                1             90   \n",
       "2   503793  BAMM101     26          12                1             78   \n",
       "3  1392778  BAMM101     87          13                1             85   \n",
       "4  1720976  BAMM101     75          14                1             89   \n",
       "5  1910178  BAMM101     66          14                1             94   \n",
       "\n",
       "   drop_out   treatment gender   age          education country  useSRLUI  \\\n",
       "1         0     control      m  27.0          undergrad      MX         0   \n",
       "2         1  experiment      m  36.0          undergrad      MX         1   \n",
       "3         0     control      m  26.0  high_sch or under       0         0   \n",
       "4         0     control      m   NaN          post_grad       0         0   \n",
       "5         0     control      m  41.0          post_grad      NG         0   \n",
       "\n",
       "  userType  \n",
       "1      NaN  \n",
       "2    heavy  \n",
       "3      NaN  \n",
       "4      NaN  \n",
       "5      NaN  "
      ]
     },
     "execution_count": 22,
     "metadata": {},
     "output_type": "execute_result"
    }
   ],
   "source": [
    "data.head()"
   ]
  },
  {
   "cell_type": "code",
   "execution_count": 23,
   "metadata": {},
   "outputs": [],
   "source": [
    "data['C_grade'] = data['Grade']/10\n",
    "data['C_survival'] = data['survival_days']/7\n",
    "data['C_grade'] = data['C_grade'].apply(math.ceil)\n",
    "data['C_survival'] = data['C_survival'].apply(math.ceil)"
   ]
  },
  {
   "cell_type": "code",
   "execution_count": 24,
   "metadata": {
    "scrolled": true
   },
   "outputs": [
    {
     "data": {
      "text/html": [
       "<div>\n",
       "<style scoped>\n",
       "    .dataframe tbody tr th:only-of-type {\n",
       "        vertical-align: middle;\n",
       "    }\n",
       "\n",
       "    .dataframe tbody tr th {\n",
       "        vertical-align: top;\n",
       "    }\n",
       "\n",
       "    .dataframe thead th {\n",
       "        text-align: right;\n",
       "    }\n",
       "</style>\n",
       "<table border=\"1\" class=\"dataframe\">\n",
       "  <thead>\n",
       "    <tr style=\"text-align: right;\">\n",
       "      <th></th>\n",
       "      <th>userId</th>\n",
       "      <th>courseId</th>\n",
       "      <th>Grade</th>\n",
       "      <th>leave_week</th>\n",
       "      <th>enrollment_week</th>\n",
       "      <th>survival_days</th>\n",
       "      <th>drop_out</th>\n",
       "      <th>treatment</th>\n",
       "      <th>gender</th>\n",
       "      <th>age</th>\n",
       "      <th>education</th>\n",
       "      <th>country</th>\n",
       "      <th>useSRLUI</th>\n",
       "      <th>userType</th>\n",
       "      <th>C_grade</th>\n",
       "      <th>C_survival</th>\n",
       "    </tr>\n",
       "  </thead>\n",
       "  <tbody>\n",
       "    <tr>\n",
       "      <th>1</th>\n",
       "      <td>53576</td>\n",
       "      <td>BAMM101</td>\n",
       "      <td>75</td>\n",
       "      <td>13</td>\n",
       "      <td>1</td>\n",
       "      <td>90</td>\n",
       "      <td>0</td>\n",
       "      <td>control</td>\n",
       "      <td>m</td>\n",
       "      <td>27.0</td>\n",
       "      <td>undergrad</td>\n",
       "      <td>MX</td>\n",
       "      <td>0</td>\n",
       "      <td>NaN</td>\n",
       "      <td>8</td>\n",
       "      <td>13</td>\n",
       "    </tr>\n",
       "    <tr>\n",
       "      <th>2</th>\n",
       "      <td>503793</td>\n",
       "      <td>BAMM101</td>\n",
       "      <td>26</td>\n",
       "      <td>12</td>\n",
       "      <td>1</td>\n",
       "      <td>78</td>\n",
       "      <td>1</td>\n",
       "      <td>experiment</td>\n",
       "      <td>m</td>\n",
       "      <td>36.0</td>\n",
       "      <td>undergrad</td>\n",
       "      <td>MX</td>\n",
       "      <td>1</td>\n",
       "      <td>heavy</td>\n",
       "      <td>3</td>\n",
       "      <td>12</td>\n",
       "    </tr>\n",
       "    <tr>\n",
       "      <th>3</th>\n",
       "      <td>1392778</td>\n",
       "      <td>BAMM101</td>\n",
       "      <td>87</td>\n",
       "      <td>13</td>\n",
       "      <td>1</td>\n",
       "      <td>85</td>\n",
       "      <td>0</td>\n",
       "      <td>control</td>\n",
       "      <td>m</td>\n",
       "      <td>26.0</td>\n",
       "      <td>high_sch or under</td>\n",
       "      <td>0</td>\n",
       "      <td>0</td>\n",
       "      <td>NaN</td>\n",
       "      <td>9</td>\n",
       "      <td>13</td>\n",
       "    </tr>\n",
       "    <tr>\n",
       "      <th>4</th>\n",
       "      <td>1720976</td>\n",
       "      <td>BAMM101</td>\n",
       "      <td>75</td>\n",
       "      <td>14</td>\n",
       "      <td>1</td>\n",
       "      <td>89</td>\n",
       "      <td>0</td>\n",
       "      <td>control</td>\n",
       "      <td>m</td>\n",
       "      <td>NaN</td>\n",
       "      <td>post_grad</td>\n",
       "      <td>0</td>\n",
       "      <td>0</td>\n",
       "      <td>NaN</td>\n",
       "      <td>8</td>\n",
       "      <td>13</td>\n",
       "    </tr>\n",
       "    <tr>\n",
       "      <th>5</th>\n",
       "      <td>1910178</td>\n",
       "      <td>BAMM101</td>\n",
       "      <td>66</td>\n",
       "      <td>14</td>\n",
       "      <td>1</td>\n",
       "      <td>94</td>\n",
       "      <td>0</td>\n",
       "      <td>control</td>\n",
       "      <td>m</td>\n",
       "      <td>41.0</td>\n",
       "      <td>post_grad</td>\n",
       "      <td>NG</td>\n",
       "      <td>0</td>\n",
       "      <td>NaN</td>\n",
       "      <td>7</td>\n",
       "      <td>14</td>\n",
       "    </tr>\n",
       "  </tbody>\n",
       "</table>\n",
       "</div>"
      ],
      "text/plain": [
       "    userId courseId  Grade  leave_week  enrollment_week  survival_days  \\\n",
       "1    53576  BAMM101     75          13                1             90   \n",
       "2   503793  BAMM101     26          12                1             78   \n",
       "3  1392778  BAMM101     87          13                1             85   \n",
       "4  1720976  BAMM101     75          14                1             89   \n",
       "5  1910178  BAMM101     66          14                1             94   \n",
       "\n",
       "   drop_out   treatment gender   age          education country  useSRLUI  \\\n",
       "1         0     control      m  27.0          undergrad      MX         0   \n",
       "2         1  experiment      m  36.0          undergrad      MX         1   \n",
       "3         0     control      m  26.0  high_sch or under       0         0   \n",
       "4         0     control      m   NaN          post_grad       0         0   \n",
       "5         0     control      m  41.0          post_grad      NG         0   \n",
       "\n",
       "  userType  C_grade  C_survival  \n",
       "1      NaN        8          13  \n",
       "2    heavy        3          12  \n",
       "3      NaN        9          13  \n",
       "4      NaN        8          13  \n",
       "5      NaN        7          14  "
      ]
     },
     "execution_count": 24,
     "metadata": {},
     "output_type": "execute_result"
    }
   ],
   "source": [
    "data.head()"
   ]
  },
  {
   "cell_type": "code",
   "execution_count": 25,
   "metadata": {},
   "outputs": [
    {
     "data": {
      "text/plain": [
       "experiment    409\n",
       "control       359\n",
       "Name: treatment, dtype: int64"
      ]
     },
     "execution_count": 25,
     "metadata": {},
     "output_type": "execute_result"
    }
   ],
   "source": [
    "data['treatment'].value_counts()"
   ]
  },
  {
   "cell_type": "code",
   "execution_count": 26,
   "metadata": {},
   "outputs": [],
   "source": [
    "vars_df = data[['C_grade','C_survival','userType','useSRLUI',\n",
    "                'education','age','gender','treatment']]\n",
    "\n",
    "# UserType ---> 'heavy users': light=0, heavy=1\n",
    "def heavy_1(x):\n",
    "    if x == 'heavy':\n",
    "        return 1\n",
    "    elif x == 'light':\n",
    "        return 0\n",
    "vars_df['userType'] = vars_df['userType'].apply(heavy_1)\n",
    "\n",
    "# Education: other=0, high_sch or under=1, undergrad=2, post_grad=3\n",
    "def edu(x):\n",
    "    if x == 'other':\n",
    "        return 0\n",
    "    elif x == 'high_sch or under':\n",
    "        return 1\n",
    "    elif x == 'undergrad':\n",
    "        return 2\n",
    "    elif x == 'post_grad':\n",
    "        return 3\n",
    "vars_df['education'] = vars_df['education'].apply(edu)\n",
    "\n",
    "# Gender ---> 'female':: male=0, female=1\n",
    "vars_df['gender'] = (vars_df['gender']=='f')*1\n",
    "\n",
    "# Treatment: control=0, Experiment=1\n",
    "vars_df['treatment'] = (vars_df['treatment']=='experiment')*1"
   ]
  },
  {
   "cell_type": "code",
   "execution_count": 27,
   "metadata": {},
   "outputs": [
    {
     "data": {
      "text/plain": [
       "<matplotlib.axes._subplots.AxesSubplot at 0x7ff966711a10>"
      ]
     },
     "execution_count": 27,
     "metadata": {},
     "output_type": "execute_result"
    },
    {
     "data": {
      "image/png": "[encoded data removed]",
      "text/plain": [
       "<Figure size 432x288 with 2 Axes>"
      ]
     },
     "metadata": {
      "needs_background": "light"
     },
     "output_type": "display_data"
    }
   ],
   "source": [
    "corr_matrix = vars_df.corr('kendall')\n",
    "sb.heatmap(corr_matrix, \n",
    "            xticklabels = corr_matrix.columns,\n",
    "            yticklabels = corr_matrix.columns,\n",
    "            cmap = 'RdBu_r',\n",
    "            center = 0,\n",
    "            annot = True,\n",
    "            linewidth = 0.2)\n",
    "\n"
   ]
  },
  {
   "cell_type": "code",
   "execution_count": 28,
   "metadata": {},
   "outputs": [
    {
     "name": "stdout",
     "output_type": "stream",
     "text": [
      "Correlation Matrix\n"
     ]
    },
    {
     "data": {
      "text/html": [
       "<div>\n",
       "<style scoped>\n",
       "    .dataframe tbody tr th:only-of-type {\n",
       "        vertical-align: middle;\n",
       "    }\n",
       "\n",
       "    .dataframe tbody tr th {\n",
       "        vertical-align: top;\n",
       "    }\n",
       "\n",
       "    .dataframe thead th {\n",
       "        text-align: right;\n",
       "    }\n",
       "</style>\n",
       "<table border=\"1\" class=\"dataframe\">\n",
       "  <thead>\n",
       "    <tr style=\"text-align: right;\">\n",
       "      <th></th>\n",
       "      <th>C_grade</th>\n",
       "      <th>C_survival</th>\n",
       "      <th>userType</th>\n",
       "      <th>useSRLUI</th>\n",
       "      <th>education</th>\n",
       "      <th>age</th>\n",
       "      <th>gender</th>\n",
       "      <th>treatment</th>\n",
       "    </tr>\n",
       "  </thead>\n",
       "  <tbody>\n",
       "    <tr>\n",
       "      <th>C_grade</th>\n",
       "      <td>1.000000</td>\n",
       "      <td>0.372633</td>\n",
       "      <td>0.153623</td>\n",
       "      <td>0.076829</td>\n",
       "      <td>0.040949</td>\n",
       "      <td>-0.053138</td>\n",
       "      <td>-0.017300</td>\n",
       "      <td>-0.006564</td>\n",
       "    </tr>\n",
       "    <tr>\n",
       "      <th>C_survival</th>\n",
       "      <td>0.372633</td>\n",
       "      <td>1.000000</td>\n",
       "      <td>0.219963</td>\n",
       "      <td>0.027401</td>\n",
       "      <td>0.026442</td>\n",
       "      <td>-0.020055</td>\n",
       "      <td>-0.015286</td>\n",
       "      <td>-0.060191</td>\n",
       "    </tr>\n",
       "    <tr>\n",
       "      <th>userType</th>\n",
       "      <td>0.153623</td>\n",
       "      <td>0.219963</td>\n",
       "      <td>1.000000</td>\n",
       "      <td>NaN</td>\n",
       "      <td>-0.057356</td>\n",
       "      <td>-0.020028</td>\n",
       "      <td>0.079810</td>\n",
       "      <td>NaN</td>\n",
       "    </tr>\n",
       "    <tr>\n",
       "      <th>useSRLUI</th>\n",
       "      <td>0.076829</td>\n",
       "      <td>0.027401</td>\n",
       "      <td>NaN</td>\n",
       "      <td>1.000000</td>\n",
       "      <td>0.031681</td>\n",
       "      <td>0.063603</td>\n",
       "      <td>0.020701</td>\n",
       "      <td>0.774962</td>\n",
       "    </tr>\n",
       "    <tr>\n",
       "      <th>education</th>\n",
       "      <td>0.040949</td>\n",
       "      <td>0.026442</td>\n",
       "      <td>-0.057356</td>\n",
       "      <td>0.031681</td>\n",
       "      <td>1.000000</td>\n",
       "      <td>0.403239</td>\n",
       "      <td>0.008941</td>\n",
       "      <td>-0.029145</td>\n",
       "    </tr>\n",
       "    <tr>\n",
       "      <th>age</th>\n",
       "      <td>-0.053138</td>\n",
       "      <td>-0.020055</td>\n",
       "      <td>-0.020028</td>\n",
       "      <td>0.063603</td>\n",
       "      <td>0.403239</td>\n",
       "      <td>1.000000</td>\n",
       "      <td>-0.055206</td>\n",
       "      <td>0.026175</td>\n",
       "    </tr>\n",
       "    <tr>\n",
       "      <th>gender</th>\n",
       "      <td>-0.017300</td>\n",
       "      <td>-0.015286</td>\n",
       "      <td>0.079810</td>\n",
       "      <td>0.020701</td>\n",
       "      <td>0.008941</td>\n",
       "      <td>-0.055206</td>\n",
       "      <td>1.000000</td>\n",
       "      <td>0.049827</td>\n",
       "    </tr>\n",
       "    <tr>\n",
       "      <th>treatment</th>\n",
       "      <td>-0.006564</td>\n",
       "      <td>-0.060191</td>\n",
       "      <td>NaN</td>\n",
       "      <td>0.774962</td>\n",
       "      <td>-0.029145</td>\n",
       "      <td>0.026175</td>\n",
       "      <td>0.049827</td>\n",
       "      <td>1.000000</td>\n",
       "    </tr>\n",
       "  </tbody>\n",
       "</table>\n",
       "</div>"
      ],
      "text/plain": [
       "             C_grade  C_survival  userType  useSRLUI  education       age  \\\n",
       "C_grade     1.000000    0.372633  0.153623  0.076829   0.040949 -0.053138   \n",
       "C_survival  0.372633    1.000000  0.219963  0.027401   0.026442 -0.020055   \n",
       "userType    0.153623    0.219963  1.000000       NaN  -0.057356 -0.020028   \n",
       "useSRLUI    0.076829    0.027401       NaN  1.000000   0.031681  0.063603   \n",
       "education   0.040949    0.026442 -0.057356  0.031681   1.000000  0.403239   \n",
       "age        -0.053138   -0.020055 -0.020028  0.063603   0.403239  1.000000   \n",
       "gender     -0.017300   -0.015286  0.079810  0.020701   0.008941 -0.055206   \n",
       "treatment  -0.006564   -0.060191       NaN  0.774962  -0.029145  0.026175   \n",
       "\n",
       "              gender  treatment  \n",
       "C_grade    -0.017300  -0.006564  \n",
       "C_survival -0.015286  -0.060191  \n",
       "userType    0.079810        NaN  \n",
       "useSRLUI    0.020701   0.774962  \n",
       "education   0.008941  -0.029145  \n",
       "age        -0.055206   0.026175  \n",
       "gender      1.000000   0.049827  \n",
       "treatment   0.049827   1.000000  "
      ]
     },
     "execution_count": 28,
     "metadata": {},
     "output_type": "execute_result"
    }
   ],
   "source": [
    "print('Correlation Matrix')\n",
    "\n",
    "corr_matrix"
   ]
  },
  {
   "cell_type": "code",
   "execution_count": 29,
   "metadata": {},
   "outputs": [
    {
     "name": "stdout",
     "output_type": "stream",
     "text": [
      "P-values Matrix of Correlation\n"
     ]
    },
    {
     "data": {
      "image/png": "[encoded data removed]",
      "text/plain": [
       "<Figure size 432x288 with 2 Axes>"
      ]
     },
     "metadata": {
      "needs_background": "light"
     },
     "output_type": "display_data"
    }
   ],
   "source": [
    "p_value = corr_matrix.copy()\n",
    "\n",
    "\n",
    "# compute p-calues for all paris of variables\n",
    "for i in p_value.columns:\n",
    "    for j in p_value.columns:\n",
    "        p_value.loc[i,j] = kendalltau(vars_df[i], vars_df[j], nan_policy='omit')[-1]\n",
    "\n",
    "# heatmap visualization of p-value matrix\n",
    "sb.heatmap(p_value, \n",
    "            xticklabels = p_value.columns,\n",
    "            yticklabels = p_value.columns,\n",
    "            cmap = 'RdBu_r',\n",
    "            center = 1,\n",
    "            annot = True,\n",
    "            linewidth = 0.2)   \n",
    "\n",
    "print('P-values Matrix of Correlation')\n"
   ]
  },
  {
   "cell_type": "markdown",
   "metadata": {},
   "source": [
    "## 5. SRLUI v2: Retreiving Demographic Data\n",
    "Gather all demographic information from raw data.\n",
    "\n",
    "Education level:\n",
    "- Use data from data-learner (demographic documents)\n",
    "- High school or Under: el (elementary), jhs (junior high school), hs (high school)\n",
    "- Undergraduate: a (associate), b (bachelor)\n",
    "- Post graduate: m (master), p (professional), p_oth, p_se\n",
    "- Others: other, none, blank\n",
    "- Response rate: the percent of all cases that are not blank\n",
    "\n",
    "\n",
    "Demographic info:\n",
    "`userId`\n",
    "`courseId`\n",
    "`gender`\n",
    "`age`\n",
    "`education`\n",
    "`country`\n",
    "\n",
    "Other info:\n",
    "leave_week\n",
    "enrollment_week # need to know the start date of the course\n",
    "survival_days\n",
    "drop_out\n",
    "treatment\n",
    "useSRLUI\n",
    "userType\n",
    "C_grade\n",
    "C_survival"
   ]
  },
  {
   "cell_type": "code",
   "execution_count": 30,
   "metadata": {},
   "outputs": [],
   "source": [
    "BM1 = 'SRLUI_v2_demographic_0705/Demographic_Folder/original_dataset/data-learners_ColumbiaX+BAMM.101x+1T2020.csv'\n",
    "BM2 = 'SRLUI_v2_demographic_0705/Demographic_Folder/original_dataset/data-learners_ColumbiaX+BAMM.102x+1T2020.csv'\n",
    "BM3 = 'SRLUI_v2_demographic_0705/Demographic_Folder/original_dataset/data-learners_ColumbiaX+BAMM.103x+1T2020.csv'\n",
    "BM4 = 'SRLUI_v2_demographic_0705/Demographic_Folder/original_dataset/data-learners_ColumbiaX+BAMM.104x+1T2020.csv'\n",
    "CS1 = 'SRLUI_v2_demographic_0705/Demographic_Folder/original_dataset/data-learners_ColumbiaX+CSMM.101x+1T2020.csv'\n",
    "CS2 = 'SRLUI_v2_demographic_0705/Demographic_Folder/original_dataset/data-learners_ColumbiaX+CSMM.102x+1T2020.csv'\n",
    "CS3 = 'SRLUI_v2_demographic_0705/Demographic_Folder/original_dataset/data-learners_ColumbiaX+CSMM.103x+1T2020.csv'\n",
    "CS4 = 'SRLUI_v2_demographic_0705/Demographic_Folder/original_dataset/data-learners_ColumbiaX+CSMM.104x+1T2020.csv'"
   ]
  },
  {
   "cell_type": "code",
   "execution_count": 31,
   "metadata": {},
   "outputs": [
    {
     "data": {
      "text/plain": [
       "b        4192\n",
       "m        2928\n",
       "hs       2731\n",
       "a         487\n",
       "p         437\n",
       "jhs       283\n",
       "other     200\n",
       "el         46\n",
       "none       23\n",
       "p_se       19\n",
       "p_oth       5\n",
       "Name: level_of_education, dtype: int64"
      ]
     },
     "execution_count": 31,
     "metadata": {},
     "output_type": "execute_result"
    }
   ],
   "source": [
    "pd.read_csv(CS1)['level_of_education'].value_counts()"
   ]
  },
  {
   "cell_type": "code",
   "execution_count": 32,
   "metadata": {},
   "outputs": [],
   "source": [
    "def edu(x):\n",
    "        if x=='m':\n",
    "            return 'post_grad'\n",
    "        elif x=='p':\n",
    "            return 'post_grad'\n",
    "        elif x=='p_oth':\n",
    "            return 'post_grad'\n",
    "        elif x=='p_se':\n",
    "            return 'post_grad'\n",
    "        \n",
    "        elif x=='el':\n",
    "            return 'high_sch or under'\n",
    "        elif x=='jhs':\n",
    "            return 'high_sch or under'\n",
    "        elif x=='hs':\n",
    "            return 'high_sch or under'\n",
    "        \n",
    "        elif x=='a':\n",
    "            return 'undergrad'\n",
    "        elif x=='b':\n",
    "            return 'undergrad'\n",
    "        \n",
    "        else:\n",
    "            return 'other'"
   ]
  },
  {
   "cell_type": "code",
   "execution_count": 33,
   "metadata": {},
   "outputs": [],
   "source": [
    "def demo_data(file):\n",
    "    \n",
    "    data = pd.read_csv(file, index_col = 0)\n",
    "    data_v = data[data['enrollment_mode']=='verified']\n",
    "    data_v['year_of_birth'] = pd.to_datetime(data_v['year_of_birth'])\n",
    "    data_v['now'] = datetime.now()\n",
    "    data_v['age'] = data_v['now']-data_v['year_of_birth']\n",
    "    data_v['age'] = round(data_v['age']/np.timedelta64(1, 'Y'))\n",
    "\n",
    "    data_v['education'] = data_v['level_of_education'].apply(edu)\n",
    "    data_v = data_v[['user_id','courseId','enrollment_mode','gender','age','education','country']]\n",
    "    return data_v"
   ]
  },
  {
   "cell_type": "code",
   "execution_count": 34,
   "metadata": {},
   "outputs": [],
   "source": [
    "BAMM101 = demo_data(BM1)\n",
    "BAMM102 = demo_data(BM2)\n",
    "BAMM103 = demo_data(BM3)\n",
    "BAMM104 = demo_data(BM4)\n",
    "CSMM101 = demo_data(CS1)\n",
    "CSMM102 = demo_data(CS2)\n",
    "CSMM103 = demo_data(CS3)\n",
    "CSMM104 = demo_data(CS4)"
   ]
  },
  {
   "cell_type": "code",
   "execution_count": 35,
   "metadata": {},
   "outputs": [],
   "source": [
    "BAMM101.to_csv('BAMM101_DemographicInfo.csv')\n",
    "BAMM102.to_csv('BAMM102_DemographicInfo.csv')\n",
    "BAMM103.to_csv('BAMM103_DemographicInfo.csv')\n",
    "BAMM104.to_csv('BAMM104_DemographicInfo.csv')\n",
    "CSMM101.to_csv('CSMM101_DemographicInfo.csv')\n",
    "CSMM102.to_csv('CSMM102_DemographicInfo.csv')\n",
    "CSMM103.to_csv('CSMM103_DemographicInfo.csv')\n",
    "CSMM104.to_csv('CSMM104_DemographicInfo.csv')"
   ]
  },
  {
   "cell_type": "code",
   "execution_count": 36,
   "metadata": {},
   "outputs": [],
   "source": [
    "#CS: India,USA,Pakistan,UK\tCanada\tBrazil\tGermany\tEgypt\tChina\tNigeria\n",
    "C = ['IN','US','PK','GB','CA','BR','DE','EG','CN','NG']\n",
    "# BA: India\tUSA\tUK\tCanada\tChina\tBrazil\tGermany\tSpain\tNigeria\tAustralia\n",
    "C = ['IN','US','GB','CA','CN','BR','DE','ES','NG','AU']"
   ]
  },
  {
   "cell_type": "code",
   "execution_count": 37,
   "metadata": {},
   "outputs": [
    {
     "name": "stdout",
     "output_type": "stream",
     "text": [
      "(16247, 8)\n",
      "(16247, 8)\n",
      "(16247, 8)\n",
      "(16247, 8)\n",
      "(16247, 8)\n",
      "(16247, 8)\n",
      "(16247, 8)\n",
      "(16247, 8)\n",
      "(16247, 8)\n",
      "(16247, 8)\n"
     ]
    },
    {
     "data": {
      "text/plain": [
       "(4205, 2240, 409, 421, 155, 456, 259, 259, 165, 198)"
      ]
     },
     "execution_count": 37,
     "metadata": {},
     "output_type": "execute_result"
    }
   ],
   "source": [
    "data = pd.read_csv(BM4)\n",
    "\n",
    "def c_num(country):\n",
    "    print(data.shape)\n",
    "    return (data['country']==country).sum()\n",
    "c_num(C[0]),c_num(C[1]),c_num(C[2]),c_num(C[3]),c_num(C[4]),c_num(C[5]),c_num(C[6]),c_num(C[7]),c_num(C[8]),c_num(C[9])"
   ]
  },
  {
   "cell_type": "markdown",
   "metadata": {},
   "source": [
    "## 6. SRLUI v2: Retreiving Learner Engagement Data\n",
    "\n",
    "This is for survival analysis:\n",
    "- **How many days students are active in the course during the course period.**\n",
    "- When students come in and when they leave.\n",
    "\n",
    "`survival_days` (Persistent_days) = MIN{last time logging in, 5/25(end date)} - MAX{first time logging in, 2/9(start date}\n",
    "\n",
    "`drop_out`\n",
    "    - 1 if no log in during 5/9-5/25(final)\n",
    "    - 0 if log in during final weeks(5/9-5/25)\n",
    "    - CSMM103 is different\n",
    "\n",
    "`enrollment_week` = the week of enrollment\n",
    "\n",
    "`leave_week_of_activity` = the week of last activity record"
   ]
  },
  {
   "cell_type": "code",
   "execution_count": 38,
   "metadata": {},
   "outputs": [],
   "source": [
    "BAMM101_engage = pd.read_csv('SRLUI_v2_engagement_0710/data-engagement_ColumbiaX+BAMM.101x+1T2020.csv')\n",
    "BAMM102_engage = pd.read_csv('SRLUI_v2_engagement_0710/data-engagement_ColumbiaX+BAMM.102x+1T2020.csv')\n",
    "BAMM103_engage = pd.read_csv('SRLUI_v2_engagement_0710/data-engagement_ColumbiaX+BAMM.103x+1T2020.csv')\n",
    "BAMM104_engage = pd.read_csv('SRLUI_v2_engagement_0710/data-engagement_ColumbiaX+BAMM.104x+1T2020.csv')\n",
    "CSMM101_engage = pd.read_csv('SRLUI_v2_engagement_0710/data-engagement_ColumbiaX+CSMM.101x+1T2020.csv')\n",
    "CSMM102_engage = pd.read_csv('SRLUI_v2_engagement_0710/data-engagement_ColumbiaX+CSMM.102x+1T2020.csv')\n",
    "CSMM103_engage = pd.read_csv('SRLUI_v2_engagement_0710/data-engagement_ColumbiaX+CSMM.103x+1T2020.csv')\n",
    "CSMM104_engage = pd.read_csv('SRLUI_v2_engagement_0710/data-engagement_ColumbiaX+CSMM.104x+1T2020.csv')"
   ]
  },
  {
   "cell_type": "markdown",
   "metadata": {},
   "source": [
    "### **CS101, 102, 104, BA101-BA104** \n",
    "\n",
    "open for 14 weeks\n",
    "\n",
    "`2/10/2020`-`5/17/2020` (14 weeks for assignments)\n",
    "\n",
    "`5/9/2020`-`5/25/2020` (14th, 15th for `finals`)\n",
    "\n",
    "1st week 2/9/2020-2/16/2020\n",
    "\n",
    "2nd week 2/17/2020- 2/14/2020"
   ]
  },
  {
   "cell_type": "code",
   "execution_count": 39,
   "metadata": {},
   "outputs": [],
   "source": [
    "course_start1 = pd.to_datetime('2/9/2020')\n",
    "course_end1 = pd.to_datetime('5/25/2020')\n",
    "final_start1 = pd.to_datetime('2020-05-09')\n",
    "final_end1 = pd.to_datetime('2020-05-25')"
   ]
  },
  {
   "cell_type": "code",
   "execution_count": 40,
   "metadata": {},
   "outputs": [],
   "source": [
    "# Create a function user_engagement() to create the variables needed\n",
    "\n",
    "def user_engagement(df,course_start,course_end,final_start,final_end): \n",
    "   \n",
    "    # delete all records when there are no activities\n",
    "    df['activity'] = df['problems_completed'] + df['problems_attempted'] + df['videos_viewed'] + df['discussion_contributions']\n",
    "    df = df[df['activity']>0]\n",
    "    \n",
    "    df['date'] = pd.to_datetime(df['date'])\n",
    "    df['week'] = df['date'] - course_start\n",
    "    df['week'] = df['week']/np.timedelta64(1,'W')\n",
    "    df['week'] = df['week'].apply(math.ceil)\n",
    "    user = df.groupby('name').agg({\n",
    "        'date':['min','max'],\n",
    "        'week':['min','max']    \n",
    "    }).reset_index()\n",
    "    user.columns = [''.join(col).strip() for col in user.columns.values]\n",
    "    \n",
    "    def turn_negtive_to_0(x):\n",
    "        return max(x, 0) \n",
    "    user['weekmax'] = user['weekmax'].apply(turn_negtive_to_0)\n",
    "    user['weekmin'] = user['weekmin'].apply(turn_negtive_to_0)\n",
    "    \n",
    "    def start(x):\n",
    "        return max(x, course_start) \n",
    "    def end(x):\n",
    "        return min(x, course_end) \n",
    "    user['start_date'] = user['datemin'].apply(start)   # start_date = MAX{first time logging in, 2/9/2020} \n",
    "    user['end_date'] = user['datemax'].apply(end)       # end_date = MIN{last time logging in, 5/25/2020}\n",
    "    user['survival_days'] = (user['end_date'] - user['start_date'])/np.timedelta64(1,'D') + 1\n",
    "    user['survival_days']  = user['survival_days'].apply(turn_negtive_to_0)\n",
    "    \n",
    "    def drop(x):\n",
    "        if x >= final_start and  x <= final_end:\n",
    "            return 0\n",
    "        else:\n",
    "            return 1                                    # if datemax lies within final week, dropout = 0\n",
    "    user['drop_out'] = user['datemax'].apply(drop)      # datemax: the lastest date logging in\n",
    "                                                        \n",
    "    user['enrollment_week'] = user['weekmin']\n",
    "    user['leave_week_of_activity'] = user['weekmax']\n",
    "    \n",
    "    return user[['name','survival_days','drop_out','enrollment_week','leave_week_of_activity']]"
   ]
  },
  {
   "cell_type": "code",
   "execution_count": 41,
   "metadata": {},
   "outputs": [],
   "source": [
    "# apply the function user_engagement() to 7 courses whose periods are 2/9/2020 - 5/25/2020\n",
    "BAMM101_user_engagement = user_engagement(BAMM101_engage,course_start1,course_end1,final_start1,final_end1)\n",
    "BAMM102_user_engagement = user_engagement(BAMM102_engage,course_start1,course_end1,final_start1,final_end1)\n",
    "BAMM103_user_engagement = user_engagement(BAMM103_engage,course_start1,course_end1,final_start1,final_end1)\n",
    "BAMM104_user_engagement = user_engagement(BAMM104_engage,course_start1,course_end1,final_start1,final_end1)\n",
    "CSMM101_user_engagement = user_engagement(CSMM101_engage,course_start1,course_end1,final_start1,final_end1)\n",
    "CSMM102_user_engagement = user_engagement(CSMM102_engage,course_start1,course_end1,final_start1,final_end1)\n",
    "CSMM104_user_engagement = user_engagement(CSMM104_engage,course_start1,course_end1,final_start1,final_end1)\n",
    "\n",
    "# add courseID column\n",
    "BAMM101_user_engagement['courseId'] = 'BAMM101'\n",
    "BAMM102_user_engagement['courseId'] = 'BAMM102'\n",
    "BAMM103_user_engagement['courseId'] = 'BAMM103'\n",
    "BAMM104_user_engagement['courseId'] = 'BAMM104'\n",
    "CSMM101_user_engagement['courseId'] = 'CSMM101'\n",
    "CSMM102_user_engagement['courseId'] = 'CSMM102'\n",
    "CSMM104_user_engagement['courseId'] = 'CSMM104'"
   ]
  },
  {
   "cell_type": "code",
   "execution_count": 42,
   "metadata": {},
   "outputs": [],
   "source": [
    "# output the csv files\n",
    "BAMM101_user_engagement.to_csv('SRLUI_v2_engagement_0710/output/BAMM101_user_engagement.csv')\n",
    "BAMM102_user_engagement.to_csv('SRLUI_v2_engagement_0710/output/BAMM102_user_engagement.csv')\n",
    "BAMM103_user_engagement.to_csv('SRLUI_v2_engagement_0710/output/BAMM103_user_engagement.csv')\n",
    "BAMM104_user_engagement.to_csv('SRLUI_v2_engagement_0710/output/BAMM104_user_engagement.csv')\n",
    "CSMM101_user_engagement.to_csv('SRLUI_v2_engagement_0710/output/CSMM101_user_engagement.csv')\n",
    "CSMM102_user_engagement.to_csv('SRLUI_v2_engagement_0710/output/CSMM102_user_engagement.csv')\n",
    "CSMM104_user_engagement.to_csv('SRLUI_v2_engagement_0710/output/CSMM104_user_engagement.csv')"
   ]
  },
  {
   "cell_type": "markdown",
   "metadata": {},
   "source": [
    "### **CS103** \n",
    "Open for 12 weeks\n",
    "\n",
    "- Course start date: `2/9/2020` - `5/11/2020`\n",
    "- Assignment due on: `5/3/2020`\n",
    "- Final exam starts from `4/20/2020`-`5/11/2020`"
   ]
  },
  {
   "cell_type": "code",
   "execution_count": 43,
   "metadata": {},
   "outputs": [],
   "source": [
    "course_start2 = pd.to_datetime('2/9/2020')\n",
    "course_end2 = pd.to_datetime('5/11/2020')\n",
    "final_start2 = pd.to_datetime('2020-04-20')\n",
    "final_end2 = pd.to_datetime('2020-05-11')"
   ]
  },
  {
   "cell_type": "code",
   "execution_count": 44,
   "metadata": {},
   "outputs": [],
   "source": [
    "# apply the function user_engagement() to CS103 whose period is 2/9/2020 - 5/11/2020\n",
    "CSMM103_user_engagement = user_engagement(CSMM103_engage,course_start2,course_end2,final_start2,final_end2)\n",
    "CSMM103_user_engagement.to_csv('SRLUI_v2_engagement_0710/output/CSMM103_user_engagement.csv')\n",
    "CSMM103_user_engagement['courseId'] = 'CSMM103'"
   ]
  },
  {
   "cell_type": "markdown",
   "metadata": {},
   "source": [
    "### Combine data of 6 courses"
   ]
  },
  {
   "cell_type": "code",
   "execution_count": 45,
   "metadata": {},
   "outputs": [],
   "source": [
    "SRLUIv2_user_engagement = pd.concat([BAMM101_user_engagement,\n",
    "                                     BAMM102_user_engagement,\n",
    "                                     BAMM103_user_engagement,\n",
    "                                     BAMM104_user_engagement,\n",
    "                                     CSMM101_user_engagement,\n",
    "                                     CSMM102_user_engagement,\n",
    "                                     CSMM103_user_engagement,\n",
    "                                     CSMM104_user_engagement]).reset_index().drop(columns='index')"
   ]
  },
  {
   "cell_type": "code",
   "execution_count": 46,
   "metadata": {},
   "outputs": [],
   "source": [
    "SRLUIv2_user_engagement.to_csv('SRLUI_v2_engagement_0710/output/SRLUIv2_user_engagement')"
   ]
  },
  {
   "cell_type": "markdown",
   "metadata": {},
   "source": [
    "### Questions needed to be clarified\n",
    "\n",
    "- `name` = `userId`? No userid here\n",
    "- If there is only 1 logging in activity (1 record), `survival_days`=1\n",
    "- If the first record is before 2/9, `enrollment_week` = 0\n",
    "- If logging in before 2/9/2020, I set the `enrollment_week` = 0\n",
    "    - That being said, if both `enrollment_week` and `leave_week_of_activity` = 0, logging in only once before 2/9\n",
    "    - So, in this case, if the only record occurs out of 2/9-5/25, the `survival_days`=0 instead of 1"
   ]
  },
  {
   "cell_type": "code",
   "execution_count": 47,
   "metadata": {},
   "outputs": [
    {
     "data": {
      "text/html": [
       "<div>\n",
       "<style scoped>\n",
       "    .dataframe tbody tr th:only-of-type {\n",
       "        vertical-align: middle;\n",
       "    }\n",
       "\n",
       "    .dataframe tbody tr th {\n",
       "        vertical-align: top;\n",
       "    }\n",
       "\n",
       "    .dataframe thead th {\n",
       "        text-align: right;\n",
       "    }\n",
       "</style>\n",
       "<table border=\"1\" class=\"dataframe\">\n",
       "  <thead>\n",
       "    <tr style=\"text-align: right;\">\n",
       "      <th></th>\n",
       "      <th>name</th>\n",
       "      <th>survival_days</th>\n",
       "      <th>drop_out</th>\n",
       "      <th>enrollment_week</th>\n",
       "      <th>leave_week_of_activity</th>\n",
       "      <th>courseId</th>\n",
       "    </tr>\n",
       "  </thead>\n",
       "  <tbody>\n",
       "    <tr>\n",
       "      <th>613</th>\n",
       "      <td>berkaykurkcu</td>\n",
       "      <td>0.0</td>\n",
       "      <td>1</td>\n",
       "      <td>0</td>\n",
       "      <td>0</td>\n",
       "      <td>CSMM104</td>\n",
       "    </tr>\n",
       "    <tr>\n",
       "      <th>1178</th>\n",
       "      <td>vaibhavibhide289</td>\n",
       "      <td>0.0</td>\n",
       "      <td>1</td>\n",
       "      <td>0</td>\n",
       "      <td>0</td>\n",
       "      <td>CSMM104</td>\n",
       "    </tr>\n",
       "    <tr>\n",
       "      <th>181</th>\n",
       "      <td>FurkanAliGn</td>\n",
       "      <td>0.0</td>\n",
       "      <td>1</td>\n",
       "      <td>0</td>\n",
       "      <td>0</td>\n",
       "      <td>CSMM104</td>\n",
       "    </tr>\n",
       "    <tr>\n",
       "      <th>602</th>\n",
       "      <td>ayeshriz</td>\n",
       "      <td>19.0</td>\n",
       "      <td>1</td>\n",
       "      <td>0</td>\n",
       "      <td>3</td>\n",
       "      <td>CSMM104</td>\n",
       "    </tr>\n",
       "    <tr>\n",
       "      <th>937</th>\n",
       "      <td>melisdiary</td>\n",
       "      <td>106.0</td>\n",
       "      <td>0</td>\n",
       "      <td>1</td>\n",
       "      <td>16</td>\n",
       "      <td>CSMM104</td>\n",
       "    </tr>\n",
       "    <tr>\n",
       "      <th>...</th>\n",
       "      <td>...</td>\n",
       "      <td>...</td>\n",
       "      <td>...</td>\n",
       "      <td>...</td>\n",
       "      <td>...</td>\n",
       "      <td>...</td>\n",
       "    </tr>\n",
       "    <tr>\n",
       "      <th>352</th>\n",
       "      <td>MwemaChitafu</td>\n",
       "      <td>1.0</td>\n",
       "      <td>0</td>\n",
       "      <td>15</td>\n",
       "      <td>15</td>\n",
       "      <td>CSMM104</td>\n",
       "    </tr>\n",
       "    <tr>\n",
       "      <th>913</th>\n",
       "      <td>manas161</td>\n",
       "      <td>1.0</td>\n",
       "      <td>0</td>\n",
       "      <td>15</td>\n",
       "      <td>15</td>\n",
       "      <td>CSMM104</td>\n",
       "    </tr>\n",
       "    <tr>\n",
       "      <th>382</th>\n",
       "      <td>O-G-Derrick</td>\n",
       "      <td>1.0</td>\n",
       "      <td>0</td>\n",
       "      <td>16</td>\n",
       "      <td>16</td>\n",
       "      <td>CSMM104</td>\n",
       "    </tr>\n",
       "    <tr>\n",
       "      <th>196</th>\n",
       "      <td>Habib_et_salwa</td>\n",
       "      <td>1.0</td>\n",
       "      <td>0</td>\n",
       "      <td>16</td>\n",
       "      <td>16</td>\n",
       "      <td>CSMM104</td>\n",
       "    </tr>\n",
       "    <tr>\n",
       "      <th>540</th>\n",
       "      <td>adityagudal29</td>\n",
       "      <td>1.0</td>\n",
       "      <td>0</td>\n",
       "      <td>16</td>\n",
       "      <td>16</td>\n",
       "      <td>CSMM104</td>\n",
       "    </tr>\n",
       "  </tbody>\n",
       "</table>\n",
       "<p>1227 rows × 6 columns</p>\n",
       "</div>"
      ],
      "text/plain": [
       "                  name  survival_days  drop_out  enrollment_week  \\\n",
       "613       berkaykurkcu            0.0         1                0   \n",
       "1178  vaibhavibhide289            0.0         1                0   \n",
       "181        FurkanAliGn            0.0         1                0   \n",
       "602           ayeshriz           19.0         1                0   \n",
       "937         melisdiary          106.0         0                1   \n",
       "...                ...            ...       ...              ...   \n",
       "352       MwemaChitafu            1.0         0               15   \n",
       "913           manas161            1.0         0               15   \n",
       "382        O-G-Derrick            1.0         0               16   \n",
       "196     Habib_et_salwa            1.0         0               16   \n",
       "540      adityagudal29            1.0         0               16   \n",
       "\n",
       "      leave_week_of_activity courseId  \n",
       "613                        0  CSMM104  \n",
       "1178                       0  CSMM104  \n",
       "181                        0  CSMM104  \n",
       "602                        3  CSMM104  \n",
       "937                       16  CSMM104  \n",
       "...                      ...      ...  \n",
       "352                       15  CSMM104  \n",
       "913                       15  CSMM104  \n",
       "382                       16  CSMM104  \n",
       "196                       16  CSMM104  \n",
       "540                       16  CSMM104  \n",
       "\n",
       "[1227 rows x 6 columns]"
      ]
     },
     "execution_count": 47,
     "metadata": {},
     "output_type": "execute_result"
    }
   ],
   "source": [
    "CSMM104_user_engagement.sort_values(['enrollment_week'])"
   ]
  },
  {
   "cell_type": "code",
   "execution_count": 48,
   "metadata": {},
   "outputs": [
    {
     "data": {
      "text/html": [
       "<div>\n",
       "<style scoped>\n",
       "    .dataframe tbody tr th:only-of-type {\n",
       "        vertical-align: middle;\n",
       "    }\n",
       "\n",
       "    .dataframe tbody tr th {\n",
       "        vertical-align: top;\n",
       "    }\n",
       "\n",
       "    .dataframe thead th {\n",
       "        text-align: right;\n",
       "    }\n",
       "</style>\n",
       "<table border=\"1\" class=\"dataframe\">\n",
       "  <thead>\n",
       "    <tr style=\"text-align: right;\">\n",
       "      <th></th>\n",
       "      <th>discussion_contributions</th>\n",
       "      <th>problems_attempted</th>\n",
       "      <th>videos_viewed</th>\n",
       "      <th>problems_completed</th>\n",
       "      <th>date</th>\n",
       "      <th>name</th>\n",
       "      <th>activity</th>\n",
       "    </tr>\n",
       "  </thead>\n",
       "  <tbody>\n",
       "    <tr>\n",
       "      <th>7030</th>\n",
       "      <td>0</td>\n",
       "      <td>0</td>\n",
       "      <td>2</td>\n",
       "      <td>0</td>\n",
       "      <td>2020-05-21</td>\n",
       "      <td>manas161</td>\n",
       "      <td>2</td>\n",
       "    </tr>\n",
       "  </tbody>\n",
       "</table>\n",
       "</div>"
      ],
      "text/plain": [
       "      discussion_contributions  problems_attempted  videos_viewed  \\\n",
       "7030                         0                   0              2   \n",
       "\n",
       "      problems_completed        date      name  activity  \n",
       "7030                   0  2020-05-21  manas161         2  "
      ]
     },
     "execution_count": 48,
     "metadata": {},
     "output_type": "execute_result"
    }
   ],
   "source": [
    "CSMM104_engage[CSMM104_engage['name']=='manas161'] # survival_days = 1"
   ]
  },
  {
   "cell_type": "code",
   "execution_count": 49,
   "metadata": {},
   "outputs": [
    {
     "data": {
      "text/html": [
       "<div>\n",
       "<style scoped>\n",
       "    .dataframe tbody tr th:only-of-type {\n",
       "        vertical-align: middle;\n",
       "    }\n",
       "\n",
       "    .dataframe tbody tr th {\n",
       "        vertical-align: top;\n",
       "    }\n",
       "\n",
       "    .dataframe thead th {\n",
       "        text-align: right;\n",
       "    }\n",
       "</style>\n",
       "<table border=\"1\" class=\"dataframe\">\n",
       "  <thead>\n",
       "    <tr style=\"text-align: right;\">\n",
       "      <th></th>\n",
       "      <th>discussion_contributions</th>\n",
       "      <th>problems_attempted</th>\n",
       "      <th>videos_viewed</th>\n",
       "      <th>problems_completed</th>\n",
       "      <th>date</th>\n",
       "      <th>name</th>\n",
       "      <th>activity</th>\n",
       "    </tr>\n",
       "  </thead>\n",
       "  <tbody>\n",
       "    <tr>\n",
       "      <th>1017</th>\n",
       "      <td>0</td>\n",
       "      <td>0</td>\n",
       "      <td>2</td>\n",
       "      <td>0</td>\n",
       "      <td>2020-01-23</td>\n",
       "      <td>FurkanAliGn</td>\n",
       "      <td>2</td>\n",
       "    </tr>\n",
       "  </tbody>\n",
       "</table>\n",
       "</div>"
      ],
      "text/plain": [
       "      discussion_contributions  problems_attempted  videos_viewed  \\\n",
       "1017                         0                   0              2   \n",
       "\n",
       "      problems_completed        date         name  activity  \n",
       "1017                   0  2020-01-23  FurkanAliGn         2  "
      ]
     },
     "execution_count": 49,
     "metadata": {},
     "output_type": "execute_result"
    }
   ],
   "source": [
    "CSMM104_engage[CSMM104_engage['name']=='FurkanAliGn'] # survival_days = 0"
   ]
  },
  {
   "cell_type": "markdown",
   "metadata": {},
   "source": [
    "## 7. Retrevie User Usage/Activity Data"
   ]
  },
  {
   "cell_type": "code",
   "execution_count": 519,
   "metadata": {},
   "outputs": [],
   "source": [
    "goals     = pd.read_csv('SRLUI_v2_activity_0714/goals.csv')\n",
    "reminders = pd.read_csv('SRLUI_v2_activity_0714/reminders.csv')\n",
    "slider    = pd.read_csv('SRLUI_v2_activity_0714/slider.csv')\n",
    "\n",
    "weekid    = pd.read_csv('SRLUI_v2_activity_0714/weekid.csv')"
   ]
  },
  {
   "cell_type": "markdown",
   "metadata": {},
   "source": [
    "### 7. 1 Remove Admin users and NAN users"
   ]
  },
  {
   "cell_type": "code",
   "execution_count": 520,
   "metadata": {},
   "outputs": [
    {
     "name": "stdout",
     "output_type": "stream",
     "text": [
      "(2903, 11) (1601, 14) (2143, 7)\n"
     ]
    }
   ],
   "source": [
    "admins = ['jl5239@columbia.edu','farif@edx.org','han2114@columbia.edu','jbryant@edx.org',\n",
    "          'jiahao.h@columbia.edu','kl3071@columbia.edu','ll3251@tc.columbia.edu',\n",
    "          'mg3856@columbia.edu','nd2588@columbia.edu','sh3146@columbia.edu',\n",
    "          'xc2496@tc.columbia.edu','ves2126@columbia.edu','wd2303@columbia.edu',\n",
    "          'xj2224@columbia.edu',\n",
    "          'chenxiaowen0620@gmail.com',\n",
    "          'tz2378@columbia.edu','sh3146@columbia.edu','shaw.vivienne@gmail.com',\n",
    "          'yomy1996@qq.com','mg3856@columbia.edu','hsu.shuyi@gmail.com',np.nan]\n",
    "\n",
    "print(goals.shape, reminders.shape, slider.shape)"
   ]
  },
  {
   "cell_type": "code",
   "execution_count": 521,
   "metadata": {},
   "outputs": [],
   "source": [
    "def remove_admin(x):\n",
    "    if x in admins:\n",
    "        return 1\n",
    "    else:\n",
    "        return 0\n",
    "\n",
    "goals['isadmin'] = goals['email'].apply(remove_admin)\n",
    "goals = goals[goals['isadmin']==0]\n",
    "reminders['isadmin'] = reminders['email'].apply(remove_admin)\n",
    "reminders = reminders[reminders['isadmin']==0]\n",
    "slider['isadmin'] = slider['email'].apply(remove_admin)\n",
    "slider = slider[slider['isadmin']==0]"
   ]
  },
  {
   "cell_type": "markdown",
   "metadata": {},
   "source": [
    "#### 7.1.1 Goals Overview\n",
    "\n",
    "- `weekNumber`: missing, related to weekId? - what is the week number of the content?\n",
    "- `weekId`: the related study content, should be converted to 1-12\n",
    "- `createDate`: the week related to the activity"
   ]
  },
  {
   "cell_type": "code",
   "execution_count": 522,
   "metadata": {},
   "outputs": [
    {
     "name": "stdout",
     "output_type": "stream",
     "text": [
      "(2861, 12)\n"
     ]
    },
    {
     "data": {
      "text/html": [
       "<div>\n",
       "<style scoped>\n",
       "    .dataframe tbody tr th:only-of-type {\n",
       "        vertical-align: middle;\n",
       "    }\n",
       "\n",
       "    .dataframe tbody tr th {\n",
       "        vertical-align: top;\n",
       "    }\n",
       "\n",
       "    .dataframe thead th {\n",
       "        text-align: right;\n",
       "    }\n",
       "</style>\n",
       "<table border=\"1\" class=\"dataframe\">\n",
       "  <thead>\n",
       "    <tr style=\"text-align: right;\">\n",
       "      <th></th>\n",
       "      <th>userId</th>\n",
       "      <th>courseId</th>\n",
       "      <th>email</th>\n",
       "      <th>group</th>\n",
       "      <th>weekNumber</th>\n",
       "      <th>weekId</th>\n",
       "      <th>createDate</th>\n",
       "      <th>goal1</th>\n",
       "      <th>goal2</th>\n",
       "      <th>goal3</th>\n",
       "      <th>goal4</th>\n",
       "      <th>isadmin</th>\n",
       "    </tr>\n",
       "  </thead>\n",
       "  <tbody>\n",
       "    <tr>\n",
       "      <th>13</th>\n",
       "      <td>18513183.0</td>\n",
       "      <td>ColumbiaX+CSMM.102x+3T2019</td>\n",
       "      <td>yunchao.lin10@gmail.com</td>\n",
       "      <td>NaN</td>\n",
       "      <td>NaN</td>\n",
       "      <td>72447618dfce491584fb7c45f709e99a</td>\n",
       "      <td>2019-10-02T18:20:33.171Z</td>\n",
       "      <td>1</td>\n",
       "      <td>1</td>\n",
       "      <td>1</td>\n",
       "      <td>1</td>\n",
       "      <td>0</td>\n",
       "    </tr>\n",
       "    <tr>\n",
       "      <th>16</th>\n",
       "      <td>24976941.0</td>\n",
       "      <td>ColumbiaX+BAMM.104x+3T2019</td>\n",
       "      <td>danielegiambra@libero.it</td>\n",
       "      <td>NaN</td>\n",
       "      <td>NaN</td>\n",
       "      <td>d30ecf0ccb6143909d5660bfa57473fe</td>\n",
       "      <td>2019-10-02T20:39:58.206Z</td>\n",
       "      <td>NaN</td>\n",
       "      <td>NaN</td>\n",
       "      <td>NaN</td>\n",
       "      <td>NaN</td>\n",
       "      <td>0</td>\n",
       "    </tr>\n",
       "    <tr>\n",
       "      <th>17</th>\n",
       "      <td>23105767.0</td>\n",
       "      <td>ColumbiaX+CSMM.102x+3T2019</td>\n",
       "      <td>gecrodriguezpe@unal.edu.co</td>\n",
       "      <td>NaN</td>\n",
       "      <td>NaN</td>\n",
       "      <td>72447618dfce491584fb7c45f709e99a</td>\n",
       "      <td>2019-10-02T21:13:59.749Z</td>\n",
       "      <td>NaN</td>\n",
       "      <td>NaN</td>\n",
       "      <td>NaN</td>\n",
       "      <td>NaN</td>\n",
       "      <td>0</td>\n",
       "    </tr>\n",
       "  </tbody>\n",
       "</table>\n",
       "</div>"
      ],
      "text/plain": [
       "        userId                    courseId                       email  group  \\\n",
       "13  18513183.0  ColumbiaX+CSMM.102x+3T2019     yunchao.lin10@gmail.com    NaN   \n",
       "16  24976941.0  ColumbiaX+BAMM.104x+3T2019    danielegiambra@libero.it    NaN   \n",
       "17  23105767.0  ColumbiaX+CSMM.102x+3T2019  gecrodriguezpe@unal.edu.co    NaN   \n",
       "\n",
       "    weekNumber                            weekId                createDate  \\\n",
       "13         NaN  72447618dfce491584fb7c45f709e99a  2019-10-02T18:20:33.171Z   \n",
       "16         NaN  d30ecf0ccb6143909d5660bfa57473fe  2019-10-02T20:39:58.206Z   \n",
       "17         NaN  72447618dfce491584fb7c45f709e99a  2019-10-02T21:13:59.749Z   \n",
       "\n",
       "   goal1 goal2 goal3 goal4  isadmin  \n",
       "13     1     1     1     1        0  \n",
       "16   NaN   NaN   NaN   NaN        0  \n",
       "17   NaN   NaN   NaN   NaN        0  "
      ]
     },
     "execution_count": 522,
     "metadata": {},
     "output_type": "execute_result"
    }
   ],
   "source": [
    "print(goals.shape)\n",
    "goals.head(3)"
   ]
  },
  {
   "cell_type": "markdown",
   "metadata": {},
   "source": [
    "#### 7.1.2 Reminders Overview\n",
    "\n",
    "- `weekNumber`: related to weekId?\n",
    "- `weekId`: the related study content, should be converted to 1-12\n",
    "- `createDate`: missing"
   ]
  },
  {
   "cell_type": "code",
   "execution_count": 523,
   "metadata": {},
   "outputs": [
    {
     "name": "stdout",
     "output_type": "stream",
     "text": [
      "(1542, 15)\n"
     ]
    },
    {
     "data": {
      "text/html": [
       "<div>\n",
       "<style scoped>\n",
       "    .dataframe tbody tr th:only-of-type {\n",
       "        vertical-align: middle;\n",
       "    }\n",
       "\n",
       "    .dataframe tbody tr th {\n",
       "        vertical-align: top;\n",
       "    }\n",
       "\n",
       "    .dataframe thead th {\n",
       "        text-align: right;\n",
       "    }\n",
       "</style>\n",
       "<table border=\"1\" class=\"dataframe\">\n",
       "  <thead>\n",
       "    <tr style=\"text-align: right;\">\n",
       "      <th></th>\n",
       "      <th>userId</th>\n",
       "      <th>courseId</th>\n",
       "      <th>email</th>\n",
       "      <th>weekNumber</th>\n",
       "      <th>weekId</th>\n",
       "      <th>task1</th>\n",
       "      <th>date1</th>\n",
       "      <th>offset1</th>\n",
       "      <th>task2</th>\n",
       "      <th>date2</th>\n",
       "      <th>offset2</th>\n",
       "      <th>task3</th>\n",
       "      <th>date3</th>\n",
       "      <th>offset3</th>\n",
       "      <th>isadmin</th>\n",
       "    </tr>\n",
       "  </thead>\n",
       "  <tbody>\n",
       "    <tr>\n",
       "      <th>38</th>\n",
       "      <td>18513183</td>\n",
       "      <td>ColumbiaX+CSMM.102x+3T2019</td>\n",
       "      <td>yunchao.lin10@gmail.com</td>\n",
       "      <td>3</td>\n",
       "      <td>72447618dfce491584fb7c45f709e99a</td>\n",
       "      <td>NaN</td>\n",
       "      <td>NaN</td>\n",
       "      <td>10</td>\n",
       "      <td>NaN</td>\n",
       "      <td>NaN</td>\n",
       "      <td>10.0</td>\n",
       "      <td>NaN</td>\n",
       "      <td>NaN</td>\n",
       "      <td>10.0</td>\n",
       "      <td>0</td>\n",
       "    </tr>\n",
       "    <tr>\n",
       "      <th>39</th>\n",
       "      <td>18513183</td>\n",
       "      <td>ColumbiaX+CSMM.102x+3T2019</td>\n",
       "      <td>yunchao.lin10@gmail.com</td>\n",
       "      <td>3</td>\n",
       "      <td>72447618dfce491584fb7c45f709e99a</td>\n",
       "      <td>NaN</td>\n",
       "      <td>NaN</td>\n",
       "      <td>10</td>\n",
       "      <td>NaN</td>\n",
       "      <td>NaN</td>\n",
       "      <td>10.0</td>\n",
       "      <td>NaN</td>\n",
       "      <td>NaN</td>\n",
       "      <td>10.0</td>\n",
       "      <td>0</td>\n",
       "    </tr>\n",
       "    <tr>\n",
       "      <th>40</th>\n",
       "      <td>1864359</td>\n",
       "      <td>ColumbiaX+CSMM.101x+3T2019</td>\n",
       "      <td>marlon.ortiz@outlook.com</td>\n",
       "      <td>3</td>\n",
       "      <td>72ad68365307491198cfcadeeb17baad</td>\n",
       "      <td>watch week video</td>\n",
       "      <td>1.570395e+12</td>\n",
       "      <td>10</td>\n",
       "      <td>Complete prerequisite knowledge assignment</td>\n",
       "      <td>1.570481e+12</td>\n",
       "      <td>10.0</td>\n",
       "      <td>review linear algebra and probability</td>\n",
       "      <td>1.570568e+12</td>\n",
       "      <td>10.0</td>\n",
       "      <td>0</td>\n",
       "    </tr>\n",
       "  </tbody>\n",
       "</table>\n",
       "</div>"
      ],
      "text/plain": [
       "      userId                    courseId                     email  \\\n",
       "38  18513183  ColumbiaX+CSMM.102x+3T2019   yunchao.lin10@gmail.com   \n",
       "39  18513183  ColumbiaX+CSMM.102x+3T2019   yunchao.lin10@gmail.com   \n",
       "40   1864359  ColumbiaX+CSMM.101x+3T2019  marlon.ortiz@outlook.com   \n",
       "\n",
       "    weekNumber                            weekId             task1  \\\n",
       "38           3  72447618dfce491584fb7c45f709e99a               NaN   \n",
       "39           3  72447618dfce491584fb7c45f709e99a               NaN   \n",
       "40           3  72ad68365307491198cfcadeeb17baad  watch week video   \n",
       "\n",
       "           date1  offset1                                       task2  \\\n",
       "38           NaN       10                                         NaN   \n",
       "39           NaN       10                                         NaN   \n",
       "40  1.570395e+12       10  Complete prerequisite knowledge assignment   \n",
       "\n",
       "           date2  offset2                                  task3  \\\n",
       "38           NaN     10.0                                    NaN   \n",
       "39           NaN     10.0                                    NaN   \n",
       "40  1.570481e+12     10.0  review linear algebra and probability   \n",
       "\n",
       "           date3  offset3  isadmin  \n",
       "38           NaN     10.0        0  \n",
       "39           NaN     10.0        0  \n",
       "40  1.570568e+12     10.0        0  "
      ]
     },
     "execution_count": 523,
     "metadata": {},
     "output_type": "execute_result"
    }
   ],
   "source": [
    "print(reminders.shape)\n",
    "reminders.head(3)"
   ]
  },
  {
   "cell_type": "markdown",
   "metadata": {},
   "source": [
    "#### 7.1.3 Slider Overview\n",
    "\n",
    "- `weekNumber`: missing, should be created using weekId - what is the week number of the content?\n",
    "- `weekId`: the related study content, should be converted to 1-12\n",
    "- `createDate`: missing"
   ]
  },
  {
   "cell_type": "code",
   "execution_count": 524,
   "metadata": {},
   "outputs": [
    {
     "name": "stdout",
     "output_type": "stream",
     "text": [
      "(2109, 8)\n"
     ]
    },
    {
     "data": {
      "text/html": [
       "<div>\n",
       "<style scoped>\n",
       "    .dataframe tbody tr th:only-of-type {\n",
       "        vertical-align: middle;\n",
       "    }\n",
       "\n",
       "    .dataframe tbody tr th {\n",
       "        vertical-align: top;\n",
       "    }\n",
       "\n",
       "    .dataframe thead th {\n",
       "        text-align: right;\n",
       "    }\n",
       "</style>\n",
       "<table border=\"1\" class=\"dataframe\">\n",
       "  <thead>\n",
       "    <tr style=\"text-align: right;\">\n",
       "      <th></th>\n",
       "      <th>userId</th>\n",
       "      <th>courseId</th>\n",
       "      <th>email</th>\n",
       "      <th>weekNumber</th>\n",
       "      <th>weekId</th>\n",
       "      <th>createDate</th>\n",
       "      <th>sliderPercentage</th>\n",
       "      <th>isadmin</th>\n",
       "    </tr>\n",
       "  </thead>\n",
       "  <tbody>\n",
       "    <tr>\n",
       "      <th>10</th>\n",
       "      <td>25556728</td>\n",
       "      <td>ColumbiaX+BAMM.104x+3T2019</td>\n",
       "      <td>lcspictures165@gmail.com</td>\n",
       "      <td>NaN</td>\n",
       "      <td>d30ecf0ccb6143909d5660bfa57473fe</td>\n",
       "      <td>2019-10-02T17:59:54.549Z</td>\n",
       "      <td>50</td>\n",
       "      <td>0</td>\n",
       "    </tr>\n",
       "    <tr>\n",
       "      <th>11</th>\n",
       "      <td>25556728</td>\n",
       "      <td>ColumbiaX+BAMM.104x+3T2019</td>\n",
       "      <td>lcspictures165@gmail.com</td>\n",
       "      <td>NaN</td>\n",
       "      <td>NaN</td>\n",
       "      <td>2019-10-02T18:05:34.304Z</td>\n",
       "      <td>67</td>\n",
       "      <td>0</td>\n",
       "    </tr>\n",
       "    <tr>\n",
       "      <th>12</th>\n",
       "      <td>18513183</td>\n",
       "      <td>ColumbiaX+CSMM.102x+3T2019</td>\n",
       "      <td>yunchao.lin10@gmail.com</td>\n",
       "      <td>NaN</td>\n",
       "      <td>NaN</td>\n",
       "      <td>2019-10-02T18:20:21.357Z</td>\n",
       "      <td>50</td>\n",
       "      <td>0</td>\n",
       "    </tr>\n",
       "  </tbody>\n",
       "</table>\n",
       "</div>"
      ],
      "text/plain": [
       "      userId                    courseId                     email  \\\n",
       "10  25556728  ColumbiaX+BAMM.104x+3T2019  lcspictures165@gmail.com   \n",
       "11  25556728  ColumbiaX+BAMM.104x+3T2019  lcspictures165@gmail.com   \n",
       "12  18513183  ColumbiaX+CSMM.102x+3T2019   yunchao.lin10@gmail.com   \n",
       "\n",
       "    weekNumber                            weekId                createDate  \\\n",
       "10         NaN  d30ecf0ccb6143909d5660bfa57473fe  2019-10-02T17:59:54.549Z   \n",
       "11         NaN                               NaN  2019-10-02T18:05:34.304Z   \n",
       "12         NaN                               NaN  2019-10-02T18:20:21.357Z   \n",
       "\n",
       "    sliderPercentage  isadmin  \n",
       "10                50        0  \n",
       "11                67        0  \n",
       "12                50        0  "
      ]
     },
     "execution_count": 524,
     "metadata": {},
     "output_type": "execute_result"
    }
   ],
   "source": [
    "print(slider.shape)\n",
    "slider.head(3)"
   ]
  },
  {
   "cell_type": "markdown",
   "metadata": {},
   "source": [
    "### 7.2 Delete duplicate and empty values\n",
    "\n",
    "#### 7.2.1 Empty values\n",
    "\n",
    "Empty values - if all of (goal1, goal2, goal3, goal4) are NaN ==> empty\n",
    "\n",
    "Empty values - if all of (task1, task2, task3) are NaN ==> empty\n"
   ]
  },
  {
   "cell_type": "code",
   "execution_count": 525,
   "metadata": {},
   "outputs": [
    {
     "name": "stdout",
     "output_type": "stream",
     "text": [
      "Before/After deleting empty values, the dataset shape: \n",
      "goals \treminders \tslider\n",
      "(2861, 12) (1542, 15) (2109, 8)\n",
      "(1830, 13) (763, 16) (2109, 8)\n"
     ]
    }
   ],
   "source": [
    "print('Before/After deleting empty values, the dataset shape: \\ngoals \\treminders \\tslider')\n",
    "print(goals.shape, reminders.shape, slider.shape)\n",
    "# Goals\n",
    "goals['goals_num'] = (1-(goals['goal1'].isnull())*1) + (1-(goals['goal2'].isnull())*1) \\\n",
    "                        + (1-(goals['goal3'].isnull())*1) + (1-(goals['goal4'].isnull())*1)\n",
    "goals = goals[goals['goals_num'] != 0]\n",
    "\n",
    "# Reminders\n",
    "reminders['tasks_num'] = (1-(reminders['task1'].isnull())*1) + (1-(reminders['task2'].isnull())*1) \\\n",
    "                        + (1-(reminders['task3'].isnull())*1)\n",
    "reminders = reminders[reminders['tasks_num'] != 0]\n",
    "\n",
    "print(goals.shape, reminders.shape, slider.shape)"
   ]
  },
  {
   "cell_type": "markdown",
   "metadata": {},
   "source": [
    "#### 7.2.2 Duplicate rows"
   ]
  },
  {
   "cell_type": "code",
   "execution_count": 526,
   "metadata": {},
   "outputs": [
    {
     "name": "stdout",
     "output_type": "stream",
     "text": [
      "Before/After deleting duplicate values, the dataset shape: \n",
      "goals \treminders \tslider\n",
      "(1830, 13) (763, 16) (2109, 8)\n",
      "(1830, 13) (445, 16) (2109, 8)\n"
     ]
    }
   ],
   "source": [
    "print('Before/After deleting duplicate values, the dataset shape: \\ngoals \\treminders \\tslider')\n",
    "print(goals.shape, reminders.shape, slider.shape)\n",
    "\n",
    "goals = goals.drop_duplicates()\n",
    "reminders = reminders.drop_duplicates()\n",
    "slider = slider.drop_duplicates()\n",
    "\n",
    "print(goals.shape, reminders.shape, slider.shape)"
   ]
  },
  {
   "cell_type": "markdown",
   "metadata": {},
   "source": [
    "### 7.3 Convert  weekId to 1-12\n",
    "\n",
    "- Course period: 9/15/2019 - 12/16/2019\n",
    "- Convert method: using <html><a href='https://docs.google.com/spreadsheets/d/1bwEjc-aaeu8OGpK7wSxAWHdmYwAy2FjHkCqjHsfTWno/edit#gid=0'>weekid.csv</a></html> file.\n",
    "\n",
    "#### 7.3.1 Map original dataset with weekid_module\n",
    "\n",
    "##### For `goals`, There are some records whose `weekId` is NaN, this is because in the original dataset, `courseId` is not properly parsed. "
   ]
  },
  {
   "cell_type": "code",
   "execution_count": 527,
   "metadata": {},
   "outputs": [],
   "source": [
    "weekid_module = {}\n",
    "keys = weekid['weekId'].values\n",
    "values = weekid['WeekContent'].values.astype('Int64')\n",
    "\n",
    "for i in range(len(weekid)):\n",
    "    weekid_module[keys[i]] = values[i]\n",
    "    \n",
    "def map_weekcontent(x):\n",
    "    return weekid_module.get(x)"
   ]
  },
  {
   "cell_type": "code",
   "execution_count": 528,
   "metadata": {},
   "outputs": [],
   "source": [
    "goals['WeekContent'] = goals['weekId'].apply(map_weekcontent)"
   ]
  },
  {
   "cell_type": "code",
   "execution_count": 529,
   "metadata": {},
   "outputs": [
    {
     "name": "stdout",
     "output_type": "stream",
     "text": [
      "How many NaN in goals weekId: 43\n",
      "ColumbiaX+CSMM.102x+3T2019+type@html+block@e3a87093832f44af81522ada1295d116\n"
     ]
    },
    {
     "data": {
      "text/html": [
       "<div>\n",
       "<style scoped>\n",
       "    .dataframe tbody tr th:only-of-type {\n",
       "        vertical-align: middle;\n",
       "    }\n",
       "\n",
       "    .dataframe tbody tr th {\n",
       "        vertical-align: top;\n",
       "    }\n",
       "\n",
       "    .dataframe thead th {\n",
       "        text-align: right;\n",
       "    }\n",
       "</style>\n",
       "<table border=\"1\" class=\"dataframe\">\n",
       "  <thead>\n",
       "    <tr style=\"text-align: right;\">\n",
       "      <th></th>\n",
       "      <th>userId</th>\n",
       "      <th>courseId</th>\n",
       "      <th>email</th>\n",
       "      <th>group</th>\n",
       "      <th>weekNumber</th>\n",
       "      <th>weekId</th>\n",
       "      <th>createDate</th>\n",
       "      <th>goal1</th>\n",
       "      <th>goal2</th>\n",
       "      <th>goal3</th>\n",
       "      <th>goal4</th>\n",
       "      <th>isadmin</th>\n",
       "      <th>goals_num</th>\n",
       "      <th>WeekContent</th>\n",
       "    </tr>\n",
       "  </thead>\n",
       "  <tbody>\n",
       "    <tr>\n",
       "      <th>137</th>\n",
       "      <td>2809405.0</td>\n",
       "      <td>ColumbiaX+CSMM.102x+3T2019+type@html+block@e3a...</td>\n",
       "      <td>vijayendra.mnnita@gmail.com</td>\n",
       "      <td>NaN</td>\n",
       "      <td>NaN</td>\n",
       "      <td>NaN</td>\n",
       "      <td>2019-10-10T03:51:38.785Z</td>\n",
       "      <td>Watch week 1 and week 2 videos o we weekend</td>\n",
       "      <td>Complete quizes</td>\n",
       "      <td>Complete Matrix and Linear Algebra by next Week</td>\n",
       "      <td>Revisit Statistics based in source provided</td>\n",
       "      <td>0</td>\n",
       "      <td>4</td>\n",
       "      <td>NaN</td>\n",
       "    </tr>\n",
       "    <tr>\n",
       "      <th>231</th>\n",
       "      <td>15965493.0</td>\n",
       "      <td>ColumbiaX+CSMM.101x+3T2019+type@html+block@e8e...</td>\n",
       "      <td>deslam@microsoft.com</td>\n",
       "      <td>NaN</td>\n",
       "      <td>NaN</td>\n",
       "      <td>NaN</td>\n",
       "      <td>2019-10-12T05:31:15.614Z</td>\n",
       "      <td>Watch next week video</td>\n",
       "      <td>Complete week 2 project</td>\n",
       "      <td>NaN</td>\n",
       "      <td>NaN</td>\n",
       "      <td>0</td>\n",
       "      <td>2</td>\n",
       "      <td>NaN</td>\n",
       "    </tr>\n",
       "    <tr>\n",
       "      <th>478</th>\n",
       "      <td>11884863.0</td>\n",
       "      <td>ColumbiaX+CSMM.101x+3T2019+type@html+block@b90...</td>\n",
       "      <td>adutta67@hotmail.com</td>\n",
       "      <td>NaN</td>\n",
       "      <td>NaN</td>\n",
       "      <td>NaN</td>\n",
       "      <td>2019-10-15T22:56:54.991Z</td>\n",
       "      <td>Watch videos</td>\n",
       "      <td>Complete assignments</td>\n",
       "      <td>Review material</td>\n",
       "      <td>Discuss</td>\n",
       "      <td>0</td>\n",
       "      <td>4</td>\n",
       "      <td>NaN</td>\n",
       "    </tr>\n",
       "  </tbody>\n",
       "</table>\n",
       "</div>"
      ],
      "text/plain": [
       "         userId                                           courseId  \\\n",
       "137   2809405.0  ColumbiaX+CSMM.102x+3T2019+type@html+block@e3a...   \n",
       "231  15965493.0  ColumbiaX+CSMM.101x+3T2019+type@html+block@e8e...   \n",
       "478  11884863.0  ColumbiaX+CSMM.101x+3T2019+type@html+block@b90...   \n",
       "\n",
       "                           email  group  weekNumber weekId  \\\n",
       "137  vijayendra.mnnita@gmail.com    NaN         NaN    NaN   \n",
       "231         deslam@microsoft.com    NaN         NaN    NaN   \n",
       "478         adutta67@hotmail.com    NaN         NaN    NaN   \n",
       "\n",
       "                   createDate                                        goal1  \\\n",
       "137  2019-10-10T03:51:38.785Z  Watch week 1 and week 2 videos o we weekend   \n",
       "231  2019-10-12T05:31:15.614Z                        Watch next week video   \n",
       "478  2019-10-15T22:56:54.991Z                                 Watch videos   \n",
       "\n",
       "                       goal2                                            goal3  \\\n",
       "137          Complete quizes  Complete Matrix and Linear Algebra by next Week   \n",
       "231  Complete week 2 project                                              NaN   \n",
       "478     Complete assignments                                  Review material   \n",
       "\n",
       "                                           goal4  isadmin  goals_num  \\\n",
       "137  Revisit Statistics based in source provided        0          4   \n",
       "231                                          NaN        0          2   \n",
       "478                                      Discuss        0          4   \n",
       "\n",
       "     WeekContent  \n",
       "137          NaN  \n",
       "231          NaN  \n",
       "478          NaN  "
      ]
     },
     "execution_count": 529,
     "metadata": {},
     "output_type": "execute_result"
    }
   ],
   "source": [
    "print('How many NaN in goals weekId:',sum(goals['WeekContent'].isnull()))\n",
    "print(goals[goals['WeekContent'].isnull()==True].courseId.values[0])\n",
    "goals[goals['WeekContent'].isnull()==True].head(3)"
   ]
  },
  {
   "cell_type": "code",
   "execution_count": 530,
   "metadata": {},
   "outputs": [],
   "source": [
    "def modify_courseId(x):\n",
    "    l = len('ColumbiaX+CSMM.102x+3T2019+type@html+block@')\n",
    "    if len(x)>l:\n",
    "        return x[l:]\n",
    "    else:\n",
    "        return False\n",
    "makeup_weekid = goals['courseId'].apply(modify_courseId).values\n",
    "weekId = goals['weekId'].values\n",
    "\n",
    "isWeekId_NaN = goals['WeekContent'].isnull().values\n",
    "weekId_new = np.array([])\n",
    "for i in range(len(goals)):\n",
    "    if isWeekId_NaN[i]:\n",
    "        weekId_new = np.append(weekId_new, makeup_weekid[i])\n",
    "    else:\n",
    "        weekId_new = np.append(weekId_new, weekId[i])\n",
    "\n",
    "goals['weekId'] = weekId_new"
   ]
  },
  {
   "cell_type": "markdown",
   "metadata": {},
   "source": [
    "##### For `reminders`, There are no NaN `weekId` , every record can be perfectly matched with the 1-12 week number\n",
    "##### For `slider`, There are a lot of NaN `weekId` "
   ]
  },
  {
   "cell_type": "code",
   "execution_count": 531,
   "metadata": {},
   "outputs": [
    {
     "name": "stdout",
     "output_type": "stream",
     "text": [
      "reminders:  0\n",
      "slider:  1989\n"
     ]
    }
   ],
   "source": [
    "print('reminders: ',sum(reminders['weekId'].isnull())) # 0 NaN in weekId\n",
    "print('slider: ',sum(slider['weekId'].isnull())) # 0 NaN in weekId"
   ]
  },
  {
   "cell_type": "markdown",
   "metadata": {},
   "source": [
    "##### Keep only the important part of columns to make drop_duplicates easier."
   ]
  },
  {
   "cell_type": "code",
   "execution_count": 532,
   "metadata": {
    "scrolled": true
   },
   "outputs": [],
   "source": [
    "goal_keep_cols = ['userId', 'courseId', 'weekNumber', 'createDate','goal1', 'goal2', 'goal3', 'goal4', 'goals_num', 'WeekContent']\n",
    "reminder_keep_cols = ['userId', 'courseId', 'weekNumber', 'weekId', 'task1','task2', 'task3','tasks_num', 'WeekContent']\n",
    "slider_keep_cols = ['userId', 'courseId', 'weekNumber', 'createDate', 'weekId','sliderPercentage', 'WeekContent']\n",
    "\n",
    "goals_output = goals[goal_keep_cols]\n",
    "\n",
    "reminders['WeekContent'] = reminders['weekId'].apply(map_weekcontent)\n",
    "reminders_output = reminders[reminder_keep_cols]\n",
    "\n",
    "slider['WeekContent'] = slider['weekId'].apply(map_weekcontent)\n",
    "slider_output  = slider[slider_keep_cols]"
   ]
  },
  {
   "cell_type": "markdown",
   "metadata": {},
   "source": [
    "### 7.4 Add Week_number\n",
    "\n",
    "- Course period: 9/16/2019 - 12/23/2019  (BAMM101-104, CSMM)\n",
    "- Course period: 9/16/2019 - 12/9/2019   (CSMM103)\n",
    "\n",
    "##### There is already a column of weekNumber in `reminders`\n",
    "##### Drop data step 2: Remove the `createDate` and drop the multiple tasks & goals for the same weekId generated with a few mins differences"
   ]
  },
  {
   "cell_type": "code",
   "execution_count": 533,
   "metadata": {},
   "outputs": [
    {
     "data": {
      "text/html": [
       "<div>\n",
       "<style scoped>\n",
       "    .dataframe tbody tr th:only-of-type {\n",
       "        vertical-align: middle;\n",
       "    }\n",
       "\n",
       "    .dataframe tbody tr th {\n",
       "        vertical-align: top;\n",
       "    }\n",
       "\n",
       "    .dataframe thead th {\n",
       "        text-align: right;\n",
       "    }\n",
       "</style>\n",
       "<table border=\"1\" class=\"dataframe\">\n",
       "  <thead>\n",
       "    <tr style=\"text-align: right;\">\n",
       "      <th></th>\n",
       "      <th>userId</th>\n",
       "      <th>courseId</th>\n",
       "      <th>weekNumber</th>\n",
       "      <th>createDate</th>\n",
       "      <th>goal1</th>\n",
       "      <th>goal2</th>\n",
       "      <th>goal3</th>\n",
       "      <th>goal4</th>\n",
       "      <th>goals_num</th>\n",
       "      <th>WeekContent</th>\n",
       "    </tr>\n",
       "  </thead>\n",
       "  <tbody>\n",
       "    <tr>\n",
       "      <th>13</th>\n",
       "      <td>18513183.0</td>\n",
       "      <td>ColumbiaX+CSMM.102x+3T2019</td>\n",
       "      <td>NaN</td>\n",
       "      <td>2019-10-02</td>\n",
       "      <td>1</td>\n",
       "      <td>1</td>\n",
       "      <td>1</td>\n",
       "      <td>1</td>\n",
       "      <td>4</td>\n",
       "      <td>1.0</td>\n",
       "    </tr>\n",
       "    <tr>\n",
       "      <th>18</th>\n",
       "      <td>1864359.0</td>\n",
       "      <td>ColumbiaX+CSMM.101x+3T2019</td>\n",
       "      <td>NaN</td>\n",
       "      <td>2019-10-02</td>\n",
       "      <td>watch week 1 video</td>\n",
       "      <td>Complete prerequisite knowledge assignment</td>\n",
       "      <td>review linear algebra and probability</td>\n",
       "      <td>NaN</td>\n",
       "      <td>3</td>\n",
       "      <td>1.0</td>\n",
       "    </tr>\n",
       "    <tr>\n",
       "      <th>21</th>\n",
       "      <td>3441883.0</td>\n",
       "      <td>ColumbiaX+CSMM.101x+3T2019</td>\n",
       "      <td>NaN</td>\n",
       "      <td>2019-10-03</td>\n",
       "      <td>watch videos</td>\n",
       "      <td>NaN</td>\n",
       "      <td>NaN</td>\n",
       "      <td>NaN</td>\n",
       "      <td>1</td>\n",
       "      <td>1.0</td>\n",
       "    </tr>\n",
       "  </tbody>\n",
       "</table>\n",
       "</div>"
      ],
      "text/plain": [
       "        userId                    courseId  weekNumber createDate  \\\n",
       "13  18513183.0  ColumbiaX+CSMM.102x+3T2019         NaN 2019-10-02   \n",
       "18   1864359.0  ColumbiaX+CSMM.101x+3T2019         NaN 2019-10-02   \n",
       "21   3441883.0  ColumbiaX+CSMM.101x+3T2019         NaN 2019-10-03   \n",
       "\n",
       "                 goal1                                       goal2  \\\n",
       "13                   1                                           1   \n",
       "18  watch week 1 video  Complete prerequisite knowledge assignment   \n",
       "21        watch videos                                         NaN   \n",
       "\n",
       "                                    goal3 goal4  goals_num  WeekContent  \n",
       "13                                      1     1          4          1.0  \n",
       "18  review linear algebra and probability   NaN          3          1.0  \n",
       "21                                    NaN   NaN          1          1.0  "
      ]
     },
     "execution_count": 533,
     "metadata": {},
     "output_type": "execute_result"
    }
   ],
   "source": [
    "def simplify_createDate(x):\n",
    "    return x[:10]\n",
    "\n",
    "goals_output['createDate']  = goals_output['createDate'].apply(simplify_createDate)\n",
    "slider_output['createDate'] = slider_output['createDate'].apply(simplify_createDate)\n",
    "\n",
    "goals_output['createDate']  = pd.to_datetime(goals_output['createDate'])\n",
    "slider_output['createDate'] = pd.to_datetime(slider_output['createDate'])\n",
    "goals_output.head(3)"
   ]
  },
  {
   "cell_type": "code",
   "execution_count": 534,
   "metadata": {},
   "outputs": [],
   "source": [
    "start_date1 = pd.to_datetime('2019-9-16')\n",
    "end_date1   = pd.to_datetime('2019-12-23')\n",
    "start_date3 = pd.to_datetime('2019-9-16')    # CSMM103\n",
    "end_date3   = pd.to_datetime('2019-12-9')"
   ]
  },
  {
   "cell_type": "raw",
   "metadata": {},
   "source": [
    "''' #not necessary\n",
    "def is_CS103(x):\n",
    "    if 'CSMM.103x' in x:\n",
    "        return 1\n",
    "    else:\n",
    "        return 0\n",
    "    \n",
    "goals_output['is_CS103']     = goals_output['courseId'].apply(is_CS103)\n",
    "reminders_output['is_CS103'] = reminders_output['courseId'].apply(is_CS103)\n",
    "slider_output['is_CS103']    = slider_output['courseId'].apply(is_CS103)\n",
    "'''"
   ]
  },
  {
   "cell_type": "code",
   "execution_count": 535,
   "metadata": {},
   "outputs": [],
   "source": [
    "goals_output['days_since_startdate'] = (goals_output['createDate'] - start_date1)/np.timedelta64(1,'D') + 1\n",
    "slider_output['days_since_startdate']  = (slider_output['createDate'] - start_date1)/np.timedelta64(1,'D') + 1\n",
    "\n",
    "goals_output['weekNumber']  = goals_output['days_since_startdate']/7\n",
    "slider_output['weekNumber'] = slider_output['days_since_startdate']/7\n",
    "\n",
    "def to_weekNumbr(x):\n",
    "    return math.ceil(x)\n",
    "\n",
    "goals_output['weekNumber'] = goals_output['weekNumber'].apply(to_weekNumbr)\n",
    "slider_output['weekNumber'] = slider_output['weekNumber'].apply(to_weekNumbr)"
   ]
  },
  {
   "cell_type": "code",
   "execution_count": 536,
   "metadata": {},
   "outputs": [
    {
     "data": {
      "text/html": [
       "<div>\n",
       "<style scoped>\n",
       "    .dataframe tbody tr th:only-of-type {\n",
       "        vertical-align: middle;\n",
       "    }\n",
       "\n",
       "    .dataframe tbody tr th {\n",
       "        vertical-align: top;\n",
       "    }\n",
       "\n",
       "    .dataframe thead th {\n",
       "        text-align: right;\n",
       "    }\n",
       "</style>\n",
       "<table border=\"1\" class=\"dataframe\">\n",
       "  <thead>\n",
       "    <tr style=\"text-align: right;\">\n",
       "      <th></th>\n",
       "      <th>userId</th>\n",
       "      <th>courseId</th>\n",
       "      <th>weekNumber</th>\n",
       "      <th>createDate</th>\n",
       "      <th>goal1</th>\n",
       "      <th>goal2</th>\n",
       "      <th>goal3</th>\n",
       "      <th>goal4</th>\n",
       "      <th>goals_num</th>\n",
       "      <th>WeekContent</th>\n",
       "      <th>days_since_startdate</th>\n",
       "    </tr>\n",
       "  </thead>\n",
       "  <tbody>\n",
       "    <tr>\n",
       "      <th>13</th>\n",
       "      <td>18513183.0</td>\n",
       "      <td>ColumbiaX+CSMM.102x+3T2019</td>\n",
       "      <td>3</td>\n",
       "      <td>2019-10-02</td>\n",
       "      <td>1</td>\n",
       "      <td>1</td>\n",
       "      <td>1</td>\n",
       "      <td>1</td>\n",
       "      <td>4</td>\n",
       "      <td>1.0</td>\n",
       "      <td>17.0</td>\n",
       "    </tr>\n",
       "    <tr>\n",
       "      <th>18</th>\n",
       "      <td>1864359.0</td>\n",
       "      <td>ColumbiaX+CSMM.101x+3T2019</td>\n",
       "      <td>3</td>\n",
       "      <td>2019-10-02</td>\n",
       "      <td>watch week 1 video</td>\n",
       "      <td>Complete prerequisite knowledge assignment</td>\n",
       "      <td>review linear algebra and probability</td>\n",
       "      <td>NaN</td>\n",
       "      <td>3</td>\n",
       "      <td>1.0</td>\n",
       "      <td>17.0</td>\n",
       "    </tr>\n",
       "    <tr>\n",
       "      <th>21</th>\n",
       "      <td>3441883.0</td>\n",
       "      <td>ColumbiaX+CSMM.101x+3T2019</td>\n",
       "      <td>3</td>\n",
       "      <td>2019-10-03</td>\n",
       "      <td>watch videos</td>\n",
       "      <td>NaN</td>\n",
       "      <td>NaN</td>\n",
       "      <td>NaN</td>\n",
       "      <td>1</td>\n",
       "      <td>1.0</td>\n",
       "      <td>18.0</td>\n",
       "    </tr>\n",
       "  </tbody>\n",
       "</table>\n",
       "</div>"
      ],
      "text/plain": [
       "        userId                    courseId  weekNumber createDate  \\\n",
       "13  18513183.0  ColumbiaX+CSMM.102x+3T2019           3 2019-10-02   \n",
       "18   1864359.0  ColumbiaX+CSMM.101x+3T2019           3 2019-10-02   \n",
       "21   3441883.0  ColumbiaX+CSMM.101x+3T2019           3 2019-10-03   \n",
       "\n",
       "                 goal1                                       goal2  \\\n",
       "13                   1                                           1   \n",
       "18  watch week 1 video  Complete prerequisite knowledge assignment   \n",
       "21        watch videos                                         NaN   \n",
       "\n",
       "                                    goal3 goal4  goals_num  WeekContent  \\\n",
       "13                                      1     1          4          1.0   \n",
       "18  review linear algebra and probability   NaN          3          1.0   \n",
       "21                                    NaN   NaN          1          1.0   \n",
       "\n",
       "    days_since_startdate  \n",
       "13                  17.0  \n",
       "18                  17.0  \n",
       "21                  18.0  "
      ]
     },
     "execution_count": 536,
     "metadata": {},
     "output_type": "execute_result"
    }
   ],
   "source": [
    "goals_output.head(3)"
   ]
  },
  {
   "cell_type": "code",
   "execution_count": 537,
   "metadata": {},
   "outputs": [
    {
     "data": {
      "text/html": [
       "<div>\n",
       "<style scoped>\n",
       "    .dataframe tbody tr th:only-of-type {\n",
       "        vertical-align: middle;\n",
       "    }\n",
       "\n",
       "    .dataframe tbody tr th {\n",
       "        vertical-align: top;\n",
       "    }\n",
       "\n",
       "    .dataframe thead th {\n",
       "        text-align: right;\n",
       "    }\n",
       "</style>\n",
       "<table border=\"1\" class=\"dataframe\">\n",
       "  <thead>\n",
       "    <tr style=\"text-align: right;\">\n",
       "      <th></th>\n",
       "      <th>userId</th>\n",
       "      <th>courseId</th>\n",
       "      <th>weekNumber</th>\n",
       "      <th>createDate</th>\n",
       "      <th>weekId</th>\n",
       "      <th>sliderPercentage</th>\n",
       "      <th>WeekContent</th>\n",
       "      <th>days_since_startdate</th>\n",
       "    </tr>\n",
       "  </thead>\n",
       "  <tbody>\n",
       "    <tr>\n",
       "      <th>10</th>\n",
       "      <td>25556728</td>\n",
       "      <td>ColumbiaX+BAMM.104x+3T2019</td>\n",
       "      <td>3</td>\n",
       "      <td>2019-10-02</td>\n",
       "      <td>d30ecf0ccb6143909d5660bfa57473fe</td>\n",
       "      <td>50</td>\n",
       "      <td>1.0</td>\n",
       "      <td>17.0</td>\n",
       "    </tr>\n",
       "    <tr>\n",
       "      <th>11</th>\n",
       "      <td>25556728</td>\n",
       "      <td>ColumbiaX+BAMM.104x+3T2019</td>\n",
       "      <td>3</td>\n",
       "      <td>2019-10-02</td>\n",
       "      <td>NaN</td>\n",
       "      <td>67</td>\n",
       "      <td>NaN</td>\n",
       "      <td>17.0</td>\n",
       "    </tr>\n",
       "    <tr>\n",
       "      <th>12</th>\n",
       "      <td>18513183</td>\n",
       "      <td>ColumbiaX+CSMM.102x+3T2019</td>\n",
       "      <td>3</td>\n",
       "      <td>2019-10-02</td>\n",
       "      <td>NaN</td>\n",
       "      <td>50</td>\n",
       "      <td>NaN</td>\n",
       "      <td>17.0</td>\n",
       "    </tr>\n",
       "  </tbody>\n",
       "</table>\n",
       "</div>"
      ],
      "text/plain": [
       "      userId                    courseId  weekNumber createDate  \\\n",
       "10  25556728  ColumbiaX+BAMM.104x+3T2019           3 2019-10-02   \n",
       "11  25556728  ColumbiaX+BAMM.104x+3T2019           3 2019-10-02   \n",
       "12  18513183  ColumbiaX+CSMM.102x+3T2019           3 2019-10-02   \n",
       "\n",
       "                              weekId  sliderPercentage  WeekContent  \\\n",
       "10  d30ecf0ccb6143909d5660bfa57473fe                50          1.0   \n",
       "11                               NaN                67          NaN   \n",
       "12                               NaN                50          NaN   \n",
       "\n",
       "    days_since_startdate  \n",
       "10                  17.0  \n",
       "11                  17.0  \n",
       "12                  17.0  "
      ]
     },
     "execution_count": 537,
     "metadata": {},
     "output_type": "execute_result"
    }
   ],
   "source": [
    "slider_output.head(3)"
   ]
  },
  {
   "cell_type": "code",
   "execution_count": 538,
   "metadata": {},
   "outputs": [
    {
     "data": {
      "text/html": [
       "<div>\n",
       "<style scoped>\n",
       "    .dataframe tbody tr th:only-of-type {\n",
       "        vertical-align: middle;\n",
       "    }\n",
       "\n",
       "    .dataframe tbody tr th {\n",
       "        vertical-align: top;\n",
       "    }\n",
       "\n",
       "    .dataframe thead th {\n",
       "        text-align: right;\n",
       "    }\n",
       "</style>\n",
       "<table border=\"1\" class=\"dataframe\">\n",
       "  <thead>\n",
       "    <tr style=\"text-align: right;\">\n",
       "      <th></th>\n",
       "      <th>userId</th>\n",
       "      <th>courseId</th>\n",
       "      <th>weekNumber</th>\n",
       "      <th>weekId</th>\n",
       "      <th>task1</th>\n",
       "      <th>task2</th>\n",
       "      <th>task3</th>\n",
       "      <th>tasks_num</th>\n",
       "      <th>WeekContent</th>\n",
       "    </tr>\n",
       "  </thead>\n",
       "  <tbody>\n",
       "    <tr>\n",
       "      <th>40</th>\n",
       "      <td>1864359</td>\n",
       "      <td>ColumbiaX+CSMM.101x+3T2019</td>\n",
       "      <td>3</td>\n",
       "      <td>72ad68365307491198cfcadeeb17baad</td>\n",
       "      <td>watch week video</td>\n",
       "      <td>Complete prerequisite knowledge assignment</td>\n",
       "      <td>review linear algebra and probability</td>\n",
       "      <td>3</td>\n",
       "      <td>1</td>\n",
       "    </tr>\n",
       "    <tr>\n",
       "      <th>42</th>\n",
       "      <td>17307479</td>\n",
       "      <td>ColumbiaX+CSMM.101x+3T2019</td>\n",
       "      <td>3</td>\n",
       "      <td>72ad68365307491198cfcadeeb17baad</td>\n",
       "      <td>watch video wek1</td>\n",
       "      <td>NaN</td>\n",
       "      <td>NaN</td>\n",
       "      <td>1</td>\n",
       "      <td>1</td>\n",
       "    </tr>\n",
       "    <tr>\n",
       "      <th>43</th>\n",
       "      <td>23903603</td>\n",
       "      <td>ColumbiaX+CSMM.101x+3T2019</td>\n",
       "      <td>3</td>\n",
       "      <td>72ad68365307491198cfcadeeb17baad</td>\n",
       "      <td>task 1</td>\n",
       "      <td>task 2</td>\n",
       "      <td>task 3</td>\n",
       "      <td>3</td>\n",
       "      <td>1</td>\n",
       "    </tr>\n",
       "  </tbody>\n",
       "</table>\n",
       "</div>"
      ],
      "text/plain": [
       "      userId                    courseId  weekNumber  \\\n",
       "40   1864359  ColumbiaX+CSMM.101x+3T2019           3   \n",
       "42  17307479  ColumbiaX+CSMM.101x+3T2019           3   \n",
       "43  23903603  ColumbiaX+CSMM.101x+3T2019           3   \n",
       "\n",
       "                              weekId             task1  \\\n",
       "40  72ad68365307491198cfcadeeb17baad  watch week video   \n",
       "42  72ad68365307491198cfcadeeb17baad  watch video wek1   \n",
       "43  72ad68365307491198cfcadeeb17baad            task 1   \n",
       "\n",
       "                                         task2  \\\n",
       "40  Complete prerequisite knowledge assignment   \n",
       "42                                         NaN   \n",
       "43                                      task 2   \n",
       "\n",
       "                                    task3  tasks_num  WeekContent  \n",
       "40  review linear algebra and probability          3            1  \n",
       "42                                    NaN          1            1  \n",
       "43                                 task 3          3            1  "
      ]
     },
     "execution_count": 538,
     "metadata": {},
     "output_type": "execute_result"
    }
   ],
   "source": [
    "reminders_output.head(3)"
   ]
  },
  {
   "cell_type": "code",
   "execution_count": 539,
   "metadata": {},
   "outputs": [],
   "source": [
    "goals_output = goals_output.drop(columns = ['createDate'])\n",
    "#reminders_output = reminders_output.drop(columns = ['createDate'])\n",
    "slider_output = slider_output.drop(columns = ['createDate'])\n",
    "\n",
    "goals_output = goals_output.drop_duplicates()\n",
    "reminders_output = reminders_output.drop_duplicates()\n",
    "slider_output = slider_output.drop_duplicates()"
   ]
  },
  {
   "cell_type": "markdown",
   "metadata": {},
   "source": [
    "#### Create slider frequency"
   ]
  },
  {
   "cell_type": "code",
   "execution_count": 540,
   "metadata": {},
   "outputs": [],
   "source": [
    "slider_freq = slider_output.groupby(['userId','weekNumber']).count()['sliderPercentage'].reset_index()\n",
    "slider_output = slider_output.merge(slider_freq, on=['userId','weekNumber'])\n",
    "slider_output.rename(columns={'sliderPercentage_x':'sliderPercentage',\n",
    "                              'sliderPercentage_y':'sliderFrequency'}, inplace=True)"
   ]
  },
  {
   "cell_type": "markdown",
   "metadata": {},
   "source": [
    "##### Map weekNumber to weekDate"
   ]
  },
  {
   "cell_type": "code",
   "execution_count": 541,
   "metadata": {},
   "outputs": [],
   "source": [
    "week_map={}\n",
    "keys = [i for i in range(1,15)]\n",
    "values = ['9/16', '9/23', '9/30', '10/7', '10/14', '10/21', '10/28', '11/4',\n",
    "          '11/11', '11/18', '11/25', '12/2', '12/9', '12/16']\n",
    "for i in range(len(keys)):\n",
    "    week_map[keys[i]] = values[i]\n",
    "\n",
    "def to_weekDate(x):\n",
    "    return week_map.get(x)\n",
    "\n",
    "goals_output['weekDate']   = goals_output['weekNumber'].apply(to_weekDate)\n",
    "reminders_output['weekDate'] = reminders_output['weekNumber'].apply(to_weekDate)\n",
    "slider_output['weekDate']  = slider_output['weekNumber'].apply(to_weekDate)"
   ]
  },
  {
   "cell_type": "code",
   "execution_count": 542,
   "metadata": {},
   "outputs": [],
   "source": [
    "goals_output.to_csv('SRLUI_v2_activity_0714/goals_output.csv')\n",
    "reminders_output.to_csv('SRLUI_v2_activity_0714/reminders_output.csv')\n",
    "slider_output.to_csv('SRLUI_v2_activity_0714/slider_output.csv')"
   ]
  },
  {
   "cell_type": "markdown",
   "metadata": {},
   "source": [
    "### 7.5 Combine all datasets\n",
    "\n"
   ]
  },
  {
   "cell_type": "code",
   "execution_count": 543,
   "metadata": {},
   "outputs": [],
   "source": [
    "activity_output = goals_output.merge(reminders_output,how='outer',on=['userId','courseId','weekNumber'])\n",
    "activity_output = activity_output.merge(slider_output,how='outer',on=['userId','courseId','weekNumber'])"
   ]
  },
  {
   "cell_type": "code",
   "execution_count": 544,
   "metadata": {},
   "outputs": [],
   "source": [
    "activity_output = activity_output[['userId', 'courseId', 'weekNumber', 'WeekContent_x',\n",
    "                                  'goal1', 'goal2', 'goal3', 'goal4', 'goals_num',\n",
    "                                  'task1', 'task2', 'task3', 'tasks_num', 'WeekContent_y',\n",
    "                                  'sliderPercentage', 'WeekContent',]]\n",
    "activity_output.rename(columns={'WeekContent_x': 'WeekContent_goal',\n",
    "                               'WeekContent_y':'WeekContent_task',\n",
    "                               'WeekContent':'WeekContent_slider'}, inplace=True)"
   ]
  },
  {
   "cell_type": "code",
   "execution_count": 545,
   "metadata": {},
   "outputs": [
    {
     "data": {
      "text/html": [
       "<div>\n",
       "<style scoped>\n",
       "    .dataframe tbody tr th:only-of-type {\n",
       "        vertical-align: middle;\n",
       "    }\n",
       "\n",
       "    .dataframe tbody tr th {\n",
       "        vertical-align: top;\n",
       "    }\n",
       "\n",
       "    .dataframe thead th {\n",
       "        text-align: right;\n",
       "    }\n",
       "</style>\n",
       "<table border=\"1\" class=\"dataframe\">\n",
       "  <thead>\n",
       "    <tr style=\"text-align: right;\">\n",
       "      <th></th>\n",
       "      <th>userId</th>\n",
       "      <th>courseId</th>\n",
       "      <th>weekNumber</th>\n",
       "      <th>WeekContent_goal</th>\n",
       "      <th>goal1</th>\n",
       "      <th>goal2</th>\n",
       "      <th>goal3</th>\n",
       "      <th>goal4</th>\n",
       "      <th>goals_num</th>\n",
       "      <th>task1</th>\n",
       "      <th>task2</th>\n",
       "      <th>task3</th>\n",
       "      <th>tasks_num</th>\n",
       "      <th>WeekContent_task</th>\n",
       "      <th>sliderPercentage</th>\n",
       "      <th>WeekContent_slider</th>\n",
       "    </tr>\n",
       "  </thead>\n",
       "  <tbody>\n",
       "    <tr>\n",
       "      <th>0</th>\n",
       "      <td>18513183.0</td>\n",
       "      <td>ColumbiaX+CSMM.102x+3T2019</td>\n",
       "      <td>3</td>\n",
       "      <td>1.0</td>\n",
       "      <td>1</td>\n",
       "      <td>1</td>\n",
       "      <td>1</td>\n",
       "      <td>1</td>\n",
       "      <td>4.0</td>\n",
       "      <td>NaN</td>\n",
       "      <td>NaN</td>\n",
       "      <td>NaN</td>\n",
       "      <td>NaN</td>\n",
       "      <td>NaN</td>\n",
       "      <td>50.0</td>\n",
       "      <td>NaN</td>\n",
       "    </tr>\n",
       "    <tr>\n",
       "      <th>1</th>\n",
       "      <td>18513183.0</td>\n",
       "      <td>ColumbiaX+CSMM.102x+3T2019</td>\n",
       "      <td>3</td>\n",
       "      <td>1.0</td>\n",
       "      <td>1</td>\n",
       "      <td>1</td>\n",
       "      <td>1</td>\n",
       "      <td>1</td>\n",
       "      <td>4.0</td>\n",
       "      <td>NaN</td>\n",
       "      <td>NaN</td>\n",
       "      <td>NaN</td>\n",
       "      <td>NaN</td>\n",
       "      <td>NaN</td>\n",
       "      <td>50.0</td>\n",
       "      <td>1.0</td>\n",
       "    </tr>\n",
       "    <tr>\n",
       "      <th>2</th>\n",
       "      <td>1864359.0</td>\n",
       "      <td>ColumbiaX+CSMM.101x+3T2019</td>\n",
       "      <td>3</td>\n",
       "      <td>1.0</td>\n",
       "      <td>watch week 1 video</td>\n",
       "      <td>Complete prerequisite knowledge assignment</td>\n",
       "      <td>review linear algebra and probability</td>\n",
       "      <td>NaN</td>\n",
       "      <td>3.0</td>\n",
       "      <td>watch week video</td>\n",
       "      <td>Complete prerequisite knowledge assignment</td>\n",
       "      <td>review linear algebra and probability</td>\n",
       "      <td>3.0</td>\n",
       "      <td>1.0</td>\n",
       "      <td>0.0</td>\n",
       "      <td>NaN</td>\n",
       "    </tr>\n",
       "  </tbody>\n",
       "</table>\n",
       "</div>"
      ],
      "text/plain": [
       "       userId                    courseId  weekNumber  WeekContent_goal  \\\n",
       "0  18513183.0  ColumbiaX+CSMM.102x+3T2019           3               1.0   \n",
       "1  18513183.0  ColumbiaX+CSMM.102x+3T2019           3               1.0   \n",
       "2   1864359.0  ColumbiaX+CSMM.101x+3T2019           3               1.0   \n",
       "\n",
       "                goal1                                       goal2  \\\n",
       "0                   1                                           1   \n",
       "1                   1                                           1   \n",
       "2  watch week 1 video  Complete prerequisite knowledge assignment   \n",
       "\n",
       "                                   goal3 goal4  goals_num             task1  \\\n",
       "0                                      1     1        4.0               NaN   \n",
       "1                                      1     1        4.0               NaN   \n",
       "2  review linear algebra and probability   NaN        3.0  watch week video   \n",
       "\n",
       "                                        task2  \\\n",
       "0                                         NaN   \n",
       "1                                         NaN   \n",
       "2  Complete prerequisite knowledge assignment   \n",
       "\n",
       "                                   task3  tasks_num  WeekContent_task  \\\n",
       "0                                    NaN        NaN               NaN   \n",
       "1                                    NaN        NaN               NaN   \n",
       "2  review linear algebra and probability        3.0               1.0   \n",
       "\n",
       "   sliderPercentage  WeekContent_slider  \n",
       "0              50.0                 NaN  \n",
       "1              50.0                 1.0  \n",
       "2               0.0                 NaN  "
      ]
     },
     "execution_count": 545,
     "metadata": {},
     "output_type": "execute_result"
    }
   ],
   "source": [
    "activity_output.head(3)"
   ]
  },
  {
   "cell_type": "code",
   "execution_count": 546,
   "metadata": {},
   "outputs": [],
   "source": [
    "activity_output.to_csv('SRLUI_v2_activity_0714/activity_output.csv')"
   ]
  },
  {
   "cell_type": "markdown",
   "metadata": {},
   "source": [
    "### Split by Course"
   ]
  },
  {
   "cell_type": "code",
   "execution_count": 547,
   "metadata": {},
   "outputs": [],
   "source": [
    "def course_name(x):\n",
    "    return x[10:18].replace('.','')\n",
    "\n",
    "activity_output['Course'] = activity_output['courseId'].apply(course_name)\n",
    "\n",
    "activity_output_BAMM101 = activity_output[activity_output['Course']=='BAMM101']\n",
    "activity_output_BAMM102 = activity_output[activity_output['Course']=='BAMM102']\n",
    "activity_output_BAMM103 = activity_output[activity_output['Course']=='BAMM103']\n",
    "activity_output_BAMM104 = activity_output[activity_output['Course']=='BAMM104']\n",
    "activity_output_CSMM101 = activity_output[activity_output['Course']=='CSMM101']\n",
    "activity_output_CSMM102 = activity_output[activity_output['Course']=='CSMM102']\n",
    "activity_output_CSMM103 = activity_output[activity_output['Course']=='CSMM103']\n",
    "activity_output_CSMM104 = activity_output[activity_output['Course']=='CSMM104']\n",
    "\n",
    "activity_output_BAMM101.to_csv('SRLUI_v2_activity_0714/activity_output_BAMM101.csv')\n",
    "activity_output_BAMM102.to_csv('SRLUI_v2_activity_0714/activity_output_BAMM102.csv')\n",
    "activity_output_BAMM103.to_csv('SRLUI_v2_activity_0714/activity_output_BAMM103.csv')\n",
    "activity_output_BAMM104.to_csv('SRLUI_v2_activity_0714/activity_output_BAMM104.csv')\n",
    "activity_output_CSMM101.to_csv('SRLUI_v2_activity_0714/activity_output_CSMM101.csv')\n",
    "activity_output_CSMM102.to_csv('SRLUI_v2_activity_0714/activity_output_CSMM102.csv')\n",
    "activity_output_CSMM103.to_csv('SRLUI_v2_activity_0714/activity_output_CSMM103.csv')\n",
    "activity_output_CSMM104.to_csv('SRLUI_v2_activity_0714/activity_output_CSMM104.csv')"
   ]
  },
  {
   "cell_type": "code",
   "execution_count": 548,
   "metadata": {},
   "outputs": [],
   "source": [
    "goals_output['Course'] = goals_output['courseId'].apply(course_name)\n",
    "\n",
    "goals_output_BAMM101 = goals_output[goals_output['Course']=='BAMM101']\n",
    "goals_output_BAMM102 = goals_output[goals_output['Course']=='BAMM102']\n",
    "goals_output_BAMM103 = goals_output[goals_output['Course']=='BAMM103']\n",
    "goals_output_BAMM104 = goals_output[goals_output['Course']=='BAMM104']\n",
    "goals_output_CSMM101 = goals_output[goals_output['Course']=='CSMM101']\n",
    "goals_output_CSMM102 = goals_output[goals_output['Course']=='CSMM102']\n",
    "goals_output_CSMM103 = goals_output[goals_output['Course']=='CSMM103']\n",
    "goals_output_CSMM104 = goals_output[goals_output['Course']=='CSMM104']\n",
    "\n",
    "goals_output_BAMM101.to_csv('SRLUI_v2_activity_0714/goals_output_BAMM101.csv')\n",
    "goals_output_BAMM102.to_csv('SRLUI_v2_activity_0714/goals_output_BAMM102.csv')\n",
    "goals_output_BAMM103.to_csv('SRLUI_v2_activity_0714/goals_output_BAMM103.csv')\n",
    "goals_output_BAMM104.to_csv('SRLUI_v2_activity_0714/goals_output_BAMM104.csv')\n",
    "goals_output_CSMM101.to_csv('SRLUI_v2_activity_0714/goals_output_CSMM101.csv')\n",
    "goals_output_CSMM102.to_csv('SRLUI_v2_activity_0714/goals_output_CSMM102.csv')\n",
    "goals_output_CSMM103.to_csv('SRLUI_v2_activity_0714/goals_output_CSMM103.csv')\n",
    "goals_output_CSMM104.to_csv('SRLUI_v2_activity_0714/goals_output_CSMM104.csv')"
   ]
  },
  {
   "cell_type": "code",
   "execution_count": 549,
   "metadata": {},
   "outputs": [],
   "source": [
    "reminders_output['Course'] = reminders_output['courseId'].apply(course_name)\n",
    "\n",
    "reminders_output_BAMM101 = reminders_output[reminders_output['Course']=='BAMM101']\n",
    "reminders_output_BAMM102 = reminders_output[reminders_output['Course']=='BAMM102']\n",
    "reminders_output_BAMM103 = reminders_output[reminders_output['Course']=='BAMM103']\n",
    "reminders_output_BAMM104 = reminders_output[reminders_output['Course']=='BAMM104']\n",
    "reminders_output_CSMM101 = reminders_output[reminders_output['Course']=='CSMM101']\n",
    "reminders_output_CSMM102 = reminders_output[reminders_output['Course']=='CSMM102']\n",
    "reminders_output_CSMM103 = reminders_output[reminders_output['Course']=='CSMM103']\n",
    "reminders_output_CSMM104 = reminders_output[reminders_output['Course']=='CSMM104']\n",
    "\n",
    "reminders_output_BAMM101.to_csv('SRLUI_v2_activity_0714/reminders_output_BAMM101.csv')\n",
    "reminders_output_BAMM102.to_csv('SRLUI_v2_activity_0714/reminders_output_BAMM102.csv')\n",
    "reminders_output_BAMM103.to_csv('SRLUI_v2_activity_0714/reminders_output_BAMM103.csv')\n",
    "reminders_output_BAMM104.to_csv('SRLUI_v2_activity_0714/reminders_output_BAMM104.csv')\n",
    "reminders_output_CSMM101.to_csv('SRLUI_v2_activity_0714/reminders_output_CSMM101.csv')\n",
    "reminders_output_CSMM102.to_csv('SRLUI_v2_activity_0714/reminders_output_CSMM102.csv')\n",
    "reminders_output_CSMM103.to_csv('SRLUI_v2_activity_0714/reminders_output_CSMM103.csv')\n",
    "reminders_output_CSMM104.to_csv('SRLUI_v2_activity_0714/reminders_output_CSMM104.csv')"
   ]
  },
  {
   "cell_type": "code",
   "execution_count": 550,
   "metadata": {},
   "outputs": [],
   "source": [
    "slider_output['Course'] = slider_output['courseId'].apply(course_name)\n",
    "\n",
    "slider_output_BAMM101 = slider_output[slider_output['Course']=='BAMM101']\n",
    "slider_output_BAMM102 = slider_output[slider_output['Course']=='BAMM102']\n",
    "slider_output_BAMM103 = slider_output[slider_output['Course']=='BAMM103']\n",
    "slider_output_BAMM104 = slider_output[slider_output['Course']=='BAMM104']\n",
    "slider_output_CSMM101 = slider_output[slider_output['Course']=='CSMM101']\n",
    "slider_output_CSMM102 = slider_output[slider_output['Course']=='CSMM102']\n",
    "slider_output_CSMM103 = slider_output[slider_output['Course']=='CSMM103']\n",
    "slider_output_CSMM104 = slider_output[slider_output['Course']=='CSMM104']\n",
    "\n",
    "slider_output_BAMM101.to_csv('SRLUI_v2_activity_0714/slider_output_BAMM101.csv')\n",
    "slider_output_BAMM102.to_csv('SRLUI_v2_activity_0714/slider_output_BAMM102.csv')\n",
    "slider_output_BAMM103.to_csv('SRLUI_v2_activity_0714/slider_output_BAMM103.csv')\n",
    "slider_output_BAMM104.to_csv('SRLUI_v2_activity_0714/slider_output_BAMM104.csv')\n",
    "slider_output_CSMM101.to_csv('SRLUI_v2_activity_0714/slider_output_CSMM101.csv')\n",
    "slider_output_CSMM102.to_csv('SRLUI_v2_activity_0714/slider_output_CSMM102.csv')\n",
    "slider_output_CSMM103.to_csv('SRLUI_v2_activity_0714/slider_output_CSMM103.csv')\n",
    "slider_output_CSMM104.to_csv('SRLUI_v2_activity_0714/slider_output_CSMM104.csv')"
   ]
  },
  {
   "cell_type": "markdown",
   "metadata": {},
   "source": [
    "## Visualization\n",
    "\n",
    "### 7.6 Individual Learners\n",
    "\n",
    "#### Use BA 1 as an example"
   ]
  },
  {
   "cell_type": "code",
   "execution_count": 551,
   "metadata": {},
   "outputs": [
    {
     "data": {
      "text/html": [
       "<div>\n",
       "<style scoped>\n",
       "    .dataframe tbody tr th:only-of-type {\n",
       "        vertical-align: middle;\n",
       "    }\n",
       "\n",
       "    .dataframe tbody tr th {\n",
       "        vertical-align: top;\n",
       "    }\n",
       "\n",
       "    .dataframe thead th {\n",
       "        text-align: right;\n",
       "    }\n",
       "</style>\n",
       "<table border=\"1\" class=\"dataframe\">\n",
       "  <thead>\n",
       "    <tr style=\"text-align: right;\">\n",
       "      <th></th>\n",
       "      <th>goals_num</th>\n",
       "      <th>tasks_num</th>\n",
       "      <th>goal1</th>\n",
       "      <th>goal2</th>\n",
       "      <th>goal3</th>\n",
       "      <th>goal4</th>\n",
       "      <th>task1</th>\n",
       "      <th>task2</th>\n",
       "      <th>task3</th>\n",
       "    </tr>\n",
       "    <tr>\n",
       "      <th>userId</th>\n",
       "      <th></th>\n",
       "      <th></th>\n",
       "      <th></th>\n",
       "      <th></th>\n",
       "      <th></th>\n",
       "      <th></th>\n",
       "      <th></th>\n",
       "      <th></th>\n",
       "      <th></th>\n",
       "    </tr>\n",
       "  </thead>\n",
       "  <tbody>\n",
       "    <tr>\n",
       "      <th>25526297.0</th>\n",
       "      <td>37</td>\n",
       "      <td>37</td>\n",
       "      <td>37</td>\n",
       "      <td>25</td>\n",
       "      <td>25</td>\n",
       "      <td>25</td>\n",
       "      <td>37</td>\n",
       "      <td>37</td>\n",
       "      <td>37</td>\n",
       "    </tr>\n",
       "    <tr>\n",
       "      <th>23633675.0</th>\n",
       "      <td>31</td>\n",
       "      <td>30</td>\n",
       "      <td>31</td>\n",
       "      <td>0</td>\n",
       "      <td>0</td>\n",
       "      <td>0</td>\n",
       "      <td>30</td>\n",
       "      <td>1</td>\n",
       "      <td>0</td>\n",
       "    </tr>\n",
       "    <tr>\n",
       "      <th>22461143.0</th>\n",
       "      <td>28</td>\n",
       "      <td>28</td>\n",
       "      <td>28</td>\n",
       "      <td>28</td>\n",
       "      <td>23</td>\n",
       "      <td>2</td>\n",
       "      <td>28</td>\n",
       "      <td>28</td>\n",
       "      <td>25</td>\n",
       "    </tr>\n",
       "    <tr>\n",
       "      <th>25523971.0</th>\n",
       "      <td>22</td>\n",
       "      <td>22</td>\n",
       "      <td>22</td>\n",
       "      <td>1</td>\n",
       "      <td>0</td>\n",
       "      <td>0</td>\n",
       "      <td>22</td>\n",
       "      <td>0</td>\n",
       "      <td>0</td>\n",
       "    </tr>\n",
       "    <tr>\n",
       "      <th>20487445.0</th>\n",
       "      <td>19</td>\n",
       "      <td>19</td>\n",
       "      <td>19</td>\n",
       "      <td>0</td>\n",
       "      <td>0</td>\n",
       "      <td>0</td>\n",
       "      <td>19</td>\n",
       "      <td>1</td>\n",
       "      <td>1</td>\n",
       "    </tr>\n",
       "  </tbody>\n",
       "</table>\n",
       "</div>"
      ],
      "text/plain": [
       "            goals_num  tasks_num  goal1  goal2  goal3  goal4  task1  task2  \\\n",
       "userId                                                                       \n",
       "25526297.0         37         37     37     25     25     25     37     37   \n",
       "23633675.0         31         30     31      0      0      0     30      1   \n",
       "22461143.0         28         28     28     28     23      2     28     28   \n",
       "25523971.0         22         22     22      1      0      0     22      0   \n",
       "20487445.0         19         19     19      0      0      0     19      1   \n",
       "\n",
       "            task3  \n",
       "userId             \n",
       "25526297.0     37  \n",
       "23633675.0      0  \n",
       "22461143.0     25  \n",
       "25523971.0      0  \n",
       "20487445.0      1  "
      ]
     },
     "execution_count": 551,
     "metadata": {},
     "output_type": "execute_result"
    }
   ],
   "source": [
    "activity_output_group1 = activity_output_BAMM101.groupby('userId').count()\n",
    "activity_output_group1.sort_values(['tasks_num','goals_num'], \n",
    "                                   ascending=False)[['goals_num','tasks_num',\n",
    "                                                     'goal1','goal2','goal3','goal4',\n",
    "                                                     'task1','task2','task3']].head(5)"
   ]
  },
  {
   "cell_type": "code",
   "execution_count": 552,
   "metadata": {},
   "outputs": [
    {
     "data": {
      "text/html": [
       "<div>\n",
       "<style scoped>\n",
       "    .dataframe tbody tr th:only-of-type {\n",
       "        vertical-align: middle;\n",
       "    }\n",
       "\n",
       "    .dataframe tbody tr th {\n",
       "        vertical-align: top;\n",
       "    }\n",
       "\n",
       "    .dataframe thead th {\n",
       "        text-align: right;\n",
       "    }\n",
       "</style>\n",
       "<table border=\"1\" class=\"dataframe\">\n",
       "  <thead>\n",
       "    <tr style=\"text-align: right;\">\n",
       "      <th></th>\n",
       "      <th>userId</th>\n",
       "      <th>courseId</th>\n",
       "      <th>weekNumber</th>\n",
       "      <th>goal1</th>\n",
       "      <th>goal2</th>\n",
       "      <th>goal3</th>\n",
       "      <th>goal4</th>\n",
       "      <th>goals_num</th>\n",
       "      <th>WeekContent</th>\n",
       "      <th>days_since_startdate</th>\n",
       "      <th>weekDate</th>\n",
       "      <th>Course</th>\n",
       "    </tr>\n",
       "  </thead>\n",
       "  <tbody>\n",
       "    <tr>\n",
       "      <th>131</th>\n",
       "      <td>25526297.0</td>\n",
       "      <td>ColumbiaX+BAMM.101x+3T2019</td>\n",
       "      <td>4</td>\n",
       "      <td>Finish Week 1 &amp; Week 2</td>\n",
       "      <td>NaN</td>\n",
       "      <td>NaN</td>\n",
       "      <td>NaN</td>\n",
       "      <td>1</td>\n",
       "      <td>1.0</td>\n",
       "      <td>24.0</td>\n",
       "      <td>10/7</td>\n",
       "      <td>BAMM101</td>\n",
       "    </tr>\n",
       "    <tr>\n",
       "      <th>345</th>\n",
       "      <td>25526297.0</td>\n",
       "      <td>ColumbiaX+BAMM.101x+3T2019</td>\n",
       "      <td>4</td>\n",
       "      <td>Finish week 2 and week 3</td>\n",
       "      <td>complete all week 2 lectures &amp; quizzes</td>\n",
       "      <td>complete all week 3 lectures and quizzes</td>\n",
       "      <td>complete assignments for week 2 &amp; week 3</td>\n",
       "      <td>4</td>\n",
       "      <td>2.0</td>\n",
       "      <td>28.0</td>\n",
       "      <td>10/7</td>\n",
       "      <td>BAMM101</td>\n",
       "    </tr>\n",
       "    <tr>\n",
       "      <th>484</th>\n",
       "      <td>25526297.0</td>\n",
       "      <td>ColumbiaX+BAMM.101x+3T2019</td>\n",
       "      <td>5</td>\n",
       "      <td>Finish week 3 &amp; week 4</td>\n",
       "      <td>complete all lectures for both weeks</td>\n",
       "      <td>complete all quizzes for both weeks</td>\n",
       "      <td>complete all assignments for both weeks &amp; for ...</td>\n",
       "      <td>4</td>\n",
       "      <td>3.0</td>\n",
       "      <td>31.0</td>\n",
       "      <td>10/14</td>\n",
       "      <td>BAMM101</td>\n",
       "    </tr>\n",
       "  </tbody>\n",
       "</table>\n",
       "</div>"
      ],
      "text/plain": [
       "         userId                    courseId  weekNumber  \\\n",
       "131  25526297.0  ColumbiaX+BAMM.101x+3T2019           4   \n",
       "345  25526297.0  ColumbiaX+BAMM.101x+3T2019           4   \n",
       "484  25526297.0  ColumbiaX+BAMM.101x+3T2019           5   \n",
       "\n",
       "                        goal1                                   goal2  \\\n",
       "131    Finish Week 1 & Week 2                                     NaN   \n",
       "345  Finish week 2 and week 3  complete all week 2 lectures & quizzes   \n",
       "484    Finish week 3 & week 4    complete all lectures for both weeks   \n",
       "\n",
       "                                        goal3  \\\n",
       "131                                       NaN   \n",
       "345  complete all week 3 lectures and quizzes   \n",
       "484       complete all quizzes for both weeks   \n",
       "\n",
       "                                                 goal4  goals_num  \\\n",
       "131                                                NaN          1   \n",
       "345           complete assignments for week 2 & week 3          4   \n",
       "484  complete all assignments for both weeks & for ...          4   \n",
       "\n",
       "     WeekContent  days_since_startdate weekDate   Course  \n",
       "131          1.0                  24.0     10/7  BAMM101  \n",
       "345          2.0                  28.0     10/7  BAMM101  \n",
       "484          3.0                  31.0    10/14  BAMM101  "
      ]
     },
     "execution_count": 552,
     "metadata": {},
     "output_type": "execute_result"
    }
   ],
   "source": [
    "goals_output[goals_output['userId']==25526297.0].head(3)"
   ]
  },
  {
   "cell_type": "code",
   "execution_count": 553,
   "metadata": {},
   "outputs": [
    {
     "data": {
      "text/html": [
       "<div>\n",
       "<style scoped>\n",
       "    .dataframe tbody tr th:only-of-type {\n",
       "        vertical-align: middle;\n",
       "    }\n",
       "\n",
       "    .dataframe tbody tr th {\n",
       "        vertical-align: top;\n",
       "    }\n",
       "\n",
       "    .dataframe thead th {\n",
       "        text-align: right;\n",
       "    }\n",
       "</style>\n",
       "<table border=\"1\" class=\"dataframe\">\n",
       "  <thead>\n",
       "    <tr style=\"text-align: right;\">\n",
       "      <th></th>\n",
       "      <th>userId</th>\n",
       "      <th>courseId</th>\n",
       "      <th>weekNumber</th>\n",
       "      <th>WeekContent_goal</th>\n",
       "      <th>goal1</th>\n",
       "      <th>goal2</th>\n",
       "      <th>goal3</th>\n",
       "      <th>goal4</th>\n",
       "      <th>goals_num</th>\n",
       "      <th>task1</th>\n",
       "      <th>task2</th>\n",
       "      <th>task3</th>\n",
       "      <th>tasks_num</th>\n",
       "      <th>WeekContent_task</th>\n",
       "      <th>sliderPercentage</th>\n",
       "      <th>WeekContent_slider</th>\n",
       "      <th>Course</th>\n",
       "    </tr>\n",
       "  </thead>\n",
       "  <tbody>\n",
       "    <tr>\n",
       "      <th>70</th>\n",
       "      <td>25526297.0</td>\n",
       "      <td>ColumbiaX+BAMM.101x+3T2019</td>\n",
       "      <td>4</td>\n",
       "      <td>1.0</td>\n",
       "      <td>Finish Week 1 &amp; Week 2</td>\n",
       "      <td>NaN</td>\n",
       "      <td>NaN</td>\n",
       "      <td>NaN</td>\n",
       "      <td>1.0</td>\n",
       "      <td>Videos week 1</td>\n",
       "      <td>Continue/Finish week 1</td>\n",
       "      <td>Start week 2</td>\n",
       "      <td>3.0</td>\n",
       "      <td>1.0</td>\n",
       "      <td>69.0</td>\n",
       "      <td>NaN</td>\n",
       "      <td>BAMM101</td>\n",
       "    </tr>\n",
       "    <tr>\n",
       "      <th>71</th>\n",
       "      <td>25526297.0</td>\n",
       "      <td>ColumbiaX+BAMM.101x+3T2019</td>\n",
       "      <td>4</td>\n",
       "      <td>1.0</td>\n",
       "      <td>Finish Week 1 &amp; Week 2</td>\n",
       "      <td>NaN</td>\n",
       "      <td>NaN</td>\n",
       "      <td>NaN</td>\n",
       "      <td>1.0</td>\n",
       "      <td>Videos week 1</td>\n",
       "      <td>Continue/Finish week 1</td>\n",
       "      <td>Start week 2</td>\n",
       "      <td>3.0</td>\n",
       "      <td>1.0</td>\n",
       "      <td>0.0</td>\n",
       "      <td>1.0</td>\n",
       "      <td>BAMM101</td>\n",
       "    </tr>\n",
       "    <tr>\n",
       "      <th>72</th>\n",
       "      <td>25526297.0</td>\n",
       "      <td>ColumbiaX+BAMM.101x+3T2019</td>\n",
       "      <td>4</td>\n",
       "      <td>1.0</td>\n",
       "      <td>Finish Week 1 &amp; Week 2</td>\n",
       "      <td>NaN</td>\n",
       "      <td>NaN</td>\n",
       "      <td>NaN</td>\n",
       "      <td>1.0</td>\n",
       "      <td>Videos week 1</td>\n",
       "      <td>Continue/Finish week 1</td>\n",
       "      <td>Start week 2</td>\n",
       "      <td>3.0</td>\n",
       "      <td>1.0</td>\n",
       "      <td>100.0</td>\n",
       "      <td>2.0</td>\n",
       "      <td>BAMM101</td>\n",
       "    </tr>\n",
       "  </tbody>\n",
       "</table>\n",
       "</div>"
      ],
      "text/plain": [
       "        userId                    courseId  weekNumber  WeekContent_goal  \\\n",
       "70  25526297.0  ColumbiaX+BAMM.101x+3T2019           4               1.0   \n",
       "71  25526297.0  ColumbiaX+BAMM.101x+3T2019           4               1.0   \n",
       "72  25526297.0  ColumbiaX+BAMM.101x+3T2019           4               1.0   \n",
       "\n",
       "                     goal1 goal2 goal3 goal4  goals_num          task1  \\\n",
       "70  Finish Week 1 & Week 2   NaN   NaN   NaN        1.0  Videos week 1   \n",
       "71  Finish Week 1 & Week 2   NaN   NaN   NaN        1.0  Videos week 1   \n",
       "72  Finish Week 1 & Week 2   NaN   NaN   NaN        1.0  Videos week 1   \n",
       "\n",
       "                     task2         task3  tasks_num  WeekContent_task  \\\n",
       "70  Continue/Finish week 1  Start week 2        3.0               1.0   \n",
       "71  Continue/Finish week 1  Start week 2        3.0               1.0   \n",
       "72  Continue/Finish week 1  Start week 2        3.0               1.0   \n",
       "\n",
       "    sliderPercentage  WeekContent_slider   Course  \n",
       "70              69.0                 NaN  BAMM101  \n",
       "71               0.0                 1.0  BAMM101  \n",
       "72             100.0                 2.0  BAMM101  "
      ]
     },
     "execution_count": 553,
     "metadata": {},
     "output_type": "execute_result"
    }
   ],
   "source": [
    "activity_output[activity_output['userId']==25526297.0].head(3)"
   ]
  },
  {
   "cell_type": "markdown",
   "metadata": {},
   "source": [
    "### 7.6.1 - Individual usage graph: simple plot"
   ]
  },
  {
   "cell_type": "code",
   "execution_count": 554,
   "metadata": {},
   "outputs": [],
   "source": [
    "def draw_user_activity_date(userid):\n",
    "    x1 = goals_output[goals_output['userId']==userid]['weekDate'].values\n",
    "    y1 = goals_output[goals_output['userId']==userid]['goals_num'].values\n",
    "    \n",
    "    x2 = reminders_output[reminders_output['userId']==userid]['weekDate'].values\n",
    "    y2 = reminders_output[reminders_output['userId']==userid]['tasks_num'].values\n",
    "    \n",
    "    x3 = slider_output[slider_output['userId']==userid]['weekDate'].values\n",
    "    y3 = slider_output[slider_output['userId']==userid]['sliderFrequency'].values\n",
    "    \n",
    "    fig, axs = plt.subplots(1,1,figsize=(10,8))\n",
    "    axs.plot(x1,y1,'ro--',label='Goals')\n",
    "    axs.plot(x2,y2,'bo--',label='Reminders')\n",
    "    axs.plot(x3,y3,'go--',label='Slider')\n",
    "    axs.legend()\n",
    "    axs.set_title(f'User activity: Frequency of goals, reminders, slider of user {userid}')\n",
    "    axs.set_xlabel('Week Number')\n",
    "    axs.set_ylabel('Number of goals/tasks/sliders')"
   ]
  },
  {
   "cell_type": "code",
   "execution_count": 555,
   "metadata": {},
   "outputs": [
    {
     "data": {
      "image/png": "[encoded data removed]",
      "text/plain": [
       "<Figure size 720x576 with 1 Axes>"
      ]
     },
     "metadata": {
      "needs_background": "light"
     },
     "output_type": "display_data"
    }
   ],
   "source": [
    "draw_user_activity_date(25526297.0)"
   ]
  },
  {
   "cell_type": "markdown",
   "metadata": {},
   "source": [
    "### 7.6.2 - Individual usage graph: scatter with dot size"
   ]
  },
  {
   "cell_type": "code",
   "execution_count": 556,
   "metadata": {},
   "outputs": [],
   "source": [
    "def draw_user_activity_date_with_size(userid):\n",
    "    df1 = goals_output[goals_output['userId']==userid].groupby(['weekDate',\n",
    "                                                                  'weekNumber',\n",
    "                                                                  'goals_num']\n",
    "                                                                ).count().reset_index().sort_values('weekNumber')\n",
    "    x1 = df1['weekDate'].values\n",
    "    y1 = df1['goals_num'].values\n",
    "    s1 = df1.iloc[:,-1].values\n",
    "    \n",
    "    df2 = reminders_output[reminders_output['userId']==userid].groupby(['weekDate',\n",
    "                                                                  'weekNumber',\n",
    "                                                                  'tasks_num']\n",
    "                                                                ).count().reset_index().sort_values('weekNumber')\n",
    "    x2 = df2['weekDate'].values\n",
    "    y2 = df2['tasks_num'].values\n",
    "    s2 = df2.iloc[:,-1].values\n",
    "    \n",
    "    df3 = slider_output[slider_output['userId']==userid].groupby(['weekDate',\n",
    "                                                                  'weekNumber',\n",
    "                                                                  'sliderFrequency']\n",
    "                                                                ).count().reset_index().sort_values('weekNumber')\n",
    "    x3 = df3['weekDate'].values\n",
    "    y3 = df3['sliderFrequency'].values\n",
    "    s3 = df3.iloc[:,-1].values\n",
    " \n",
    "    fig, axs = plt.subplots(1,1,figsize=(10,8))\n",
    "    axs.scatter(x1,y1,s=(s1+2)**4, alpha=0.5,color='green',label='Goals')\n",
    "    axs.scatter(x2,y2,s=(s2+2)**4, alpha=0.5,color='blue',label='Reminders')\n",
    "    axs.scatter(x3,y3,s=(s3+2)**4, alpha=0.5,color='red',label='Slider')\n",
    "    \n",
    "    axs.legend(markerscale=0.2)\n",
    "        \n",
    "    axs.set_title(f'User activity: Frequency of goals, reminders, slider of user {userid}')\n",
    "    axs.set_xlabel('Week Number')\n",
    "    axs.set_ylabel('Number of goals/tasks/sliders')"
   ]
  },
  {
   "cell_type": "code",
   "execution_count": 557,
   "metadata": {},
   "outputs": [
    {
     "data": {
      "image/png": "[encoded data removed]",
      "text/plain": [
       "<Figure size 720x576 with 1 Axes>"
      ]
     },
     "metadata": {
      "needs_background": "light"
     },
     "output_type": "display_data"
    }
   ],
   "source": [
    "draw_user_activity_date_with_size(25526297.0)\n",
    "# set the dot size to the number of week-contents\n",
    "# week-content"
   ]
  },
  {
   "cell_type": "markdown",
   "metadata": {},
   "source": [
    "### 7.7  `Group graph version 1` :  Group of Learners: by grade"
   ]
  },
  {
   "cell_type": "code",
   "execution_count": 558,
   "metadata": {},
   "outputs": [],
   "source": [
    "SRLUI_v2 = pd.read_csv('SRLUI_v2_activity_0714/SRLUImaster_v2.csv', index_col=0)"
   ]
  },
  {
   "cell_type": "markdown",
   "metadata": {},
   "source": [
    "##### Set user group: Course, grade(or other parameter)"
   ]
  },
  {
   "cell_type": "code",
   "execution_count": 559,
   "metadata": {},
   "outputs": [],
   "source": [
    "# user id set - set how to divide the user group: based on grade? gender? \n",
    "high_grade_userid = SRLUI_v2[SRLUI_v2['Grade']>=60]['userId'].values\n",
    "low_grade_userid  = SRLUI_v2[SRLUI_v2['Grade']< 60]['userId'].values"
   ]
  },
  {
   "cell_type": "markdown",
   "metadata": {},
   "source": [
    "### - Usage graph by group: scatter with size representing number of learners"
   ]
  },
  {
   "cell_type": "code",
   "execution_count": 560,
   "metadata": {},
   "outputs": [],
   "source": [
    "def draw_user_activity_group_scatter_size(userid_set, group_name, course_list):\n",
    "    N = len(SRLUI_v2[(SRLUI_v2['courseId'].isin(course_list))\\\n",
    "                       &(SRLUI_v2['userId'].isin(userid_set))])\n",
    "    \n",
    "    # Extract these users' goals_num\n",
    "    df = goals_output[(goals_output['Course'].isin(course_list))\\\n",
    "                       &(goals_output['userId'].isin(userid_set))][['weekDate','goals_num']]\n",
    "    df['count'] = 1\n",
    "    # groupby to check how many learners have set n goals on a/b/ date\n",
    "    counts = df.groupby(['weekDate','goals_num']).count().reset_index()\n",
    "    df = df.merge(counts, on = ['weekDate','goals_num']).rename(columns={'count_y':'counts'})\n",
    "    x1 = df['weekDate'].values\n",
    "    y1 = df['goals_num'].values\n",
    "    s1 = df['counts'].values\n",
    "    \n",
    "    df = reminders_output[(reminders_output['Course'].isin(course_list))\\\n",
    "                       &(reminders_output['userId'].isin(userid_set))][['weekDate','tasks_num']]\n",
    "    df['count'] = 1\n",
    "    counts = df.groupby(['weekDate','tasks_num']).count().reset_index()\n",
    "    df = df.merge(counts, on = ['weekDate','tasks_num']).rename(columns={'count_y':'counts'})\n",
    "    x2 = df['weekDate'].values\n",
    "    y2 = df['tasks_num'].values\n",
    "    s2 = df['counts'].values\n",
    "    \n",
    "    df = slider_output[(slider_output['Course'].isin(course_list))\\\n",
    "                       &(slider_output['userId'].isin(userid_set))][['weekDate','sliderFrequency']]\n",
    "    df['count'] = 1\n",
    "    counts = df.groupby(['weekDate','sliderFrequency']).count().reset_index()\n",
    "    df = df.merge(counts, on = ['weekDate','sliderFrequency']).rename(columns={'count_y':'counts'})\n",
    "    x3 = df['weekDate'].values\n",
    "    y3 = df['sliderFrequency'].values\n",
    "    s3 = df['counts'].values\n",
    "    \n",
    "    plt.figure(figsize=(10,8))\n",
    "    plt.scatter(x1,y1,s=s1**2,label='Goals', alpha=0.5,color='green')\n",
    "    plt.scatter(x2,y2,s=s2**2,label='Reminders', alpha=0.5,color='red')\n",
    "    plt.scatter(x3,y3,s=s3**2,label='Slider', alpha=0.5,color='blue')\n",
    "    plt.legend(loc='best',markerscale=0.2)\n",
    "    plt.title(f'SRLUI Usage of {group_name}, {N} learners.')\n",
    "    plt.xlabel('Week Number')\n",
    "    plt.show()"
   ]
  },
  {
   "cell_type": "markdown",
   "metadata": {},
   "source": [
    "#### 3 arguments in this function: \n",
    "- userid_list (see under **7.7**) \n",
    "- a string to name this group, i.e. `\"Users with >=60 high grades\"`\n",
    "- a course list, i.e. `['BAMM101','BAMM102','BAMM103','BAMM104']`"
   ]
  },
  {
   "cell_type": "code",
   "execution_count": 561,
   "metadata": {},
   "outputs": [
    {
     "data": {
      "image/png": "[encoded data removed]",
      "text/plain": [
       "<Figure size 720x576 with 1 Axes>"
      ]
     },
     "metadata": {
      "needs_background": "light"
     },
     "output_type": "display_data"
    }
   ],
   "source": [
    "draw_user_activity_group_scatter_size(high_grade_userid, \n",
    "                                      'Users with >=60 high grades',\n",
    "                                     ['BAMM101','BAMM102','BAMM103','BAMM104',\n",
    "                                     'CSMM101','CSMM102','CsMM103','CSMM104'])"
   ]
  },
  {
   "cell_type": "code",
   "execution_count": 562,
   "metadata": {},
   "outputs": [
    {
     "data": {
      "image/png": "[encoded data removed]",
      "text/plain": [
       "<Figure size 720x576 with 1 Axes>"
      ]
     },
     "metadata": {
      "needs_background": "light"
     },
     "output_type": "display_data"
    }
   ],
   "source": [
    "draw_user_activity_group_scatter_size(low_grade_userid, \n",
    "                                      'Users with <60 low grades',\n",
    "                                     ['BAMM101','BAMM102','BAMM103','BAMM104',\n",
    "                                     'CSMM101','CSMM102','CsMM103','CSMM104'])"
   ]
  },
  {
   "cell_type": "markdown",
   "metadata": {},
   "source": [
    "### 7.8  `Group graph version 2` :  Group of Learners: by grade"
   ]
  },
  {
   "cell_type": "markdown",
   "metadata": {},
   "source": [
    "### - Usage graph by group"
   ]
  },
  {
   "cell_type": "code",
   "execution_count": 563,
   "metadata": {},
   "outputs": [],
   "source": [
    "def draw_user_activity_group_scatter_size(userid_set1, userid_set2, group_name1, group_name2, course_list):\n",
    "    # number of learners in each group\n",
    "    N1 = len(SRLUI_v2[(SRLUI_v2['courseId'].isin(course_list))\\\n",
    "                           &(SRLUI_v2['userId'].isin(userid_set1))])\n",
    "    N2 = len(SRLUI_v2[(SRLUI_v2['courseId'].isin(course_list))\\\n",
    "                           &(SRLUI_v2['userId'].isin(userid_set2))])\n",
    "    N = len(SRLUI_v2[SRLUI_v2['courseId'].isin(course_list)])\n",
    "    \n",
    "    # Extract goals_frequncy - N1\n",
    "    df = goals_output[(goals_output['Course'].isin(course_list))\\\n",
    "                       &(goals_output['userId'].isin(userid_set1))][['weekDate','goals_num']]\n",
    "    df = df.groupby(['weekDate']).count().reset_index()\n",
    "    x11 = df['weekDate'].values\n",
    "    y11 = [group_name1 for i in range(len(x11))]\n",
    "    s11 = df.iloc[:,-1].values\n",
    "    # Extract goals_frequncy - N2\n",
    "    df = goals_output[(goals_output['Course'].isin(course_list))\\\n",
    "                       &(goals_output['userId'].isin(userid_set2))][['weekDate','goals_num']]\n",
    "    df = df.groupby(['weekDate']).count().reset_index()\n",
    "    x12 = df['weekDate'].values\n",
    "    y12 = [group_name2 for i in range(len(x12))]\n",
    "    s12 = df.iloc[:,-1].values\n",
    "    \n",
    "    \n",
    "    # Extract reminders_frequncy - N1\n",
    "    df = reminders_output[(reminders_output['Course'].isin(course_list))\\\n",
    "                       &(reminders_output['userId'].isin(userid_set1))][['weekDate','tasks_num']]\n",
    "    df = df.groupby(['weekDate']).count().reset_index()\n",
    "    x21 = df['weekDate'].values\n",
    "    y21 = [group_name1 for i in range(len(x21))]\n",
    "    s21 = df.iloc[:,-1].values\n",
    "    # Extract reminders_frequncy - N2\n",
    "    df = reminders_output[(reminders_output['Course'].isin(course_list))\\\n",
    "                       &(reminders_output['userId'].isin(userid_set2))][['weekDate','tasks_num']]\n",
    "    df = df.groupby(['weekDate']).count().reset_index()\n",
    "    x22 = df['weekDate'].values\n",
    "    y22 = [group_name2 for i in range(len(x22))]\n",
    "    s22 = df.iloc[:,-1].values\n",
    "    \n",
    "    \n",
    "    # Extract slider_frequncy - N1\n",
    "    df = slider_output[(slider_output['Course'].isin(course_list))\\\n",
    "                       &(slider_output['userId'].isin(userid_set1))][['weekDate','sliderFrequency']]\n",
    "    df = df.groupby(['weekDate']).count().reset_index()\n",
    "    x31 = df['weekDate'].values\n",
    "    y31 = [group_name1 for i in range(len(x31))]\n",
    "    s31 = df.iloc[:,-1].values\n",
    "    # Extract slider_frequncy - N2\n",
    "    df = slider_output[(slider_output['Course'].isin(course_list))\\\n",
    "                       &(slider_output['userId'].isin(userid_set2))][['weekDate','sliderFrequency']]\n",
    "    df = df.groupby(['weekDate']).count().reset_index()\n",
    "    x32 = df['weekDate'].values\n",
    "    y32 = [group_name2 for i in range(len(x32))]\n",
    "    s32 = df.iloc[:,-1].values\n",
    "    \n",
    "    \n",
    "    fig, axs = plt.subplots(3,1,figsize=(15,12),constrained_layout=True)\n",
    "    fig.suptitle(f'SRLUI Usage of {group_name1} & {group_name2}, {N} learners.',fontsize=16)\n",
    "    axs[0].scatter(x11,y11,s=s11**2,label=f'{group_name1}: {N1} learners', alpha=0.7,color='#1FBB85')\n",
    "    axs[0].scatter(x12,y12,s=s12**2,label=f'{group_name2}: {N2} learners', alpha=0.4,color='#1FBB85')\n",
    "    axs[0].set_title(f'Goals Activity',fontsize=16)\n",
    "    axs[0].set_ylim(-1,2.5)\n",
    "    axs[0].legend(loc='best',markerscale=0.1)\n",
    "    axs[1].scatter(x21,y21,s=s21**2,label=f'{group_name1}: {N1} learners', alpha=0.7,color='red')\n",
    "    axs[1].scatter(x22,y22,s=s22**2,label=f'{group_name2}: {N2} learners',  alpha=0.4,color='red')\n",
    "    axs[1].set_title(f'Reminders Activity',fontsize=16)\n",
    "    axs[1].set_ylim(-1,2.5)\n",
    "    axs[1].legend(loc='best',markerscale=0.1)\n",
    "    axs[2].scatter(x31,y31,s=s31**2,label=f'{group_name1}: {N1} learners', alpha=0.7,color='blue')\n",
    "    axs[2].scatter(x32,y32,s=s32**2,label=f'{group_name2}: {N2} learners',  alpha=0.4,color='blue')\n",
    "    axs[2].set_title(f'Slider Activity',fontsize=16)\n",
    "    axs[2].set_ylim(-1,2.5)\n",
    "    axs[2].legend(loc='best',markerscale=0.1)\n",
    "    \n",
    "    plt.xlabel('Week Number',fontsize=14)\n",
    "    plt.show()"
   ]
  },
  {
   "cell_type": "markdown",
   "metadata": {},
   "source": [
    "#### 5 arguments in this function: \n",
    "1. `userid_set1`: i.e.   high_grade_userid\n",
    "2. `userid_set2`: i.e.   low_grade_userid\n",
    "3. `group_name1`: a string to name group1, i.e. `\"High grade\"`\n",
    "4. `group_name2`: a string to name group2, i.e. `\"Low grade\"`\n",
    "5. `course list`, i.e. `['BAMM101','BAMM102','BAMM103','BAMM104']`"
   ]
  },
  {
   "cell_type": "markdown",
   "metadata": {},
   "source": [
    "##### PLOT1:  HIGH & LOW Grade groups"
   ]
  },
  {
   "cell_type": "code",
   "execution_count": 564,
   "metadata": {},
   "outputs": [],
   "source": [
    "# user id set - set how to divide the user group: based on grade? gender? \n",
    "high_grade_userid = SRLUI_v2[SRLUI_v2['Grade']>=60]['userId'].values\n",
    "low_grade_userid  = SRLUI_v2[SRLUI_v2['Grade']< 60]['userId'].values"
   ]
  },
  {
   "cell_type": "code",
   "execution_count": 565,
   "metadata": {},
   "outputs": [
    {
     "data": {
      "image/png": "[encoded data removed]",
      "text/plain": [
       "<Figure size 1080x864 with 3 Axes>"
      ]
     },
     "metadata": {
      "needs_background": "light"
     },
     "output_type": "display_data"
    }
   ],
   "source": [
    "draw_user_activity_group_scatter_size(\n",
    "    high_grade_userid, \n",
    "    low_grade_userid,\n",
    "    'High grade', \n",
    "    'Low grade',\n",
    "    ['BAMM101','BAMM102','BAMM103','BAMM104','CSMM101','CSMM102','CsMM103','CSMM104'])"
   ]
  },
  {
   "cell_type": "markdown",
   "metadata": {},
   "source": [
    "##### PLOT2:  DROPOUT & NON-DROPOUT  groups"
   ]
  },
  {
   "cell_type": "code",
   "execution_count": 566,
   "metadata": {},
   "outputs": [],
   "source": [
    "non_dropout_userid = SRLUI_v2[SRLUI_v2['drop_out']==0]['userId'].values\n",
    "dropout_userid  = SRLUI_v2[SRLUI_v2['drop_out']==1]['userId'].values"
   ]
  },
  {
   "cell_type": "code",
   "execution_count": 567,
   "metadata": {},
   "outputs": [
    {
     "data": {
      "image/png": "[encoded data removed]",
      "text/plain": [
       "<Figure size 1080x864 with 3 Axes>"
      ]
     },
     "metadata": {
      "needs_background": "light"
     },
     "output_type": "display_data"
    }
   ],
   "source": [
    "draw_user_activity_group_scatter_size(\n",
    "    non_dropout_userid, \n",
    "    dropout_userid,\n",
    "    'Non-Dropout', \n",
    "    'Dropout',\n",
    "    ['BAMM101','BAMM102','BAMM103','BAMM104','CSMM101','CSMM102','CsMM103','CSMM104'])"
   ]
  },
  {
   "cell_type": "markdown",
   "metadata": {},
   "source": [
    "##### PLOT3:  experiment & control  groups"
   ]
  },
  {
   "cell_type": "code",
   "execution_count": 568,
   "metadata": {},
   "outputs": [],
   "source": [
    "experiment_userid = SRLUI_v2[SRLUI_v2['treatment']=='experiment']['userId'].values\n",
    "control_userid  = SRLUI_v2[SRLUI_v2['treatment']=='control']['userId'].values"
   ]
  },
  {
   "cell_type": "code",
   "execution_count": 569,
   "metadata": {},
   "outputs": [
    {
     "data": {
      "image/png": "[encoded data removed]",
      "text/plain": [
       "<Figure size 1080x864 with 3 Axes>"
      ]
     },
     "metadata": {
      "needs_background": "light"
     },
     "output_type": "display_data"
    }
   ],
   "source": [
    "draw_user_activity_group_scatter_size(\n",
    "    experiment_userid, \n",
    "    control_userid,\n",
    "    'Experiment', \n",
    "    'Control',\n",
    "    ['BAMM101','BAMM102','BAMM103','BAMM104','CSMM101','CSMM102','CsMM103','CSMM104'])"
   ]
  },
  {
   "cell_type": "code",
   "execution_count": null,
   "metadata": {},
   "outputs": [],
   "source": []
  },
  {
   "cell_type": "code",
   "execution_count": null,
   "metadata": {},
   "outputs": [],
   "source": []
  },
  {
   "cell_type": "code",
   "execution_count": null,
   "metadata": {},
   "outputs": [],
   "source": []
  },
  {
   "cell_type": "code",
   "execution_count": null,
   "metadata": {},
   "outputs": [],
   "source": []
  },
  {
   "cell_type": "code",
   "execution_count": null,
   "metadata": {},
   "outputs": [],
   "source": []
  },
  {
   "cell_type": "code",
   "execution_count": null,
   "metadata": {},
   "outputs": [],
   "source": []
  },
  {
   "cell_type": "markdown",
   "metadata": {},
   "source": [
    "## Appendix"
   ]
  },
  {
   "cell_type": "raw",
   "metadata": {},
   "source": [
    "def draw_user_activity(userid):\n",
    "    x1 = goals_output[goals_output['userId']==userid]['weekNumber'].values\n",
    "    y1 = goals_output[goals_output['userId']==userid]['goals_num'].values\n",
    "    \n",
    "    x2 = reminders_output[reminders_output['userId']==userid]['weekNumber'].values\n",
    "    y2 = reminders_output[reminders_output['userId']==userid]['tasks_num'].values\n",
    "    \n",
    "    x3 = slider_output[slider_output['userId']==userid]['weekNumber'].values\n",
    "    y3 = slider_output[slider_output['userId']==userid]['sliderPercentage'].values\n",
    "    \n",
    "    \n",
    "    fig, axs = plt.subplots(1,3,figsize=(20,5))\n",
    "    fig.suptitle(f'User activity: goals, reminders, slider of user {userid}')\n",
    "    axs[0].plot(x1,y1,'ro--')\n",
    "    axs[0].set_xlim(3,13)\n",
    "    axs[0].set_ylim(0,5)\n",
    "    axs[0].set_xlabel('Week Number')\n",
    "    axs[0].set_title(f'Goals')\n",
    "    axs[1].plot(x2,y2,'bo--')\n",
    "    axs[1].set_xlim(3,13)\n",
    "    axs[1].set_ylim(0,4)\n",
    "    axs[1].set_xlabel('Week Number')\n",
    "    axs[1].set_title(f'Reminders/Tasks')\n",
    "    axs[2].plot(x3,y3,'go--')\n",
    "    axs[2].set_xlim(3,13)\n",
    "    axs[2].set_xlabel('Week Number')\n",
    "    axs[2].set_title(f'Slider')\n",
    "\n",
    "def draw_user_activity_weekcontent(userid):\n",
    "    x1 = goals_output[goals_output['userId']==userid]['WeekContent'].values\n",
    "    y1 = goals_output[goals_output['userId']==userid]['goals_num'].values\n",
    "    \n",
    "    x2 = reminders_output[reminders_output['userId']==userid]['WeekContent'].values\n",
    "    y2 = reminders_output[reminders_output['userId']==userid]['tasks_num'].values\n",
    "    \n",
    "    x3 = slider_output[slider_output['userId']==userid]['weekNumber'].values\n",
    "    y3 = slider_output[slider_output['userId']==userid]['sliderPercentage'].values\n",
    "    \n",
    "    \n",
    "    fig, axs = plt.subplots(1,3,figsize=(20,5))\n",
    "    fig.suptitle(f'User activity: goals, reminders, slider of user {userid}')\n",
    "    axs[0].plot(x1,y1,'ro--')\n",
    "    axs[0].set_xlim(3,13)\n",
    "    axs[0].set_ylim(0,5)\n",
    "    axs[0].set_xlabel('Week Content')\n",
    "    axs[0].set_title(f'Goals')\n",
    "    axs[1].plot(x2,y2,'bo--')\n",
    "    axs[1].set_xlim(3,13)\n",
    "    axs[1].set_ylim(0,4)\n",
    "    axs[1].set_xlabel('Week Content')\n",
    "    axs[1].set_title(f'Reminders/Tasks')\n",
    "    axs[2].plot(x3,y3,'go--')\n",
    "    axs[2].set_xlim(3\n",
    "                    ,13)\n",
    "    axs[2].set_xlabel('Week Number')\n",
    "    axs[2].set_title(f'Slider')"
   ]
  },
  {
   "cell_type": "markdown",
   "metadata": {},
   "source": [
    "### - Usage graph by group: simple scatter"
   ]
  },
  {
   "cell_type": "raw",
   "metadata": {},
   "source": [
    "def draw_user_activity_group(userid_set,course_list):\n",
    "    x1 = goals_output[(goals_output['Course'].isin(course_list))\\\n",
    "                       &(goals_output['userId'].isin(userid_set))]['weekDate'].values\n",
    "    y1 = goals_output[(goals_output['Course'].isin(course_list))\\\n",
    "                       &(goals_output['userId'].isin(userid_set))]['goals_num'].values\n",
    "    \n",
    "    x2 = reminders_output[(reminders_output['Course'].isin(course_list))\\\n",
    "                          &(reminders_output['userId'].isin(userid_set))]['weekDate'].values\n",
    "    y2 = reminders_output[(reminders_output['Course'].isin(course_list))\\\n",
    "                          &(reminders_output['userId'].isin(userid_set))]['tasks_num'].values\n",
    "    \n",
    "    x3 = slider_output[(slider_output['Course'].isin(course_list))\\\n",
    "                          &(slider_output['userId'].isin(userid_set))]['weekDate'].values\n",
    "    y3 = slider_output[(slider_output['Course'].isin(course_list))\\\n",
    "                          &(slider_output['userId'].isin(userid_set))]['sliderFrequency'].values\n",
    "    \n",
    "    fig, axs = plt.subplots(1,1,figsize=(7,5))\n",
    "    axs.plot(x1,y1,'ro',label='Goals')\n",
    "    axs.plot(x2,y2,'bo',label='Reminders')\n",
    "    axs.plot(x3,y3,'go',label='Slider')\n",
    "    axs.legend(markerscale=0.2)\n",
    "    axs.set_title(f'User activity: Frequency of goals, reminders, slider of user')\n",
    "    axs.set_xlabel('Week Number')"
   ]
  },
  {
   "cell_type": "raw",
   "metadata": {},
   "source": [
    "#draw_user_activity_group(high_grade_userid,['BAMM101'])"
   ]
  },
  {
   "cell_type": "raw",
   "metadata": {},
   "source": [
    "#draw_user_activity_group(low_grade_userid,['BAMM101'])"
   ]
  },
  {
   "cell_type": "markdown",
   "metadata": {},
   "source": [
    "### 7.8 Difference of usage patterns among groups"
   ]
  },
  {
   "cell_type": "markdown",
   "metadata": {},
   "source": [
    "- plot the frequency plot?\n",
    "    - i.e. Goals\n",
    "    - x: 1,2,3,4\n",
    "    - y: frequency\n",
    "- test whether the means come from the same population?\n",
    "\n",
    "##### Set user group: Course, grade(or other parameter)"
   ]
  },
  {
   "cell_type": "raw",
   "metadata": {},
   "source": [
    "# user id set\n",
    "high_grade_userid = Learner_grade[Learner_grade['Grade']>=60]['userId'].values\n",
    "low_grade_userid  = Learner_grade[Learner_grade['Grade']< 60]['userId'].values"
   ]
  },
  {
   "cell_type": "raw",
   "metadata": {},
   "source": [
    "#high_goal = goals_output[goals_output['userId'].isin(high_grade_userid)][['userId','courweekNumberseId','Grade']]\n"
   ]
  },
  {
   "cell_type": "raw",
   "metadata": {},
   "source": [
    "low_goal = goals_output[goals_output['userId'].isin(low_grade_userid)]\n",
    "low_goal.head(5)"
   ]
  }
 ],
 "metadata": {
  "kernelspec": {
   "display_name": "Python 3",
   "language": "python",
   "name": "python3"
  },
  "language_info": {
   "codemirror_mode": {
    "name": "ipython",
    "version": 3
   },
   "file_extension": ".py",
   "mimetype": "text/x-python",
   "name": "python",
   "nbconvert_exporter": "python",
   "pygments_lexer": "ipython3",
   "version": "3.7.4"
  }
 },
 "nbformat": 4,
 "nbformat_minor": 4
}
